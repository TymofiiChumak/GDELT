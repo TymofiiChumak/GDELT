{
 "cells": [
  {
   "cell_type": "code",
   "execution_count": 52,
   "metadata": {},
   "outputs": [],
   "source": [
    "import numpy as np\n",
    "import pandas as pd\n",
    "import plotly_express as px\n",
    "import plotly.graph_objs as go"
   ]
  },
  {
   "cell_type": "code",
   "execution_count": 2,
   "metadata": {},
   "outputs": [],
   "source": [
    "from google.cloud import bigquery\n",
    "client = bigquery.Client.from_service_account_json(\n",
    "        'google_cloud_credentials.json')"
   ]
  },
  {
   "cell_type": "code",
   "execution_count": 3,
   "metadata": {},
   "outputs": [],
   "source": [
    "def get_result_dataframe(query, index_col_name=None, datetime_cols=None, year_month_cols=None):\n",
    "    query_job = client.query(query) \n",
    "    rows = []\n",
    "    for row in query_job: \n",
    "        rows.append(pd.Series(dict(row.items())))\n",
    "    df = pd.DataFrame(rows)\n",
    "    if datetime_cols is not None:\n",
    "        for datetime_col in datetime_cols:\n",
    "            df[datetime_col] = pd.to_datetime(df[datetime_col], format='%Y%m%d', errors='ignore')\n",
    "    if year_month_cols is not None:\n",
    "        for year_month_col in year_month_cols:\n",
    "            to_date = lambda ym: pd.Timestamp(year=int(ym / 100), month=int(ym % 100), day=1)\n",
    "            df[year_month_col] = df[year_month_col].apply(to_date)\n",
    "    if index_col_name is not None:\n",
    "        df.index = df[index_col_name]\n",
    "        df.drop([index_col_name], inplace=True, axis=1)\n",
    "    return(df)"
   ]
  },
  {
   "cell_type": "code",
   "execution_count": 6,
   "metadata": {},
   "outputs": [],
   "source": [
    "query = \"\"\"\n",
    "SELECT Actor1Geo_CountryCode AS Actor1Geo,\n",
    "       Actor2Geo_CountryCode AS Actor2Geo,\n",
    "       SUM(AvgTone * NumMentions) / SUM(NumMentions) * count(*) AS AvgTone\n",
    "FROM `gdelt-bq.full.events`\n",
    "WHERE MonthYear >= 201303\n",
    "AND MonthYear < 201905\n",
    "AND Actor1Geo_CountryCode IS NOT NULL\n",
    "AND Actor2Geo_CountryCode IS NOT NULL\n",
    "GROUP BY Actor1Geo_CountryCode, Actor2Geo_CountryCode\n",
    "ORDER BY Actor1Geo_CountryCode, Actor2Geo_CountryCode\n",
    "\"\"\""
   ]
  },
  {
   "cell_type": "code",
   "execution_count": 7,
   "metadata": {},
   "outputs": [],
   "source": [
    "df = get_result_dataframe(query)"
   ]
  },
  {
   "cell_type": "code",
   "execution_count": 8,
   "metadata": {},
   "outputs": [],
   "source": [
    "#df.to_pickle('df_dump3.pickle')\n",
    "df = pd.read_pickle('df_dump2.pickle')"
   ]
  },
  {
   "cell_type": "code",
   "execution_count": 108,
   "metadata": {},
   "outputs": [
    {
     "name": "stdout",
     "output_type": "stream",
     "text": [
      "(210, 252, 252)\n",
      "(210, 210)\n"
     ]
    }
   ],
   "source": [
    "treshold = 25000\n",
    "\n",
    "actor1_geo_count = pd.read_csv('actor1_geo_count.csv').dropna()\n",
    "actor2_geo_count = pd.read_csv('actor2_geo_count.csv').dropna()\n",
    "a1_countries = set(actor1_geo_count[actor1_geo_count['Count'] >= treshold]['Actor1Geo_CountryCode'])\n",
    "a2_countries = set(actor2_geo_count[actor2_geo_count['Count'] >= treshold]['Actor2Geo_CountryCode'])\n",
    "countries_to_leave = list(a1_countries.intersection(a2_countries))\n",
    "print(len(countries_to_leave), df.Actor1Geo.nunique(), df.Actor2Geo.nunique())\n",
    "\n",
    "df = df[(df['Actor1Geo'].isin(countries_to_leave)) & (df['Actor2Geo'].isin(countries_to_leave))]\n",
    "print(df.Actor1Geo.nunique(), df.Actor2Geo.nunique())"
   ]
  },
  {
   "cell_type": "code",
   "execution_count": 109,
   "metadata": {},
   "outputs": [
    {
     "data": {
      "text/plain": [
       "(44100, 44100)"
      ]
     },
     "execution_count": 109,
     "metadata": {},
     "output_type": "execute_result"
    }
   ],
   "source": [
    "df.shape[0], len(countries_to_leave) ** 2"
   ]
  },
  {
   "cell_type": "code",
   "execution_count": 110,
   "metadata": {},
   "outputs": [],
   "source": [
    "df.sort_values(['Actor1Geo', 'Actor2Geo'], inplace=True)"
   ]
  },
  {
   "cell_type": "code",
   "execution_count": 111,
   "metadata": {},
   "outputs": [],
   "source": [
    "from itertools import product\n",
    "\n",
    "index = pd.MultiIndex.from_product((countries_to_leave, countries_to_leave),\n",
    "                                   names=['Actor1Geo', 'Actor2Geo']\n",
    "                                  )\n",
    "\n",
    "df.index = pd.MultiIndex.from_arrays((df['Actor1Geo'], df['Actor2Geo']),\n",
    "                                     names=['Actor1Geo', 'Actor2Geo']\n",
    "                                    )\n",
    "df.drop(['Actor1Geo', 'Actor2Geo'], axis=1, inplace=True)\n",
    "\n",
    "df = df.reindex(index, fill_value=0.0).reset_index()\n",
    "\n",
    "\n",
    "assert df.groupby('Actor1Geo')['Actor2Geo'].count().nunique() == 1\n",
    "df.sort_values(['Actor1Geo', 'Actor2Geo'], inplace=True)"
   ]
  },
  {
   "cell_type": "code",
   "execution_count": 112,
   "metadata": {},
   "outputs": [],
   "source": [
    "dist_matrix = df['AvgTone'].values.reshape((-1, df.groupby('Actor1Geo')['Actor2Geo'].count().unique()[0]))"
   ]
  },
  {
   "cell_type": "code",
   "execution_count": 113,
   "metadata": {},
   "outputs": [],
   "source": [
    "labels_idx = pd.Series(df['Actor1Geo'].unique(), name='country_id')\n",
    "country_index_to_name_mapping = pd.read_csv('FIPS.country.csv', \n",
    "                                            sep='\\t',\n",
    "                                            names=['index', 'name'],\n",
    "                                            index_col='index'\n",
    "                                           )['name']\n",
    "labels = labels_idx.map(country_index_to_name_mapping)"
   ]
  },
  {
   "cell_type": "code",
   "execution_count": 115,
   "metadata": {},
   "outputs": [],
   "source": [
    "from sklearn.manifold import TSNE\n",
    "model = TSNE(\n",
    "    perplexity=5,\n",
    "    early_exaggeration=10,\n",
    "    learning_rate=50,\n",
    ")"
   ]
  },
  {
   "cell_type": "code",
   "execution_count": 98,
   "metadata": {},
   "outputs": [],
   "source": [
    "from sklearn.manifold import MDS\n",
    "model = MDS(dissimilarity='precomputed')"
   ]
  },
  {
   "cell_type": "code",
   "execution_count": 116,
   "metadata": {},
   "outputs": [],
   "source": [
    "transformed = model.fit_transform((dist_matrix + dist_matrix.T) / 2)\n",
    "\n",
    "transformed_df = pd.DataFrame({\"x\": transformed[:,0],\n",
    "                               \"y\": transformed[:,1],\n",
    "                               \"label\": labels,\n",
    "                              })"
   ]
  },
  {
   "cell_type": "code",
   "execution_count": 117,
   "metadata": {},
   "outputs": [
    {
     "data": {
      "application/vnd.plotly.v1+json": {
       "config": {
        "linkText": "Export to plot.ly",
        "plotlyServerURL": "https://plot.ly",
        "showLink": false
       },
       "data": [
        {
         "hoverlabel": {
          "namelength": 0
         },
         "hovertemplate": "<b>%{hovertext}</b><br><br>x=%{x}<br>y=%{y}",
         "hovertext": [
          "Antigua and Barbuda",
          "United Arab Emirates",
          "Afghanistan",
          "Algeria",
          "Azerbaijan",
          "Albania",
          "Armenia",
          "Angola",
          "Argentina",
          "Australia",
          "Austria",
          "Antarctica",
          "Bahrain",
          "Barbados",
          "Botswana",
          "Bermuda",
          "Belgium",
          "Bahamas, The",
          "Bangladesh",
          "Belize",
          "Bosnia-Herzegovina",
          "Bolivia",
          "Myanmar",
          "Benin",
          "Belarus",
          "Solomon Islands",
          "Brazil",
          "Bhutan",
          "Bulgaria",
          "Brunei",
          "Burundi",
          "Canada",
          "Cambodia",
          "Chad",
          "Sri Lanka",
          "Congo",
          "Democratic Republic of the Congo",
          "China",
          "Chile",
          "Cayman Islands",
          "Cameroon",
          "Comoros",
          "Colombia",
          "Northern Mariana Islands",
          "Costa Rica",
          "Central African Republic",
          "Cuba",
          "Cook Islands",
          "Cyprus",
          "Denmark",
          "Djibouti",
          "Dominica",
          "Dominican Republic",
          "Ecuador",
          "Egypt",
          "Ireland",
          "Equatorial Guinea",
          "Estonia",
          "Eritrea",
          "El Salvador",
          "Ethiopia",
          "Czech Republic",
          "Finland",
          "Fiji",
          "Micronesia",
          "France",
          "Gambia",
          "Gabon",
          "Georgia",
          "Ghana",
          "Gibraltar",
          "Grenada",
          "Guernsey",
          "Greenland",
          "Germany",
          "Guam",
          "Greece",
          "Guatemala",
          "Equatorial Guinea",
          "Guyana",
          "Gaza Strip",
          "Haiti",
          "Hong Kong",
          "Honduras",
          "Croatia",
          "Hungary",
          "Iceland",
          "Indonesia",
          "India",
          "Iran",
          "Israel",
          "Italy",
          "Cote dIvoire",
          "Iraq",
          "Japan",
          "Jersey",
          "Jamaica",
          "Jordan",
          "Kenya",
          "Kyrgyzstan",
          "North Korea",
          "South Korea",
          "Kuwait",
          "Kosovo",
          "Kazakhstan",
          "Laos",
          "Lebanon",
          "Latvia",
          "Lithuania",
          "Liberia",
          "Czechoslovakia",
          "Lesotho",
          "Luxembourg",
          "Libya",
          "Madagascar",
          "Macau",
          "Moldova",
          "Mongolia",
          "Montserrat",
          "Malawi",
          "Montenegro",
          "Macedonia",
          "Mali",
          "Monaco",
          "Morocco",
          "Mauritius",
          "Mauritania",
          "Malta",
          "Oman",
          "Maldives",
          "Mexico",
          "Malaysia",
          "Mozambique",
          "Niger",
          "Vanuatu",
          "Nigeria",
          "Netherlands",
          "Norway",
          "Nepal",
          "Nauru",
          "Suriname",
          "Nicaragua",
          "New Zealand",
          null,
          "South Sudan",
          "Oceans",
          "Paraguay",
          "Peru",
          "Pakistan",
          "Poland",
          "Panama",
          "Portugal",
          "Papua New Guinea",
          "Palau",
          "Guinea-Bissau",
          "Qatar",
          null,
          "Serbia",
          "Marshall Islands",
          "Romania",
          "Philippines",
          "Puerto Rico",
          "Russia",
          "Rwanda",
          "Saudi Arabia",
          "Seychelles",
          "South Africa",
          "Senegal",
          "Slovenia",
          "Sierra Leone",
          "Singapore",
          "Somalia",
          "Spain",
          "Saint Lucia",
          "Sudan",
          "Sweden",
          "Syria",
          "Switzerland",
          "Trinidad and Tobago",
          "Thailand",
          "Tajikistan",
          "Tonga",
          "Togo",
          "Tunisia",
          "East Timor",
          "Turkey",
          "Taiwan",
          "Turkmenistan",
          "Tanzania",
          "Uganda",
          "United Kingdom",
          "Ukraine",
          "United States",
          "Burkina Faso",
          "Uruguay",
          "Uzbekistan",
          "Saint Vincent and the Grenadines",
          "Venezuela",
          "Vietnam, Democratic Republic of",
          "Virgin Islands",
          "Vatican City",
          "Namibia",
          "West Bank",
          "Western Sahara",
          "Samoa",
          "Swaziland",
          null,
          "Yemen",
          "Zambia",
          "Zimbabwe"
         ],
         "legendgroup": "",
         "marker": {
          "color": "#636efa",
          "symbol": "circle"
         },
         "mode": "markers",
         "name": "",
         "showlegend": false,
         "type": "scatter",
         "uid": "e5c16c69-31f2-4f08-bbbd-e5c287e1f3ac",
         "x": [
          -1.4735833406448364,
          1.532691478729248,
          -13.332063674926758,
          -14.70014476776123,
          8.356313705444336,
          -2.613741874694824,
          8.509739875793457,
          7.060054302215576,
          5.767771244049072,
          -22.381887435913086,
          -5.492345333099365,
          4.982742786407471,
          -6.936792850494385,
          19.274667739868164,
          12.72758674621582,
          8.317411422729492,
          -24.571945190429688,
          8.497536659240723,
          -3.8354907035827637,
          17.25086784362793,
          -7.955297470092773,
          8.829679489135742,
          5.4257001876831055,
          7.402099609375,
          13.167304039001465,
          3.4018967151641846,
          -5.104301929473877,
          16.107786178588867,
          -5.276147365570068,
          -4.8783488273620605,
          -12.76864242553711,
          -24.361154556274414,
          0.05845335125923157,
          0.6856611371040344,
          -21.00382423400879,
          -11.50013256072998,
          -12.253460884094238,
          12.053845405578613,
          0.07412946969270706,
          12.406017303466797,
          1.92282235622406,
          -7.265904426574707,
          4.80103874206543,
          6.737198352813721,
          15.033639907836914,
          -0.7758235931396484,
          7.631854057312012,
          10.028258323669434,
          14.215364456176758,
          10.439112663269043,
          20.607664108276367,
          17.11844253540039,
          8.193011283874512,
          -15.128569602966309,
          -14.208946228027344,
          -2.8896775245666504,
          2.006871223449707,
          5.544073581695557,
          3.7141215801239014,
          7.070887088775635,
          -10.012042999267578,
          6.442112922668457,
          2.0433387756347656,
          9.02381706237793,
          9.819242477416992,
          -24.065052032470703,
          11.54185962677002,
          2.981614112854004,
          5.987748146057129,
          21.42811393737793,
          0.8120257258415222,
          11.52383041381836,
          -2.1369709968566895,
          6.991488933563232,
          -24.198728561401367,
          -7.208126068115234,
          2.0238702297210693,
          2.8430256843566895,
          4.469746112823486,
          16.036869049072266,
          -14.782986640930176,
          7.7909159660339355,
          8.78652286529541,
          11.77720832824707,
          11.512835502624512,
          -3.2068190574645996,
          8.526288032531738,
          -13.704435348510742,
          -2.6399693489074707,
          -22.564193725585938,
          -16.12646484375,
          -11.844860076904297,
          9.16129207611084,
          -24.47342872619629,
          1.9822138547897339,
          5.028770923614502,
          9.535810470581055,
          19.35722541809082,
          12.269837379455566,
          12.725512504577637,
          -20.598527908325195,
          10.488293647766113,
          14.596587181091309,
          -6.43953275680542,
          21.546157836914062,
          7.2025465965271,
          -7.8865885734558105,
          8.602739334106445,
          6.452434062957764,
          0.5070340633392334,
          -2.968752145767212,
          14.061123847961426,
          14.824421882629395,
          -23.123926162719727,
          9.978716850280762,
          6.369598865509033,
          7.1310954093933105,
          3.418968439102173,
          11.556205749511719,
          14.976112365722656,
          6.137763977050781,
          2.019139051437378,
          -3.581406831741333,
          10.429096221923828,
          20.941097259521484,
          20.06546401977539,
          1.9265261888504028,
          -0.5475068688392639,
          17.297609329223633,
          18.555130004882812,
          -2.4995861053466797,
          2.6714837551116943,
          -7.588150978088379,
          -3.718104124069214,
          4.7025465965271,
          -0.6027154326438904,
          -22.445425033569336,
          6.915907859802246,
          16.701129913330078,
          -5.399589538574219,
          10.6353759765625,
          -7.18352746963501,
          -24.396480560302734,
          -6.708899974822998,
          3.5279924869537354,
          -12.05533504486084,
          3.6675302982330322,
          -5.6901044845581055,
          -7.927677154541016,
          -0.05969364941120148,
          6.928864002227783,
          1.24795663356781,
          2.929025650024414,
          8.922231674194336,
          12.309391975402832,
          16.66229820251465,
          -7.9491119384765625,
          -6.821939945220947,
          8.649237632751465,
          6.4555487632751465,
          -20.01317024230957,
          -8.809983253479004,
          -22.79462432861328,
          0.3912509083747864,
          -19.461042404174805,
          13.55896282196045,
          16.96102523803711,
          5.611686706542969,
          7.211442947387695,
          12.48387336730957,
          2.7997708320617676,
          -23.043550491333008,
          -6.179540634155273,
          13.169814109802246,
          -22.223722457885742,
          5.426426410675049,
          -24.655750274658203,
          -25.976924896240234,
          9.609797477722168,
          5.691812515258789,
          1.3102186918258667,
          13.6427583694458,
          10.458470344543457,
          -4.8532819747924805,
          11.338778495788574,
          -19.72205924987793,
          14.286334037780762,
          14.425786972045898,
          3.8809328079223633,
          1.4079574346542358,
          -22.066871643066406,
          -0.3226988911628723,
          -23.381059646606445,
          -1.654397964477539,
          9.780898094177246,
          1.814841866493225,
          4.413808345794678,
          -21.921693801879883,
          14.374919891357422,
          7.6337690353393555,
          -5.557046413421631,
          3.9763522148132324,
          -14.870434761047363,
          1.3490509986877441,
          12.740663528442383,
          7.171658515930176,
          -6.888218402862549,
          -22.915157318115234,
          14.684063911437988,
          -6.2289719581604
         ],
         "xaxis": "x",
         "y": [
          5.6998090744018555,
          -1.7223196029663086,
          -12.130036354064941,
          -1.1231250762939453,
          -7.076360702514648,
          6.1063947677612305,
          0.14122715592384338,
          -2.7438035011291504,
          -6.5312724113464355,
          4.883238792419434,
          13.233990669250488,
          0.42431381344795227,
          0.26987698674201965,
          -3.1880407333374023,
          7.194492340087891,
          6.8337836265563965,
          6.031765937805176,
          -3.446284055709839,
          -1.5840705633163452,
          -1.6407430171966553,
          12.884971618652344,
          -0.9530266523361206,
          3.731433629989624,
          -1.4559096097946167,
          -3.2797365188598633,
          3.230637788772583,
          4.180502891540527,
          2.2688794136047363,
          -3.1966347694396973,
          -12.080039978027344,
          -12.187185287475586,
          3.2081010341644287,
          -7.06146240234375,
          0.12397704273462296,
          0.4011860191822052,
          -12.631288528442383,
          -12.301726341247559,
          -7.680868148803711,
          -5.082617282867432,
          -5.032165050506592,
          -12.094776153564453,
          4.919057846069336,
          -8.206929206848145,
          -1.0924758911132812,
          -2.0886662006378174,
          -13.486632347106934,
          -8.257790565490723,
          -0.35656189918518066,
          -6.536458492279053,
          -12.967679023742676,
          -8.212977409362793,
          4.7452192306518555,
          -1.993066668510437,
          2.6536478996276855,
          0.3613276481628418,
          -4.6599955558776855,
          -10.930727005004883,
          2.0846564769744873,
          -0.6694417595863342,
          9.910333633422852,
          -8.391079902648926,
          -9.675434112548828,
          -8.880555152893066,
          2.9313242435455322,
          -1.9500868320465088,
          4.362813472747803,
          -2.588202714920044,
          8.318655967712402,
          -0.30264484882354736,
          -3.2990283966064453,
          -4.620208263397217,
          -1.068103313446045,
          5.393567085266113,
          -7.118196964263916,
          5.412508010864258,
          -7.7223944664001465,
          -5.533093452453613,
          7.638330459594727,
          -11.250874519348145,
          7.940927982330322,
          1.5931764841079712,
          1.4736272096633911,
          -5.271767616271973,
          -10.353260040283203,
          1.8660759925842285,
          9.5238676071167,
          -15.797043800354004,
          2.2432124614715576,
          -5.193336009979248,
          1.9162404537200928,
          0.7516036629676819,
          -2.392427921295166,
          12.231588363647461,
          0.7330294847488403,
          1.3702837228775024,
          -1.3237859010696411,
          1.0228580236434937,
          7.717011451721191,
          4.853814601898193,
          -0.06598855555057526,
          1.1780214309692383,
          -6.253241062164307,
          -14.429333686828613,
          12.575468063354492,
          4.2286272048950195,
          -4.438309192657471,
          -7.223400592803955,
          -10.474570274353027,
          0.9753494262695312,
          8.807977676391602,
          1.2424962520599365,
          3.1649186611175537,
          -0.017221104353666306,
          -3.6543543338775635,
          -2.7107295989990234,
          -1.3349000215530396,
          -6.419749736785889,
          -5.352431297302246,
          -0.35798904299736023,
          -4.338621139526367,
          7.365649223327637,
          15.290993690490723,
          -13.383086204528809,
          3.4905407428741455,
          -8.480843544006348,
          -0.016563666984438896,
          -0.39955028891563416,
          -3.1605429649353027,
          -4.6329121589660645,
          2.3757424354553223,
          -7.935864448547363,
          -16.340822219848633,
          5.42332649230957,
          -12.811728477478027,
          5.557314872741699,
          1.5320264101028442,
          7.160006999969482,
          5.1166510581970215,
          -7.565585136413574,
          -0.9768586158752441,
          -4.20902156829834,
          -8.680986404418945,
          -1.551049828529358,
          3.414217472076416,
          9.651165962219238,
          -2.0367729663848877,
          -2.5327603816986084,
          -1.171090006828308,
          2.938899040222168,
          2.6517996788024902,
          -12.810224533081055,
          -4.073884010314941,
          3.744422435760498,
          2.2580506801605225,
          1.9728963375091553,
          0.5874897241592407,
          12.50626277923584,
          11.056652069091797,
          4.69373893737793,
          -7.79681396484375,
          4.934668064117432,
          -4.802123546600342,
          3.5848617553710938,
          14.216514587402344,
          -2.310333013534546,
          1.613369345664978,
          -11.387829780578613,
          -3.9988720417022705,
          3.0151796340942383,
          2.9281485080718994,
          -7.2122907638549805,
          -3.0672354698181152,
          -7.209554195404053,
          -1.490465760231018,
          -1.6370251178741455,
          13.701505661010742,
          0.22174383699893951,
          3.802262306213379,
          -8.565059661865234,
          -2.446357488632202,
          14.012831687927246,
          10.02016830444336,
          6.240533828735352,
          0.15609344840049744,
          0.4454895257949829,
          1.4674021005630493,
          10.4365816116333,
          -13.667143821716309,
          -15.32712173461914,
          5.462493896484375,
          3.604011058807373,
          -0.8471122980117798,
          3.8693158626556396,
          -10.464895248413086,
          8.835844039916992,
          13.318455696105957,
          -3.761549949645996,
          1.603509545326233,
          -9.270689010620117,
          -0.5824989676475525,
          -10.920206069946289,
          1.2787437438964844,
          0.7092291116714478,
          -0.3519001305103302,
          10.311755180358887,
          0.10297606885433197,
          12.100103378295898,
          -1.9934393167495728,
          5.550073623657227,
          2.8446743488311768
         ],
         "yaxis": "y"
        }
       ],
       "layout": {
        "grid": {
         "xaxes": [
          "x"
         ],
         "xgap": 0.1,
         "xside": "bottom",
         "yaxes": [
          "y"
         ],
         "ygap": 0.1,
         "yside": "left"
        },
        "height": 600,
        "legend": {
         "tracegroupgap": 0
        },
        "margin": {
         "t": 60
        },
        "template": {
         "data": {
          "bar": [
           {
            "marker": {
             "line": {
              "color": "#E5ECF6",
              "width": 0.5
             }
            },
            "type": "bar"
           }
          ],
          "barpolar": [
           {
            "marker": {
             "line": {
              "color": "#E5ECF6",
              "width": 0.5
             }
            },
            "type": "barpolar"
           }
          ],
          "carpet": [
           {
            "aaxis": {
             "endlinecolor": "#2a3f5f",
             "gridcolor": "white",
             "linecolor": "white",
             "minorgridcolor": "white",
             "startlinecolor": "#2a3f5f"
            },
            "baxis": {
             "endlinecolor": "#2a3f5f",
             "gridcolor": "white",
             "linecolor": "white",
             "minorgridcolor": "white",
             "startlinecolor": "#2a3f5f"
            },
            "type": "carpet"
           }
          ],
          "choropleth": [
           {
            "colorbar": {
             "outlinewidth": 0,
             "ticks": ""
            },
            "type": "choropleth"
           }
          ],
          "contour": [
           {
            "colorbar": {
             "outlinewidth": 0,
             "ticks": ""
            },
            "colorscale": [
             [
              0,
              "#0508b8"
             ],
             [
              0.0893854748603352,
              "#1910d8"
             ],
             [
              0.1787709497206704,
              "#3c19f0"
             ],
             [
              0.2681564245810056,
              "#6b1cfb"
             ],
             [
              0.3575418994413408,
              "#981cfd"
             ],
             [
              0.44692737430167595,
              "#bf1cfd"
             ],
             [
              0.5363128491620112,
              "#dd2bfd"
             ],
             [
              0.6256983240223464,
              "#f246fe"
             ],
             [
              0.7150837988826816,
              "#fc67fd"
             ],
             [
              0.8044692737430168,
              "#fe88fc"
             ],
             [
              0.8938547486033519,
              "#fea5fd"
             ],
             [
              0.9832402234636871,
              "#febefe"
             ],
             [
              1,
              "#fec3fe"
             ]
            ],
            "type": "contour"
           }
          ],
          "contourcarpet": [
           {
            "colorbar": {
             "outlinewidth": 0,
             "ticks": ""
            },
            "type": "contourcarpet"
           }
          ],
          "heatmap": [
           {
            "colorbar": {
             "outlinewidth": 0,
             "ticks": ""
            },
            "colorscale": [
             [
              0,
              "#0508b8"
             ],
             [
              0.0893854748603352,
              "#1910d8"
             ],
             [
              0.1787709497206704,
              "#3c19f0"
             ],
             [
              0.2681564245810056,
              "#6b1cfb"
             ],
             [
              0.3575418994413408,
              "#981cfd"
             ],
             [
              0.44692737430167595,
              "#bf1cfd"
             ],
             [
              0.5363128491620112,
              "#dd2bfd"
             ],
             [
              0.6256983240223464,
              "#f246fe"
             ],
             [
              0.7150837988826816,
              "#fc67fd"
             ],
             [
              0.8044692737430168,
              "#fe88fc"
             ],
             [
              0.8938547486033519,
              "#fea5fd"
             ],
             [
              0.9832402234636871,
              "#febefe"
             ],
             [
              1,
              "#fec3fe"
             ]
            ],
            "type": "heatmap"
           }
          ],
          "heatmapgl": [
           {
            "colorbar": {
             "outlinewidth": 0,
             "ticks": ""
            },
            "type": "heatmapgl"
           }
          ],
          "histogram": [
           {
            "marker": {
             "colorbar": {
              "outlinewidth": 0,
              "ticks": ""
             }
            },
            "type": "histogram"
           }
          ],
          "histogram2d": [
           {
            "colorbar": {
             "outlinewidth": 0,
             "ticks": ""
            },
            "colorscale": [
             [
              0,
              "#0508b8"
             ],
             [
              0.0893854748603352,
              "#1910d8"
             ],
             [
              0.1787709497206704,
              "#3c19f0"
             ],
             [
              0.2681564245810056,
              "#6b1cfb"
             ],
             [
              0.3575418994413408,
              "#981cfd"
             ],
             [
              0.44692737430167595,
              "#bf1cfd"
             ],
             [
              0.5363128491620112,
              "#dd2bfd"
             ],
             [
              0.6256983240223464,
              "#f246fe"
             ],
             [
              0.7150837988826816,
              "#fc67fd"
             ],
             [
              0.8044692737430168,
              "#fe88fc"
             ],
             [
              0.8938547486033519,
              "#fea5fd"
             ],
             [
              0.9832402234636871,
              "#febefe"
             ],
             [
              1,
              "#fec3fe"
             ]
            ],
            "type": "histogram2d"
           }
          ],
          "histogram2dcontour": [
           {
            "colorbar": {
             "outlinewidth": 0,
             "ticks": ""
            },
            "colorscale": [
             [
              0,
              "#0508b8"
             ],
             [
              0.0893854748603352,
              "#1910d8"
             ],
             [
              0.1787709497206704,
              "#3c19f0"
             ],
             [
              0.2681564245810056,
              "#6b1cfb"
             ],
             [
              0.3575418994413408,
              "#981cfd"
             ],
             [
              0.44692737430167595,
              "#bf1cfd"
             ],
             [
              0.5363128491620112,
              "#dd2bfd"
             ],
             [
              0.6256983240223464,
              "#f246fe"
             ],
             [
              0.7150837988826816,
              "#fc67fd"
             ],
             [
              0.8044692737430168,
              "#fe88fc"
             ],
             [
              0.8938547486033519,
              "#fea5fd"
             ],
             [
              0.9832402234636871,
              "#febefe"
             ],
             [
              1,
              "#fec3fe"
             ]
            ],
            "type": "histogram2dcontour"
           }
          ],
          "mesh3d": [
           {
            "colorbar": {
             "outlinewidth": 0,
             "ticks": ""
            },
            "type": "mesh3d"
           }
          ],
          "parcoords": [
           {
            "line": {
             "colorbar": {
              "outlinewidth": 0,
              "ticks": ""
             }
            },
            "type": "parcoords"
           }
          ],
          "scatter": [
           {
            "marker": {
             "colorbar": {
              "outlinewidth": 0,
              "ticks": ""
             }
            },
            "type": "scatter"
           }
          ],
          "scatter3d": [
           {
            "marker": {
             "colorbar": {
              "outlinewidth": 0,
              "ticks": ""
             }
            },
            "type": "scatter3d"
           }
          ],
          "scattercarpet": [
           {
            "marker": {
             "colorbar": {
              "outlinewidth": 0,
              "ticks": ""
             }
            },
            "type": "scattercarpet"
           }
          ],
          "scattergeo": [
           {
            "marker": {
             "colorbar": {
              "outlinewidth": 0,
              "ticks": ""
             }
            },
            "type": "scattergeo"
           }
          ],
          "scattergl": [
           {
            "marker": {
             "colorbar": {
              "outlinewidth": 0,
              "ticks": ""
             }
            },
            "type": "scattergl"
           }
          ],
          "scattermapbox": [
           {
            "marker": {
             "colorbar": {
              "outlinewidth": 0,
              "ticks": ""
             }
            },
            "type": "scattermapbox"
           }
          ],
          "scatterpolar": [
           {
            "marker": {
             "colorbar": {
              "outlinewidth": 0,
              "ticks": ""
             }
            },
            "type": "scatterpolar"
           }
          ],
          "scatterpolargl": [
           {
            "marker": {
             "colorbar": {
              "outlinewidth": 0,
              "ticks": ""
             }
            },
            "type": "scatterpolargl"
           }
          ],
          "scatterternary": [
           {
            "marker": {
             "colorbar": {
              "outlinewidth": 0,
              "ticks": ""
             }
            },
            "type": "scatterternary"
           }
          ],
          "surface": [
           {
            "colorbar": {
             "outlinewidth": 0,
             "ticks": ""
            },
            "type": "surface"
           }
          ],
          "table": [
           {
            "cells": {
             "fill": {
              "color": "#EBF0F8"
             },
             "line": {
              "color": "white"
             }
            },
            "header": {
             "fill": {
              "color": "#C8D4E3"
             },
             "line": {
              "color": "white"
             }
            },
            "type": "table"
           }
          ]
         },
         "layout": {
          "annotationdefaults": {
           "arrowcolor": "#506784",
           "arrowhead": 0,
           "arrowwidth": 1
          },
          "colorscale": {
           "diverging": [
            [
             0,
             "#8e0152"
            ],
            [
             0.1,
             "#c51b7d"
            ],
            [
             0.2,
             "#de77ae"
            ],
            [
             0.3,
             "#f1b6da"
            ],
            [
             0.4,
             "#fde0ef"
            ],
            [
             0.5,
             "#f7f7f7"
            ],
            [
             0.6,
             "#e6f5d0"
            ],
            [
             0.7,
             "#b8e186"
            ],
            [
             0.8,
             "#7fbc41"
            ],
            [
             0.9,
             "#4d9221"
            ],
            [
             1,
             "#276419"
            ]
           ],
           "sequential": [
            [
             0,
             "#0508b8"
            ],
            [
             0.0893854748603352,
             "#1910d8"
            ],
            [
             0.1787709497206704,
             "#3c19f0"
            ],
            [
             0.2681564245810056,
             "#6b1cfb"
            ],
            [
             0.3575418994413408,
             "#981cfd"
            ],
            [
             0.44692737430167595,
             "#bf1cfd"
            ],
            [
             0.5363128491620112,
             "#dd2bfd"
            ],
            [
             0.6256983240223464,
             "#f246fe"
            ],
            [
             0.7150837988826816,
             "#fc67fd"
            ],
            [
             0.8044692737430168,
             "#fe88fc"
            ],
            [
             0.8938547486033519,
             "#fea5fd"
            ],
            [
             0.9832402234636871,
             "#febefe"
            ],
            [
             1,
             "#fec3fe"
            ]
           ],
           "sequentialminus": [
            [
             0,
             "#0508b8"
            ],
            [
             0.0893854748603352,
             "#1910d8"
            ],
            [
             0.1787709497206704,
             "#3c19f0"
            ],
            [
             0.2681564245810056,
             "#6b1cfb"
            ],
            [
             0.3575418994413408,
             "#981cfd"
            ],
            [
             0.44692737430167595,
             "#bf1cfd"
            ],
            [
             0.5363128491620112,
             "#dd2bfd"
            ],
            [
             0.6256983240223464,
             "#f246fe"
            ],
            [
             0.7150837988826816,
             "#fc67fd"
            ],
            [
             0.8044692737430168,
             "#fe88fc"
            ],
            [
             0.8938547486033519,
             "#fea5fd"
            ],
            [
             0.9832402234636871,
             "#febefe"
            ],
            [
             1,
             "#fec3fe"
            ]
           ]
          },
          "colorway": [
           "#636efa",
           "#EF553B",
           "#00cc96",
           "#ab63fa",
           "#19d3f3",
           "#e763fa",
           "#FECB52",
           "#FFA15A",
           "#FF6692",
           "#B6E880"
          ],
          "font": {
           "color": "#2a3f5f"
          },
          "geo": {
           "bgcolor": "white",
           "lakecolor": "white",
           "landcolor": "#E5ECF6",
           "showlakes": true,
           "showland": true,
           "subunitcolor": "white"
          },
          "hoverlabel": {
           "align": "left"
          },
          "hovermode": "closest",
          "mapbox": {
           "style": "light"
          },
          "paper_bgcolor": "white",
          "plot_bgcolor": "#E5ECF6",
          "polar": {
           "angularaxis": {
            "gridcolor": "white",
            "linecolor": "white",
            "ticks": ""
           },
           "bgcolor": "#E5ECF6",
           "radialaxis": {
            "gridcolor": "white",
            "linecolor": "white",
            "ticks": ""
           }
          },
          "scene": {
           "xaxis": {
            "backgroundcolor": "#E5ECF6",
            "gridcolor": "white",
            "gridwidth": 2,
            "linecolor": "white",
            "showbackground": true,
            "ticks": "",
            "zerolinecolor": "white"
           },
           "yaxis": {
            "backgroundcolor": "#E5ECF6",
            "gridcolor": "white",
            "gridwidth": 2,
            "linecolor": "white",
            "showbackground": true,
            "ticks": "",
            "zerolinecolor": "white"
           },
           "zaxis": {
            "backgroundcolor": "#E5ECF6",
            "gridcolor": "white",
            "gridwidth": 2,
            "linecolor": "white",
            "showbackground": true,
            "ticks": "",
            "zerolinecolor": "white"
           }
          },
          "shapedefaults": {
           "fillcolor": "#506784",
           "line": {
            "width": 0
           },
           "opacity": 0.4
          },
          "ternary": {
           "aaxis": {
            "gridcolor": "white",
            "linecolor": "white",
            "ticks": ""
           },
           "baxis": {
            "gridcolor": "white",
            "linecolor": "white",
            "ticks": ""
           },
           "bgcolor": "#E5ECF6",
           "caxis": {
            "gridcolor": "white",
            "linecolor": "white",
            "ticks": ""
           }
          },
          "title": {
           "x": 0.05
          },
          "xaxis": {
           "automargin": true,
           "gridcolor": "white",
           "linecolor": "white",
           "ticks": "",
           "zerolinecolor": "white",
           "zerolinewidth": 2
          },
          "yaxis": {
           "automargin": true,
           "gridcolor": "white",
           "linecolor": "white",
           "ticks": "",
           "zerolinecolor": "white",
           "zerolinewidth": 2
          }
         }
        },
        "xaxis": {
         "title": {
          "text": "x"
         }
        },
        "yaxis": {
         "title": {
          "text": "y"
         }
        }
       }
      },
      "text/html": [
       "<div>\n",
       "        \n",
       "        \n",
       "            <div id=\"7963c11c-e9dc-4bda-a1a9-ed3a6b4cfed5\" class=\"plotly-graph-div\" style=\"height:600px; width:100%;\"></div>\n",
       "            <script type=\"text/javascript\">\n",
       "                require([\"plotly\"], function(Plotly) {\n",
       "                    window.PLOTLYENV=window.PLOTLYENV || {};\n",
       "                    window.PLOTLYENV.BASE_URL='https://plot.ly';\n",
       "                    \n",
       "                if (document.getElementById(\"7963c11c-e9dc-4bda-a1a9-ed3a6b4cfed5\")) {\n",
       "                    Plotly.newPlot(\n",
       "                        '7963c11c-e9dc-4bda-a1a9-ed3a6b4cfed5',\n",
       "                        [{\"hoverlabel\": {\"namelength\": 0}, \"hovertemplate\": \"<b>%{hovertext}</b><br><br>x=%{x}<br>y=%{y}\", \"hovertext\": [\"Antigua and Barbuda\", \"United Arab Emirates\", \"Afghanistan\", \"Algeria\", \"Azerbaijan\", \"Albania\", \"Armenia\", \"Angola\", \"Argentina\", \"Australia\", \"Austria\", \"Antarctica\", \"Bahrain\", \"Barbados\", \"Botswana\", \"Bermuda\", \"Belgium\", \"Bahamas, The\", \"Bangladesh\", \"Belize\", \"Bosnia-Herzegovina\", \"Bolivia\", \"Myanmar\", \"Benin\", \"Belarus\", \"Solomon Islands\", \"Brazil\", \"Bhutan\", \"Bulgaria\", \"Brunei\", \"Burundi\", \"Canada\", \"Cambodia\", \"Chad\", \"Sri Lanka\", \"Congo\", \"Democratic Republic of the Congo\", \"China\", \"Chile\", \"Cayman Islands\", \"Cameroon\", \"Comoros\", \"Colombia\", \"Northern Mariana Islands\", \"Costa Rica\", \"Central African Republic\", \"Cuba\", \"Cook Islands\", \"Cyprus\", \"Denmark\", \"Djibouti\", \"Dominica\", \"Dominican Republic\", \"Ecuador\", \"Egypt\", \"Ireland\", \"Equatorial Guinea\", \"Estonia\", \"Eritrea\", \"El Salvador\", \"Ethiopia\", \"Czech Republic\", \"Finland\", \"Fiji\", \"Micronesia\", \"France\", \"Gambia\", \"Gabon\", \"Georgia\", \"Ghana\", \"Gibraltar\", \"Grenada\", \"Guernsey\", \"Greenland\", \"Germany\", \"Guam\", \"Greece\", \"Guatemala\", \"Equatorial Guinea\", \"Guyana\", \"Gaza Strip\", \"Haiti\", \"Hong Kong\", \"Honduras\", \"Croatia\", \"Hungary\", \"Iceland\", \"Indonesia\", \"India\", \"Iran\", \"Israel\", \"Italy\", \"Cote dIvoire\", \"Iraq\", \"Japan\", \"Jersey\", \"Jamaica\", \"Jordan\", \"Kenya\", \"Kyrgyzstan\", \"North Korea\", \"South Korea\", \"Kuwait\", \"Kosovo\", \"Kazakhstan\", \"Laos\", \"Lebanon\", \"Latvia\", \"Lithuania\", \"Liberia\", \"Czechoslovakia\", \"Lesotho\", \"Luxembourg\", \"Libya\", \"Madagascar\", \"Macau\", \"Moldova\", \"Mongolia\", \"Montserrat\", \"Malawi\", \"Montenegro\", \"Macedonia\", \"Mali\", \"Monaco\", \"Morocco\", \"Mauritius\", \"Mauritania\", \"Malta\", \"Oman\", \"Maldives\", \"Mexico\", \"Malaysia\", \"Mozambique\", \"Niger\", \"Vanuatu\", \"Nigeria\", \"Netherlands\", \"Norway\", \"Nepal\", \"Nauru\", \"Suriname\", \"Nicaragua\", \"New Zealand\", null, \"South Sudan\", \"Oceans\", \"Paraguay\", \"Peru\", \"Pakistan\", \"Poland\", \"Panama\", \"Portugal\", \"Papua New Guinea\", \"Palau\", \"Guinea-Bissau\", \"Qatar\", null, \"Serbia\", \"Marshall Islands\", \"Romania\", \"Philippines\", \"Puerto Rico\", \"Russia\", \"Rwanda\", \"Saudi Arabia\", \"Seychelles\", \"South Africa\", \"Senegal\", \"Slovenia\", \"Sierra Leone\", \"Singapore\", \"Somalia\", \"Spain\", \"Saint Lucia\", \"Sudan\", \"Sweden\", \"Syria\", \"Switzerland\", \"Trinidad and Tobago\", \"Thailand\", \"Tajikistan\", \"Tonga\", \"Togo\", \"Tunisia\", \"East Timor\", \"Turkey\", \"Taiwan\", \"Turkmenistan\", \"Tanzania\", \"Uganda\", \"United Kingdom\", \"Ukraine\", \"United States\", \"Burkina Faso\", \"Uruguay\", \"Uzbekistan\", \"Saint Vincent and the Grenadines\", \"Venezuela\", \"Vietnam, Democratic Republic of\", \"Virgin Islands\", \"Vatican City\", \"Namibia\", \"West Bank\", \"Western Sahara\", \"Samoa\", \"Swaziland\", null, \"Yemen\", \"Zambia\", \"Zimbabwe\"], \"legendgroup\": \"\", \"marker\": {\"color\": \"#636efa\", \"symbol\": \"circle\"}, \"mode\": \"markers\", \"name\": \"\", \"showlegend\": false, \"type\": \"scatter\", \"uid\": \"e5c16c69-31f2-4f08-bbbd-e5c287e1f3ac\", \"x\": [-1.4735833406448364, 1.532691478729248, -13.332063674926758, -14.70014476776123, 8.356313705444336, -2.613741874694824, 8.509739875793457, 7.060054302215576, 5.767771244049072, -22.381887435913086, -5.492345333099365, 4.982742786407471, -6.936792850494385, 19.274667739868164, 12.72758674621582, 8.317411422729492, -24.571945190429688, 8.497536659240723, -3.8354907035827637, 17.25086784362793, -7.955297470092773, 8.829679489135742, 5.4257001876831055, 7.402099609375, 13.167304039001465, 3.4018967151641846, -5.104301929473877, 16.107786178588867, -5.276147365570068, -4.8783488273620605, -12.76864242553711, -24.361154556274414, 0.05845335125923157, 0.6856611371040344, -21.00382423400879, -11.50013256072998, -12.253460884094238, 12.053845405578613, 0.07412946969270706, 12.406017303466797, 1.92282235622406, -7.265904426574707, 4.80103874206543, 6.737198352813721, 15.033639907836914, -0.7758235931396484, 7.631854057312012, 10.028258323669434, 14.215364456176758, 10.439112663269043, 20.607664108276367, 17.11844253540039, 8.193011283874512, -15.128569602966309, -14.208946228027344, -2.8896775245666504, 2.006871223449707, 5.544073581695557, 3.7141215801239014, 7.070887088775635, -10.012042999267578, 6.442112922668457, 2.0433387756347656, 9.02381706237793, 9.819242477416992, -24.065052032470703, 11.54185962677002, 2.981614112854004, 5.987748146057129, 21.42811393737793, 0.8120257258415222, 11.52383041381836, -2.1369709968566895, 6.991488933563232, -24.198728561401367, -7.208126068115234, 2.0238702297210693, 2.8430256843566895, 4.469746112823486, 16.036869049072266, -14.782986640930176, 7.7909159660339355, 8.78652286529541, 11.77720832824707, 11.512835502624512, -3.2068190574645996, 8.526288032531738, -13.704435348510742, -2.6399693489074707, -22.564193725585938, -16.12646484375, -11.844860076904297, 9.16129207611084, -24.47342872619629, 1.9822138547897339, 5.028770923614502, 9.535810470581055, 19.35722541809082, 12.269837379455566, 12.725512504577637, -20.598527908325195, 10.488293647766113, 14.596587181091309, -6.43953275680542, 21.546157836914062, 7.2025465965271, -7.8865885734558105, 8.602739334106445, 6.452434062957764, 0.5070340633392334, -2.968752145767212, 14.061123847961426, 14.824421882629395, -23.123926162719727, 9.978716850280762, 6.369598865509033, 7.1310954093933105, 3.418968439102173, 11.556205749511719, 14.976112365722656, 6.137763977050781, 2.019139051437378, -3.581406831741333, 10.429096221923828, 20.941097259521484, 20.06546401977539, 1.9265261888504028, -0.5475068688392639, 17.297609329223633, 18.555130004882812, -2.4995861053466797, 2.6714837551116943, -7.588150978088379, -3.718104124069214, 4.7025465965271, -0.6027154326438904, -22.445425033569336, 6.915907859802246, 16.701129913330078, -5.399589538574219, 10.6353759765625, -7.18352746963501, -24.396480560302734, -6.708899974822998, 3.5279924869537354, -12.05533504486084, 3.6675302982330322, -5.6901044845581055, -7.927677154541016, -0.05969364941120148, 6.928864002227783, 1.24795663356781, 2.929025650024414, 8.922231674194336, 12.309391975402832, 16.66229820251465, -7.9491119384765625, -6.821939945220947, 8.649237632751465, 6.4555487632751465, -20.01317024230957, -8.809983253479004, -22.79462432861328, 0.3912509083747864, -19.461042404174805, 13.55896282196045, 16.96102523803711, 5.611686706542969, 7.211442947387695, 12.48387336730957, 2.7997708320617676, -23.043550491333008, -6.179540634155273, 13.169814109802246, -22.223722457885742, 5.426426410675049, -24.655750274658203, -25.976924896240234, 9.609797477722168, 5.691812515258789, 1.3102186918258667, 13.6427583694458, 10.458470344543457, -4.8532819747924805, 11.338778495788574, -19.72205924987793, 14.286334037780762, 14.425786972045898, 3.8809328079223633, 1.4079574346542358, -22.066871643066406, -0.3226988911628723, -23.381059646606445, -1.654397964477539, 9.780898094177246, 1.814841866493225, 4.413808345794678, -21.921693801879883, 14.374919891357422, 7.6337690353393555, -5.557046413421631, 3.9763522148132324, -14.870434761047363, 1.3490509986877441, 12.740663528442383, 7.171658515930176, -6.888218402862549, -22.915157318115234, 14.684063911437988, -6.2289719581604], \"xaxis\": \"x\", \"y\": [5.6998090744018555, -1.7223196029663086, -12.130036354064941, -1.1231250762939453, -7.076360702514648, 6.1063947677612305, 0.14122715592384338, -2.7438035011291504, -6.5312724113464355, 4.883238792419434, 13.233990669250488, 0.42431381344795227, 0.26987698674201965, -3.1880407333374023, 7.194492340087891, 6.8337836265563965, 6.031765937805176, -3.446284055709839, -1.5840705633163452, -1.6407430171966553, 12.884971618652344, -0.9530266523361206, 3.731433629989624, -1.4559096097946167, -3.2797365188598633, 3.230637788772583, 4.180502891540527, 2.2688794136047363, -3.1966347694396973, -12.080039978027344, -12.187185287475586, 3.2081010341644287, -7.06146240234375, 0.12397704273462296, 0.4011860191822052, -12.631288528442383, -12.301726341247559, -7.680868148803711, -5.082617282867432, -5.032165050506592, -12.094776153564453, 4.919057846069336, -8.206929206848145, -1.0924758911132812, -2.0886662006378174, -13.486632347106934, -8.257790565490723, -0.35656189918518066, -6.536458492279053, -12.967679023742676, -8.212977409362793, 4.7452192306518555, -1.993066668510437, 2.6536478996276855, 0.3613276481628418, -4.6599955558776855, -10.930727005004883, 2.0846564769744873, -0.6694417595863342, 9.910333633422852, -8.391079902648926, -9.675434112548828, -8.880555152893066, 2.9313242435455322, -1.9500868320465088, 4.362813472747803, -2.588202714920044, 8.318655967712402, -0.30264484882354736, -3.2990283966064453, -4.620208263397217, -1.068103313446045, 5.393567085266113, -7.118196964263916, 5.412508010864258, -7.7223944664001465, -5.533093452453613, 7.638330459594727, -11.250874519348145, 7.940927982330322, 1.5931764841079712, 1.4736272096633911, -5.271767616271973, -10.353260040283203, 1.8660759925842285, 9.5238676071167, -15.797043800354004, 2.2432124614715576, -5.193336009979248, 1.9162404537200928, 0.7516036629676819, -2.392427921295166, 12.231588363647461, 0.7330294847488403, 1.3702837228775024, -1.3237859010696411, 1.0228580236434937, 7.717011451721191, 4.853814601898193, -0.06598855555057526, 1.1780214309692383, -6.253241062164307, -14.429333686828613, 12.575468063354492, 4.2286272048950195, -4.438309192657471, -7.223400592803955, -10.474570274353027, 0.9753494262695312, 8.807977676391602, 1.2424962520599365, 3.1649186611175537, -0.017221104353666306, -3.6543543338775635, -2.7107295989990234, -1.3349000215530396, -6.419749736785889, -5.352431297302246, -0.35798904299736023, -4.338621139526367, 7.365649223327637, 15.290993690490723, -13.383086204528809, 3.4905407428741455, -8.480843544006348, -0.016563666984438896, -0.39955028891563416, -3.1605429649353027, -4.6329121589660645, 2.3757424354553223, -7.935864448547363, -16.340822219848633, 5.42332649230957, -12.811728477478027, 5.557314872741699, 1.5320264101028442, 7.160006999969482, 5.1166510581970215, -7.565585136413574, -0.9768586158752441, -4.20902156829834, -8.680986404418945, -1.551049828529358, 3.414217472076416, 9.651165962219238, -2.0367729663848877, -2.5327603816986084, -1.171090006828308, 2.938899040222168, 2.6517996788024902, -12.810224533081055, -4.073884010314941, 3.744422435760498, 2.2580506801605225, 1.9728963375091553, 0.5874897241592407, 12.50626277923584, 11.056652069091797, 4.69373893737793, -7.79681396484375, 4.934668064117432, -4.802123546600342, 3.5848617553710938, 14.216514587402344, -2.310333013534546, 1.613369345664978, -11.387829780578613, -3.9988720417022705, 3.0151796340942383, 2.9281485080718994, -7.2122907638549805, -3.0672354698181152, -7.209554195404053, -1.490465760231018, -1.6370251178741455, 13.701505661010742, 0.22174383699893951, 3.802262306213379, -8.565059661865234, -2.446357488632202, 14.012831687927246, 10.02016830444336, 6.240533828735352, 0.15609344840049744, 0.4454895257949829, 1.4674021005630493, 10.4365816116333, -13.667143821716309, -15.32712173461914, 5.462493896484375, 3.604011058807373, -0.8471122980117798, 3.8693158626556396, -10.464895248413086, 8.835844039916992, 13.318455696105957, -3.761549949645996, 1.603509545326233, -9.270689010620117, -0.5824989676475525, -10.920206069946289, 1.2787437438964844, 0.7092291116714478, -0.3519001305103302, 10.311755180358887, 0.10297606885433197, 12.100103378295898, -1.9934393167495728, 5.550073623657227, 2.8446743488311768], \"yaxis\": \"y\"}],\n",
       "                        {\"grid\": {\"xaxes\": [\"x\"], \"xgap\": 0.1, \"xside\": \"bottom\", \"yaxes\": [\"y\"], \"ygap\": 0.1, \"yside\": \"left\"}, \"height\": 600, \"legend\": {\"tracegroupgap\": 0}, \"margin\": {\"t\": 60}, \"template\": {\"data\": {\"bar\": [{\"marker\": {\"line\": {\"color\": \"#E5ECF6\", \"width\": 0.5}}, \"type\": \"bar\"}], \"barpolar\": [{\"marker\": {\"line\": {\"color\": \"#E5ECF6\", \"width\": 0.5}}, \"type\": \"barpolar\"}], \"carpet\": [{\"aaxis\": {\"endlinecolor\": \"#2a3f5f\", \"gridcolor\": \"white\", \"linecolor\": \"white\", \"minorgridcolor\": \"white\", \"startlinecolor\": \"#2a3f5f\"}, \"baxis\": {\"endlinecolor\": \"#2a3f5f\", \"gridcolor\": \"white\", \"linecolor\": \"white\", \"minorgridcolor\": \"white\", \"startlinecolor\": \"#2a3f5f\"}, \"type\": \"carpet\"}], \"choropleth\": [{\"colorbar\": {\"outlinewidth\": 0, \"ticks\": \"\"}, \"type\": \"choropleth\"}], \"contour\": [{\"colorbar\": {\"outlinewidth\": 0, \"ticks\": \"\"}, \"colorscale\": [[0.0, \"#0508b8\"], [0.0893854748603352, \"#1910d8\"], [0.1787709497206704, \"#3c19f0\"], [0.2681564245810056, \"#6b1cfb\"], [0.3575418994413408, \"#981cfd\"], [0.44692737430167595, \"#bf1cfd\"], [0.5363128491620112, \"#dd2bfd\"], [0.6256983240223464, \"#f246fe\"], [0.7150837988826816, \"#fc67fd\"], [0.8044692737430168, \"#fe88fc\"], [0.8938547486033519, \"#fea5fd\"], [0.9832402234636871, \"#febefe\"], [1.0, \"#fec3fe\"]], \"type\": \"contour\"}], \"contourcarpet\": [{\"colorbar\": {\"outlinewidth\": 0, \"ticks\": \"\"}, \"type\": \"contourcarpet\"}], \"heatmap\": [{\"colorbar\": {\"outlinewidth\": 0, \"ticks\": \"\"}, \"colorscale\": [[0.0, \"#0508b8\"], [0.0893854748603352, \"#1910d8\"], [0.1787709497206704, \"#3c19f0\"], [0.2681564245810056, \"#6b1cfb\"], [0.3575418994413408, \"#981cfd\"], [0.44692737430167595, \"#bf1cfd\"], [0.5363128491620112, \"#dd2bfd\"], [0.6256983240223464, \"#f246fe\"], [0.7150837988826816, \"#fc67fd\"], [0.8044692737430168, \"#fe88fc\"], [0.8938547486033519, \"#fea5fd\"], [0.9832402234636871, \"#febefe\"], [1.0, \"#fec3fe\"]], \"type\": \"heatmap\"}], \"heatmapgl\": [{\"colorbar\": {\"outlinewidth\": 0, \"ticks\": \"\"}, \"type\": \"heatmapgl\"}], \"histogram\": [{\"marker\": {\"colorbar\": {\"outlinewidth\": 0, \"ticks\": \"\"}}, \"type\": \"histogram\"}], \"histogram2d\": [{\"colorbar\": {\"outlinewidth\": 0, \"ticks\": \"\"}, \"colorscale\": [[0.0, \"#0508b8\"], [0.0893854748603352, \"#1910d8\"], [0.1787709497206704, \"#3c19f0\"], [0.2681564245810056, \"#6b1cfb\"], [0.3575418994413408, \"#981cfd\"], [0.44692737430167595, \"#bf1cfd\"], [0.5363128491620112, \"#dd2bfd\"], [0.6256983240223464, \"#f246fe\"], [0.7150837988826816, \"#fc67fd\"], [0.8044692737430168, \"#fe88fc\"], [0.8938547486033519, \"#fea5fd\"], [0.9832402234636871, \"#febefe\"], [1.0, \"#fec3fe\"]], \"type\": \"histogram2d\"}], \"histogram2dcontour\": [{\"colorbar\": {\"outlinewidth\": 0, \"ticks\": \"\"}, \"colorscale\": [[0.0, \"#0508b8\"], [0.0893854748603352, \"#1910d8\"], [0.1787709497206704, \"#3c19f0\"], [0.2681564245810056, \"#6b1cfb\"], [0.3575418994413408, \"#981cfd\"], [0.44692737430167595, \"#bf1cfd\"], [0.5363128491620112, \"#dd2bfd\"], [0.6256983240223464, \"#f246fe\"], [0.7150837988826816, \"#fc67fd\"], [0.8044692737430168, \"#fe88fc\"], [0.8938547486033519, \"#fea5fd\"], [0.9832402234636871, \"#febefe\"], [1.0, \"#fec3fe\"]], \"type\": \"histogram2dcontour\"}], \"mesh3d\": [{\"colorbar\": {\"outlinewidth\": 0, \"ticks\": \"\"}, \"type\": \"mesh3d\"}], \"parcoords\": [{\"line\": {\"colorbar\": {\"outlinewidth\": 0, \"ticks\": \"\"}}, \"type\": \"parcoords\"}], \"scatter\": [{\"marker\": {\"colorbar\": {\"outlinewidth\": 0, \"ticks\": \"\"}}, \"type\": \"scatter\"}], \"scatter3d\": [{\"marker\": {\"colorbar\": {\"outlinewidth\": 0, \"ticks\": \"\"}}, \"type\": \"scatter3d\"}], \"scattercarpet\": [{\"marker\": {\"colorbar\": {\"outlinewidth\": 0, \"ticks\": \"\"}}, \"type\": \"scattercarpet\"}], \"scattergeo\": [{\"marker\": {\"colorbar\": {\"outlinewidth\": 0, \"ticks\": \"\"}}, \"type\": \"scattergeo\"}], \"scattergl\": [{\"marker\": {\"colorbar\": {\"outlinewidth\": 0, \"ticks\": \"\"}}, \"type\": \"scattergl\"}], \"scattermapbox\": [{\"marker\": {\"colorbar\": {\"outlinewidth\": 0, \"ticks\": \"\"}}, \"type\": \"scattermapbox\"}], \"scatterpolar\": [{\"marker\": {\"colorbar\": {\"outlinewidth\": 0, \"ticks\": \"\"}}, \"type\": \"scatterpolar\"}], \"scatterpolargl\": [{\"marker\": {\"colorbar\": {\"outlinewidth\": 0, \"ticks\": \"\"}}, \"type\": \"scatterpolargl\"}], \"scatterternary\": [{\"marker\": {\"colorbar\": {\"outlinewidth\": 0, \"ticks\": \"\"}}, \"type\": \"scatterternary\"}], \"surface\": [{\"colorbar\": {\"outlinewidth\": 0, \"ticks\": \"\"}, \"type\": \"surface\"}], \"table\": [{\"cells\": {\"fill\": {\"color\": \"#EBF0F8\"}, \"line\": {\"color\": \"white\"}}, \"header\": {\"fill\": {\"color\": \"#C8D4E3\"}, \"line\": {\"color\": \"white\"}}, \"type\": \"table\"}]}, \"layout\": {\"annotationdefaults\": {\"arrowcolor\": \"#506784\", \"arrowhead\": 0, \"arrowwidth\": 1}, \"colorscale\": {\"diverging\": [[0, \"#8e0152\"], [0.1, \"#c51b7d\"], [0.2, \"#de77ae\"], [0.3, \"#f1b6da\"], [0.4, \"#fde0ef\"], [0.5, \"#f7f7f7\"], [0.6, \"#e6f5d0\"], [0.7, \"#b8e186\"], [0.8, \"#7fbc41\"], [0.9, \"#4d9221\"], [1, \"#276419\"]], \"sequential\": [[0.0, \"#0508b8\"], [0.0893854748603352, \"#1910d8\"], [0.1787709497206704, \"#3c19f0\"], [0.2681564245810056, \"#6b1cfb\"], [0.3575418994413408, \"#981cfd\"], [0.44692737430167595, \"#bf1cfd\"], [0.5363128491620112, \"#dd2bfd\"], [0.6256983240223464, \"#f246fe\"], [0.7150837988826816, \"#fc67fd\"], [0.8044692737430168, \"#fe88fc\"], [0.8938547486033519, \"#fea5fd\"], [0.9832402234636871, \"#febefe\"], [1.0, \"#fec3fe\"]], \"sequentialminus\": [[0.0, \"#0508b8\"], [0.0893854748603352, \"#1910d8\"], [0.1787709497206704, \"#3c19f0\"], [0.2681564245810056, \"#6b1cfb\"], [0.3575418994413408, \"#981cfd\"], [0.44692737430167595, \"#bf1cfd\"], [0.5363128491620112, \"#dd2bfd\"], [0.6256983240223464, \"#f246fe\"], [0.7150837988826816, \"#fc67fd\"], [0.8044692737430168, \"#fe88fc\"], [0.8938547486033519, \"#fea5fd\"], [0.9832402234636871, \"#febefe\"], [1.0, \"#fec3fe\"]]}, \"colorway\": [\"#636efa\", \"#EF553B\", \"#00cc96\", \"#ab63fa\", \"#19d3f3\", \"#e763fa\", \"#FECB52\", \"#FFA15A\", \"#FF6692\", \"#B6E880\"], \"font\": {\"color\": \"#2a3f5f\"}, \"geo\": {\"bgcolor\": \"white\", \"lakecolor\": \"white\", \"landcolor\": \"#E5ECF6\", \"showlakes\": true, \"showland\": true, \"subunitcolor\": \"white\"}, \"hoverlabel\": {\"align\": \"left\"}, \"hovermode\": \"closest\", \"mapbox\": {\"style\": \"light\"}, \"paper_bgcolor\": \"white\", \"plot_bgcolor\": \"#E5ECF6\", \"polar\": {\"angularaxis\": {\"gridcolor\": \"white\", \"linecolor\": \"white\", \"ticks\": \"\"}, \"bgcolor\": \"#E5ECF6\", \"radialaxis\": {\"gridcolor\": \"white\", \"linecolor\": \"white\", \"ticks\": \"\"}}, \"scene\": {\"xaxis\": {\"backgroundcolor\": \"#E5ECF6\", \"gridcolor\": \"white\", \"gridwidth\": 2, \"linecolor\": \"white\", \"showbackground\": true, \"ticks\": \"\", \"zerolinecolor\": \"white\"}, \"yaxis\": {\"backgroundcolor\": \"#E5ECF6\", \"gridcolor\": \"white\", \"gridwidth\": 2, \"linecolor\": \"white\", \"showbackground\": true, \"ticks\": \"\", \"zerolinecolor\": \"white\"}, \"zaxis\": {\"backgroundcolor\": \"#E5ECF6\", \"gridcolor\": \"white\", \"gridwidth\": 2, \"linecolor\": \"white\", \"showbackground\": true, \"ticks\": \"\", \"zerolinecolor\": \"white\"}}, \"shapedefaults\": {\"fillcolor\": \"#506784\", \"line\": {\"width\": 0}, \"opacity\": 0.4}, \"ternary\": {\"aaxis\": {\"gridcolor\": \"white\", \"linecolor\": \"white\", \"ticks\": \"\"}, \"baxis\": {\"gridcolor\": \"white\", \"linecolor\": \"white\", \"ticks\": \"\"}, \"bgcolor\": \"#E5ECF6\", \"caxis\": {\"gridcolor\": \"white\", \"linecolor\": \"white\", \"ticks\": \"\"}}, \"title\": {\"x\": 0.05}, \"xaxis\": {\"automargin\": true, \"gridcolor\": \"white\", \"linecolor\": \"white\", \"ticks\": \"\", \"zerolinecolor\": \"white\", \"zerolinewidth\": 2}, \"yaxis\": {\"automargin\": true, \"gridcolor\": \"white\", \"linecolor\": \"white\", \"ticks\": \"\", \"zerolinecolor\": \"white\", \"zerolinewidth\": 2}}}, \"xaxis\": {\"title\": {\"text\": \"x\"}}, \"yaxis\": {\"title\": {\"text\": \"y\"}}},\n",
       "                        {\"responsive\": true, \"plotlyServerURL\": \"https://plot.ly\", \"linkText\": \"Export to plot.ly\", \"showLink\": false}\n",
       "                    ).then(function(){\n",
       "                            \n",
       "var gd = document.getElementById('7963c11c-e9dc-4bda-a1a9-ed3a6b4cfed5');\n",
       "var x = new MutationObserver(function (mutations, observer) {{\n",
       "        var display = window.getComputedStyle(gd).display;\n",
       "        if (!display || display === 'none') {{\n",
       "            console.log([gd, 'removed!']);\n",
       "            Plotly.purge(gd);\n",
       "            observer.disconnect();\n",
       "        }}\n",
       "}});\n",
       "\n",
       "// Listen for the removal of the full notebook cells\n",
       "var notebookContainer = gd.closest('#notebook-container');\n",
       "if (notebookContainer) {{\n",
       "    x.observe(notebookContainer, {childList: true});\n",
       "}}\n",
       "\n",
       "// Listen for the clearing of the current output cell\n",
       "var outputEl = gd.closest('.output');\n",
       "if (outputEl) {{\n",
       "    x.observe(outputEl, {childList: true});\n",
       "}}\n",
       "\n",
       "                        })\n",
       "                };\n",
       "                });\n",
       "            </script>\n",
       "        </div>"
      ]
     },
     "metadata": {},
     "output_type": "display_data"
    }
   ],
   "source": [
    "px.scatter(transformed_df,\n",
    "           x=\"x\",\n",
    "           y=\"y\",\n",
    "           hover_name='label'\n",
    "          )"
   ]
  },
  {
   "cell_type": "code",
   "execution_count": 32,
   "metadata": {},
   "outputs": [],
   "source": [
    "pd.options.display.max_rows = 150"
   ]
  },
  {
   "cell_type": "code",
   "execution_count": 239,
   "metadata": {},
   "outputs": [],
   "source": [
    "from sklearn.cluster import AffinityPropagation\n",
    "\n",
    "model = AffinityPropagation(affinity='precomputed')\n",
    "\n",
    "clusters = model.fit_predict(dist_matrix)"
   ]
  },
  {
   "cell_type": "code",
   "execution_count": 263,
   "metadata": {},
   "outputs": [],
   "source": [
    "from sklearn.cluster import AgglomerativeClustering\n",
    "\n",
    "model = AgglomerativeClustering(\n",
    "    n_clusters=20,\n",
    "#     affinity='precomputed',\n",
    "    linkage='ward',\n",
    "    compute_full_tree=True,\n",
    ")\n",
    "\n",
    "clusters = model.fit_predict(dist_matrix)"
   ]
  },
  {
   "cell_type": "code",
   "execution_count": 252,
   "metadata": {},
   "outputs": [],
   "source": [
    "from sklearn.cluster import MeanShift\n",
    "\n",
    "model = MeanShift()\n",
    "clusters = model.fit_predict(dist_matrix.T)"
   ]
  },
  {
   "cell_type": "code",
   "execution_count": 236,
   "metadata": {},
   "outputs": [],
   "source": [
    "from sklearn.cluster import Birch\n",
    "\n",
    "model = Birch(\n",
    "    branching_factor=10,\n",
    "    n_clusters=20\n",
    ")\n",
    "\n",
    "clusters = model.fit_predict(dist_matrix.T)"
   ]
  },
  {
   "cell_type": "code",
   "execution_count": 229,
   "metadata": {},
   "outputs": [],
   "source": [
    "from sklearn.cluster import KMeans\n",
    "\n",
    "model = KMeans(\n",
    "    n_clusters=25\n",
    ")\n",
    "clusters = model.fit_predict(dist_matrix.T)"
   ]
  },
  {
   "cell_type": "code",
   "execution_count": 211,
   "metadata": {},
   "outputs": [
    {
     "data": {
      "text/plain": [
       "array([-16.15079005, -13.23985419, -12.99243783, ...,  10.26785714,\n",
       "        11.11111111,  11.9900239 ])"
      ]
     },
     "execution_count": 211,
     "metadata": {},
     "output_type": "execute_result"
    }
   ],
   "source": [
    "np.unique((dist_matrix + dist_matrix.T) / 2)"
   ]
  },
  {
   "cell_type": "code",
   "execution_count": 214,
   "metadata": {},
   "outputs": [],
   "source": [
    "from sklearn.cluster import SpectralClustering\n",
    "\n",
    "model = SpectralClustering(\n",
    "    n_clusters=20,\n",
    "    affinity='nearest_neighbors',\n",
    ")\n",
    "\n",
    "clusters = model.fit_predict(dist_matrix)"
   ]
  },
  {
   "cell_type": "code",
   "execution_count": null,
   "metadata": {},
   "outputs": [],
   "source": [
    "pd.Series(clusters, index=labels).sort_values()"
   ]
  },
  {
   "cell_type": "code",
   "execution_count": 264,
   "metadata": {},
   "outputs": [],
   "source": [
    "cluster_df = pd.concat([pd.Series(clusters, name='cluster_id'), labels_idx], axis=1)\n",
    "fips_to_iso_mapping = pd.read_csv('fips-iso-country.csv', index_col='FIPS')\n",
    "cluster_df = cluster_df.join(fips_to_iso_mapping,\n",
    "                             on=['country_id'],\n",
    "                             how='right',\n",
    "                            ).fillna(-1)\n",
    "cluster_df.rename({'ISO': 'country_iso'}, axis=1, inplace=True)"
   ]
  },
  {
   "cell_type": "code",
   "execution_count": 265,
   "metadata": {},
   "outputs": [
    {
     "data": {
      "application/vnd.plotly.v1+json": {
       "config": {
        "plotlyServerURL": "https://plot.ly"
       },
       "data": [
        {
         "coloraxis": "coloraxis",
         "hoverlabel": {
          "namelength": 0
         },
         "hovertemplate": "country_iso=%{location}<br>cluster_id=%{z}",
         "locationmode": "ISO-3",
         "locations": [
          "ATG",
          "ARE",
          "AFG",
          "DZA",
          "AZE",
          "ALB",
          "ARM",
          "AGO",
          "ARG",
          "AUS",
          "AUT",
          "ATA",
          "BHR",
          "BRB",
          "BWA",
          "BMU",
          "BEL",
          "BHS",
          "BGD",
          "BLZ",
          "BIH",
          "BOL",
          "MMR",
          "BEN",
          "BLR",
          "SLB",
          "BRA",
          "BTN",
          "BGR",
          "BRN",
          "BDI",
          "CAN",
          "KHM",
          "TCD",
          "LKA",
          "COG",
          "COD",
          "CHN",
          "CHL",
          "CYM",
          "CMR",
          "COM",
          "COL",
          "MNP",
          "CRI",
          "CAF",
          "CUB",
          "COK",
          "CYP",
          "DNK",
          "DJI",
          "DMA",
          "DOM",
          "ECU",
          "EGY",
          "IRL",
          "GNQ",
          "EST",
          "ERI",
          "SLV",
          "ETH",
          "CZE",
          "FIN",
          "FJI",
          "FSM",
          "FRA",
          "GMB",
          "GAB",
          "GEO",
          "GHA",
          "GIB",
          "GRD",
          "GGY",
          "GRL",
          "DEU",
          "GUM",
          "GRC",
          "GTM",
          "GNQ",
          "GUY",
          -1,
          "HTI",
          "HKG",
          "HND",
          "HRV",
          "HUN",
          "ISL",
          "IDN",
          "IND",
          "IRN",
          "ISR",
          "ITA",
          "CIV",
          "IRQ",
          "JPN",
          "JEY",
          "JAM",
          "JOR",
          "KEN",
          "KGZ",
          "PRK",
          "KOR",
          "KWT",
          -1,
          "KAZ",
          "LAO",
          "LBN",
          "LVA",
          "LTU",
          "LBR",
          -1,
          "LSO",
          "LUX",
          "LBY",
          "MDG",
          "MAC",
          "MDA",
          "MNG",
          "MSR",
          "MWI",
          "MNE",
          "MKD",
          "MLI",
          "MCO",
          "MAR",
          "MUS",
          "MRT",
          "MLT",
          "OMN",
          "MDV",
          "MEX",
          "MYS",
          "MOZ",
          "NER",
          "VUT",
          "NGA",
          "NLD",
          "NOR",
          "NPL",
          "NRU",
          "SUR",
          "NIC",
          "NZL",
          "SSD",
          -1,
          "PRY",
          "PER",
          "PAK",
          "POL",
          "PAN",
          "PRT",
          "PNG",
          "PLW",
          "GNB",
          "QAT",
          "SRB",
          "MHL",
          "ROU",
          "PHL",
          "PRI",
          "RUS",
          "RWA",
          "SAU",
          "SYC",
          "ZAF",
          "SEN",
          "SVN",
          "SLE",
          "SGP",
          "SOM",
          "ESP",
          "LCA",
          "SDN",
          "SWE",
          "SYR",
          "CHE",
          "TTO",
          "THA",
          "TJK",
          "TON",
          "TGO",
          "TUN",
          "TLS",
          "TUR",
          "TWN",
          "TKM",
          "TZA",
          "UGA",
          "GBR",
          "UKR",
          "USA",
          "BFA",
          "URY",
          "UZB",
          "VCT",
          "VEN",
          "VNM",
          "VIR",
          -1,
          "NAM",
          -1,
          "ESH",
          "WSM",
          "CHE",
          "YEM",
          "ZMB",
          "ZWE",
          -1,
          "ASM",
          "AND",
          "AIA",
          "ABW",
          -1,
          -1,
          -1,
          "BVT",
          "IOT",
          -1,
          "CPV",
          "CXR",
          -1,
          "CCK",
          -1,
          -1,
          -1,
          -1,
          "FLK",
          "FRO",
          "GUF",
          "PYF",
          "ATF",
          -1,
          "GLP",
          "HMD",
          -1,
          "IMN",
          "SJM",
          -1,
          -1,
          -1,
          -1,
          "KIR",
          "LIE",
          "MTQ",
          "MYT",
          -1,
          -1,
          -1,
          "NCL",
          "NIU",
          -1,
          "NFK",
          -1,
          -1,
          "PCN",
          "REU",
          "SHN",
          "KNA",
          "MAF",
          "SPM",
          "BLM",
          "SMR",
          "STP",
          "SGS",
          -1,
          "SJM",
          "TKL",
          -1,
          "TCA",
          "TUV",
          -1,
          -1,
          -1,
          "WLF"
         ],
         "name": "",
         "type": "choropleth",
         "uid": "89fa4b3b-b2b2-4cc1-b7ef-fb77ac5814a3",
         "z": [
          3,
          0,
          5,
          5,
          0,
          2,
          0,
          3,
          3,
          14,
          15,
          3,
          0,
          3,
          3,
          6,
          14,
          3,
          15,
          3,
          16,
          8,
          8,
          3,
          3,
          3,
          9,
          3,
          6,
          11,
          11,
          1,
          11,
          6,
          13,
          11,
          11,
          8,
          8,
          3,
          19,
          3,
          2,
          3,
          3,
          3,
          7,
          3,
          3,
          2,
          2,
          3,
          6,
          5,
          1,
          1,
          3,
          3,
          8,
          6,
          9,
          2,
          2,
          7,
          3,
          14,
          3,
          3,
          6,
          3,
          3,
          3,
          3,
          3,
          1,
          3,
          1,
          6,
          8,
          3,
          6,
          6,
          2,
          6,
          16,
          16,
          8,
          12,
          1,
          4,
          4,
          1,
          3,
          18,
          0,
          6,
          3,
          0,
          19,
          8,
          4,
          2,
          0,
          16,
          8,
          3,
          17,
          3,
          6,
          8,
          6,
          3,
          3,
          5,
          6,
          3,
          3,
          3,
          3,
          3,
          3,
          16,
          11,
          3,
          2,
          3,
          6,
          2,
          12,
          3,
          19,
          12,
          1,
          3,
          3,
          19,
          14,
          11,
          6,
          3,
          3,
          2,
          10,
          6,
          6,
          3,
          6,
          1,
          8,
          15,
          0,
          3,
          3,
          3,
          0,
          16,
          3,
          3,
          9,
          6,
          1,
          15,
          4,
          3,
          9,
          3,
          3,
          8,
          8,
          5,
          1,
          3,
          5,
          2,
          18,
          1,
          3,
          9,
          3,
          3,
          3,
          15,
          3,
          4,
          8,
          3,
          6,
          6,
          1,
          8,
          1,
          3,
          3,
          8,
          3,
          4,
          12,
          3,
          6,
          3,
          6,
          3,
          3,
          3,
          4,
          3,
          1,
          -1,
          -1,
          -1,
          -1,
          -1,
          -1,
          -1,
          -1,
          -1,
          -1,
          -1,
          -1,
          -1,
          -1,
          -1,
          -1,
          -1,
          -1,
          -1,
          -1,
          -1,
          -1,
          -1,
          -1,
          -1,
          -1,
          -1,
          -1,
          -1,
          -1,
          -1,
          -1,
          -1,
          -1,
          -1,
          -1,
          -1,
          -1,
          -1,
          -1,
          -1,
          -1,
          -1,
          -1,
          -1,
          -1,
          -1,
          -1,
          -1,
          -1,
          -1,
          -1,
          -1,
          -1,
          -1,
          -1,
          -1,
          -1,
          -1,
          -1,
          -1,
          -1,
          -1,
          -1,
          -1,
          -1,
          -1
         ]
        }
       ],
       "layout": {
        "coloraxis": {
         "colorbar": {
          "title": {
           "text": "cluster_id"
          }
         },
         "colorscale": [
          [
           0,
           "rgb(102, 197, 204)"
          ],
          [
           0.1,
           "rgb(246, 207, 113)"
          ],
          [
           0.2,
           "rgb(248, 156, 116)"
          ],
          [
           0.3,
           "rgb(220, 176, 242)"
          ],
          [
           0.4,
           "rgb(135, 197, 95)"
          ],
          [
           0.5,
           "rgb(158, 185, 243)"
          ],
          [
           0.6,
           "rgb(254, 136, 177)"
          ],
          [
           0.7,
           "rgb(201, 219, 116)"
          ],
          [
           0.8,
           "rgb(139, 224, 164)"
          ],
          [
           0.9,
           "rgb(180, 151, 231)"
          ],
          [
           1,
           "rgb(179, 179, 179)"
          ]
         ]
        },
        "geo": {
         "center": {}
        },
        "height": 600,
        "legend": {
         "tracegroupgap": 0
        },
        "margin": {
         "t": 60
        },
        "template": {
         "data": {
          "bar": [
           {
            "marker": {
             "line": {
              "color": "#E5ECF6",
              "width": 0.5
             }
            },
            "type": "bar"
           }
          ],
          "barpolar": [
           {
            "marker": {
             "line": {
              "color": "#E5ECF6",
              "width": 0.5
             }
            },
            "type": "barpolar"
           }
          ],
          "carpet": [
           {
            "aaxis": {
             "endlinecolor": "#2a3f5f",
             "gridcolor": "white",
             "linecolor": "white",
             "minorgridcolor": "white",
             "startlinecolor": "#2a3f5f"
            },
            "baxis": {
             "endlinecolor": "#2a3f5f",
             "gridcolor": "white",
             "linecolor": "white",
             "minorgridcolor": "white",
             "startlinecolor": "#2a3f5f"
            },
            "type": "carpet"
           }
          ],
          "choropleth": [
           {
            "colorbar": {
             "outlinewidth": 0,
             "ticks": ""
            },
            "type": "choropleth"
           }
          ],
          "contour": [
           {
            "colorbar": {
             "outlinewidth": 0,
             "ticks": ""
            },
            "colorscale": [
             [
              0,
              "#0508b8"
             ],
             [
              0.0893854748603352,
              "#1910d8"
             ],
             [
              0.1787709497206704,
              "#3c19f0"
             ],
             [
              0.2681564245810056,
              "#6b1cfb"
             ],
             [
              0.3575418994413408,
              "#981cfd"
             ],
             [
              0.44692737430167595,
              "#bf1cfd"
             ],
             [
              0.5363128491620112,
              "#dd2bfd"
             ],
             [
              0.6256983240223464,
              "#f246fe"
             ],
             [
              0.7150837988826816,
              "#fc67fd"
             ],
             [
              0.8044692737430168,
              "#fe88fc"
             ],
             [
              0.8938547486033519,
              "#fea5fd"
             ],
             [
              0.9832402234636871,
              "#febefe"
             ],
             [
              1,
              "#fec3fe"
             ]
            ],
            "type": "contour"
           }
          ],
          "contourcarpet": [
           {
            "colorbar": {
             "outlinewidth": 0,
             "ticks": ""
            },
            "type": "contourcarpet"
           }
          ],
          "heatmap": [
           {
            "colorbar": {
             "outlinewidth": 0,
             "ticks": ""
            },
            "colorscale": [
             [
              0,
              "#0508b8"
             ],
             [
              0.0893854748603352,
              "#1910d8"
             ],
             [
              0.1787709497206704,
              "#3c19f0"
             ],
             [
              0.2681564245810056,
              "#6b1cfb"
             ],
             [
              0.3575418994413408,
              "#981cfd"
             ],
             [
              0.44692737430167595,
              "#bf1cfd"
             ],
             [
              0.5363128491620112,
              "#dd2bfd"
             ],
             [
              0.6256983240223464,
              "#f246fe"
             ],
             [
              0.7150837988826816,
              "#fc67fd"
             ],
             [
              0.8044692737430168,
              "#fe88fc"
             ],
             [
              0.8938547486033519,
              "#fea5fd"
             ],
             [
              0.9832402234636871,
              "#febefe"
             ],
             [
              1,
              "#fec3fe"
             ]
            ],
            "type": "heatmap"
           }
          ],
          "heatmapgl": [
           {
            "colorbar": {
             "outlinewidth": 0,
             "ticks": ""
            },
            "type": "heatmapgl"
           }
          ],
          "histogram": [
           {
            "marker": {
             "colorbar": {
              "outlinewidth": 0,
              "ticks": ""
             }
            },
            "type": "histogram"
           }
          ],
          "histogram2d": [
           {
            "colorbar": {
             "outlinewidth": 0,
             "ticks": ""
            },
            "colorscale": [
             [
              0,
              "#0508b8"
             ],
             [
              0.0893854748603352,
              "#1910d8"
             ],
             [
              0.1787709497206704,
              "#3c19f0"
             ],
             [
              0.2681564245810056,
              "#6b1cfb"
             ],
             [
              0.3575418994413408,
              "#981cfd"
             ],
             [
              0.44692737430167595,
              "#bf1cfd"
             ],
             [
              0.5363128491620112,
              "#dd2bfd"
             ],
             [
              0.6256983240223464,
              "#f246fe"
             ],
             [
              0.7150837988826816,
              "#fc67fd"
             ],
             [
              0.8044692737430168,
              "#fe88fc"
             ],
             [
              0.8938547486033519,
              "#fea5fd"
             ],
             [
              0.9832402234636871,
              "#febefe"
             ],
             [
              1,
              "#fec3fe"
             ]
            ],
            "type": "histogram2d"
           }
          ],
          "histogram2dcontour": [
           {
            "colorbar": {
             "outlinewidth": 0,
             "ticks": ""
            },
            "colorscale": [
             [
              0,
              "#0508b8"
             ],
             [
              0.0893854748603352,
              "#1910d8"
             ],
             [
              0.1787709497206704,
              "#3c19f0"
             ],
             [
              0.2681564245810056,
              "#6b1cfb"
             ],
             [
              0.3575418994413408,
              "#981cfd"
             ],
             [
              0.44692737430167595,
              "#bf1cfd"
             ],
             [
              0.5363128491620112,
              "#dd2bfd"
             ],
             [
              0.6256983240223464,
              "#f246fe"
             ],
             [
              0.7150837988826816,
              "#fc67fd"
             ],
             [
              0.8044692737430168,
              "#fe88fc"
             ],
             [
              0.8938547486033519,
              "#fea5fd"
             ],
             [
              0.9832402234636871,
              "#febefe"
             ],
             [
              1,
              "#fec3fe"
             ]
            ],
            "type": "histogram2dcontour"
           }
          ],
          "mesh3d": [
           {
            "colorbar": {
             "outlinewidth": 0,
             "ticks": ""
            },
            "type": "mesh3d"
           }
          ],
          "parcoords": [
           {
            "line": {
             "colorbar": {
              "outlinewidth": 0,
              "ticks": ""
             }
            },
            "type": "parcoords"
           }
          ],
          "scatter": [
           {
            "marker": {
             "colorbar": {
              "outlinewidth": 0,
              "ticks": ""
             }
            },
            "type": "scatter"
           }
          ],
          "scatter3d": [
           {
            "marker": {
             "colorbar": {
              "outlinewidth": 0,
              "ticks": ""
             }
            },
            "type": "scatter3d"
           }
          ],
          "scattercarpet": [
           {
            "marker": {
             "colorbar": {
              "outlinewidth": 0,
              "ticks": ""
             }
            },
            "type": "scattercarpet"
           }
          ],
          "scattergeo": [
           {
            "marker": {
             "colorbar": {
              "outlinewidth": 0,
              "ticks": ""
             }
            },
            "type": "scattergeo"
           }
          ],
          "scattergl": [
           {
            "marker": {
             "colorbar": {
              "outlinewidth": 0,
              "ticks": ""
             }
            },
            "type": "scattergl"
           }
          ],
          "scattermapbox": [
           {
            "marker": {
             "colorbar": {
              "outlinewidth": 0,
              "ticks": ""
             }
            },
            "type": "scattermapbox"
           }
          ],
          "scatterpolar": [
           {
            "marker": {
             "colorbar": {
              "outlinewidth": 0,
              "ticks": ""
             }
            },
            "type": "scatterpolar"
           }
          ],
          "scatterpolargl": [
           {
            "marker": {
             "colorbar": {
              "outlinewidth": 0,
              "ticks": ""
             }
            },
            "type": "scatterpolargl"
           }
          ],
          "scatterternary": [
           {
            "marker": {
             "colorbar": {
              "outlinewidth": 0,
              "ticks": ""
             }
            },
            "type": "scatterternary"
           }
          ],
          "surface": [
           {
            "colorbar": {
             "outlinewidth": 0,
             "ticks": ""
            },
            "type": "surface"
           }
          ],
          "table": [
           {
            "cells": {
             "fill": {
              "color": "#EBF0F8"
             },
             "line": {
              "color": "white"
             }
            },
            "header": {
             "fill": {
              "color": "#C8D4E3"
             },
             "line": {
              "color": "white"
             }
            },
            "type": "table"
           }
          ]
         },
         "layout": {
          "annotationdefaults": {
           "arrowcolor": "#506784",
           "arrowhead": 0,
           "arrowwidth": 1
          },
          "colorscale": {
           "diverging": [
            [
             0,
             "#8e0152"
            ],
            [
             0.1,
             "#c51b7d"
            ],
            [
             0.2,
             "#de77ae"
            ],
            [
             0.3,
             "#f1b6da"
            ],
            [
             0.4,
             "#fde0ef"
            ],
            [
             0.5,
             "#f7f7f7"
            ],
            [
             0.6,
             "#e6f5d0"
            ],
            [
             0.7,
             "#b8e186"
            ],
            [
             0.8,
             "#7fbc41"
            ],
            [
             0.9,
             "#4d9221"
            ],
            [
             1,
             "#276419"
            ]
           ],
           "sequential": [
            [
             0,
             "#0508b8"
            ],
            [
             0.0893854748603352,
             "#1910d8"
            ],
            [
             0.1787709497206704,
             "#3c19f0"
            ],
            [
             0.2681564245810056,
             "#6b1cfb"
            ],
            [
             0.3575418994413408,
             "#981cfd"
            ],
            [
             0.44692737430167595,
             "#bf1cfd"
            ],
            [
             0.5363128491620112,
             "#dd2bfd"
            ],
            [
             0.6256983240223464,
             "#f246fe"
            ],
            [
             0.7150837988826816,
             "#fc67fd"
            ],
            [
             0.8044692737430168,
             "#fe88fc"
            ],
            [
             0.8938547486033519,
             "#fea5fd"
            ],
            [
             0.9832402234636871,
             "#febefe"
            ],
            [
             1,
             "#fec3fe"
            ]
           ],
           "sequentialminus": [
            [
             0,
             "#0508b8"
            ],
            [
             0.0893854748603352,
             "#1910d8"
            ],
            [
             0.1787709497206704,
             "#3c19f0"
            ],
            [
             0.2681564245810056,
             "#6b1cfb"
            ],
            [
             0.3575418994413408,
             "#981cfd"
            ],
            [
             0.44692737430167595,
             "#bf1cfd"
            ],
            [
             0.5363128491620112,
             "#dd2bfd"
            ],
            [
             0.6256983240223464,
             "#f246fe"
            ],
            [
             0.7150837988826816,
             "#fc67fd"
            ],
            [
             0.8044692737430168,
             "#fe88fc"
            ],
            [
             0.8938547486033519,
             "#fea5fd"
            ],
            [
             0.9832402234636871,
             "#febefe"
            ],
            [
             1,
             "#fec3fe"
            ]
           ]
          },
          "colorway": [
           "#636efa",
           "#EF553B",
           "#00cc96",
           "#ab63fa",
           "#19d3f3",
           "#e763fa",
           "#FECB52",
           "#FFA15A",
           "#FF6692",
           "#B6E880"
          ],
          "font": {
           "color": "#2a3f5f"
          },
          "geo": {
           "bgcolor": "white",
           "lakecolor": "white",
           "landcolor": "#E5ECF6",
           "showlakes": true,
           "showland": true,
           "subunitcolor": "white"
          },
          "hoverlabel": {
           "align": "left"
          },
          "hovermode": "closest",
          "mapbox": {
           "style": "light"
          },
          "paper_bgcolor": "white",
          "plot_bgcolor": "#E5ECF6",
          "polar": {
           "angularaxis": {
            "gridcolor": "white",
            "linecolor": "white",
            "ticks": ""
           },
           "bgcolor": "#E5ECF6",
           "radialaxis": {
            "gridcolor": "white",
            "linecolor": "white",
            "ticks": ""
           }
          },
          "scene": {
           "xaxis": {
            "backgroundcolor": "#E5ECF6",
            "gridcolor": "white",
            "gridwidth": 2,
            "linecolor": "white",
            "showbackground": true,
            "ticks": "",
            "zerolinecolor": "white"
           },
           "yaxis": {
            "backgroundcolor": "#E5ECF6",
            "gridcolor": "white",
            "gridwidth": 2,
            "linecolor": "white",
            "showbackground": true,
            "ticks": "",
            "zerolinecolor": "white"
           },
           "zaxis": {
            "backgroundcolor": "#E5ECF6",
            "gridcolor": "white",
            "gridwidth": 2,
            "linecolor": "white",
            "showbackground": true,
            "ticks": "",
            "zerolinecolor": "white"
           }
          },
          "shapedefaults": {
           "fillcolor": "#506784",
           "line": {
            "width": 0
           },
           "opacity": 0.4
          },
          "ternary": {
           "aaxis": {
            "gridcolor": "white",
            "linecolor": "white",
            "ticks": ""
           },
           "baxis": {
            "gridcolor": "white",
            "linecolor": "white",
            "ticks": ""
           },
           "bgcolor": "#E5ECF6",
           "caxis": {
            "gridcolor": "white",
            "linecolor": "white",
            "ticks": ""
           }
          },
          "title": {
           "x": 0.05
          },
          "xaxis": {
           "automargin": true,
           "gridcolor": "white",
           "linecolor": "white",
           "ticks": "",
           "zerolinecolor": "white",
           "zerolinewidth": 2
          },
          "yaxis": {
           "automargin": true,
           "gridcolor": "white",
           "linecolor": "white",
           "ticks": "",
           "zerolinecolor": "white",
           "zerolinewidth": 2
          }
         }
        }
       }
      },
      "text/html": [
       "<div>\n",
       "        \n",
       "        \n",
       "            <div id=\"7f5b74b5-0edf-4d6a-a386-96a29fdd19d4\" class=\"plotly-graph-div\" style=\"height:600px; width:100%;\"></div>\n",
       "            <script type=\"text/javascript\">\n",
       "                require([\"plotly\"], function(Plotly) {\n",
       "                    window.PLOTLYENV=window.PLOTLYENV || {};\n",
       "                    window.PLOTLYENV.BASE_URL='https://plot.ly';\n",
       "                    \n",
       "                if (document.getElementById(\"7f5b74b5-0edf-4d6a-a386-96a29fdd19d4\")) {\n",
       "                    Plotly.newPlot(\n",
       "                        '7f5b74b5-0edf-4d6a-a386-96a29fdd19d4',\n",
       "                        [{\"coloraxis\": \"coloraxis\", \"hoverlabel\": {\"namelength\": 0}, \"hovertemplate\": \"country_iso=%{location}<br>cluster_id=%{z}\", \"locationmode\": \"ISO-3\", \"locations\": [\"ATG\", \"ARE\", \"AFG\", \"DZA\", \"AZE\", \"ALB\", \"ARM\", \"AGO\", \"ARG\", \"AUS\", \"AUT\", \"ATA\", \"BHR\", \"BRB\", \"BWA\", \"BMU\", \"BEL\", \"BHS\", \"BGD\", \"BLZ\", \"BIH\", \"BOL\", \"MMR\", \"BEN\", \"BLR\", \"SLB\", \"BRA\", \"BTN\", \"BGR\", \"BRN\", \"BDI\", \"CAN\", \"KHM\", \"TCD\", \"LKA\", \"COG\", \"COD\", \"CHN\", \"CHL\", \"CYM\", \"CMR\", \"COM\", \"COL\", \"MNP\", \"CRI\", \"CAF\", \"CUB\", \"COK\", \"CYP\", \"DNK\", \"DJI\", \"DMA\", \"DOM\", \"ECU\", \"EGY\", \"IRL\", \"GNQ\", \"EST\", \"ERI\", \"SLV\", \"ETH\", \"CZE\", \"FIN\", \"FJI\", \"FSM\", \"FRA\", \"GMB\", \"GAB\", \"GEO\", \"GHA\", \"GIB\", \"GRD\", \"GGY\", \"GRL\", \"DEU\", \"GUM\", \"GRC\", \"GTM\", \"GNQ\", \"GUY\", -1, \"HTI\", \"HKG\", \"HND\", \"HRV\", \"HUN\", \"ISL\", \"IDN\", \"IND\", \"IRN\", \"ISR\", \"ITA\", \"CIV\", \"IRQ\", \"JPN\", \"JEY\", \"JAM\", \"JOR\", \"KEN\", \"KGZ\", \"PRK\", \"KOR\", \"KWT\", -1, \"KAZ\", \"LAO\", \"LBN\", \"LVA\", \"LTU\", \"LBR\", -1, \"LSO\", \"LUX\", \"LBY\", \"MDG\", \"MAC\", \"MDA\", \"MNG\", \"MSR\", \"MWI\", \"MNE\", \"MKD\", \"MLI\", \"MCO\", \"MAR\", \"MUS\", \"MRT\", \"MLT\", \"OMN\", \"MDV\", \"MEX\", \"MYS\", \"MOZ\", \"NER\", \"VUT\", \"NGA\", \"NLD\", \"NOR\", \"NPL\", \"NRU\", \"SUR\", \"NIC\", \"NZL\", \"SSD\", -1, \"PRY\", \"PER\", \"PAK\", \"POL\", \"PAN\", \"PRT\", \"PNG\", \"PLW\", \"GNB\", \"QAT\", \"SRB\", \"MHL\", \"ROU\", \"PHL\", \"PRI\", \"RUS\", \"RWA\", \"SAU\", \"SYC\", \"ZAF\", \"SEN\", \"SVN\", \"SLE\", \"SGP\", \"SOM\", \"ESP\", \"LCA\", \"SDN\", \"SWE\", \"SYR\", \"CHE\", \"TTO\", \"THA\", \"TJK\", \"TON\", \"TGO\", \"TUN\", \"TLS\", \"TUR\", \"TWN\", \"TKM\", \"TZA\", \"UGA\", \"GBR\", \"UKR\", \"USA\", \"BFA\", \"URY\", \"UZB\", \"VCT\", \"VEN\", \"VNM\", \"VIR\", -1, \"NAM\", -1, \"ESH\", \"WSM\", \"CHE\", \"YEM\", \"ZMB\", \"ZWE\", -1, \"ASM\", \"AND\", \"AIA\", \"ABW\", -1, -1, -1, \"BVT\", \"IOT\", -1, \"CPV\", \"CXR\", -1, \"CCK\", -1, -1, -1, -1, \"FLK\", \"FRO\", \"GUF\", \"PYF\", \"ATF\", -1, \"GLP\", \"HMD\", -1, \"IMN\", \"SJM\", -1, -1, -1, -1, \"KIR\", \"LIE\", \"MTQ\", \"MYT\", -1, -1, -1, \"NCL\", \"NIU\", -1, \"NFK\", -1, -1, \"PCN\", \"REU\", \"SHN\", \"KNA\", \"MAF\", \"SPM\", \"BLM\", \"SMR\", \"STP\", \"SGS\", -1, \"SJM\", \"TKL\", -1, \"TCA\", \"TUV\", -1, -1, -1, \"WLF\"], \"name\": \"\", \"type\": \"choropleth\", \"uid\": \"89fa4b3b-b2b2-4cc1-b7ef-fb77ac5814a3\", \"z\": [3.0, 0.0, 5.0, 5.0, 0.0, 2.0, 0.0, 3.0, 3.0, 14.0, 15.0, 3.0, 0.0, 3.0, 3.0, 6.0, 14.0, 3.0, 15.0, 3.0, 16.0, 8.0, 8.0, 3.0, 3.0, 3.0, 9.0, 3.0, 6.0, 11.0, 11.0, 1.0, 11.0, 6.0, 13.0, 11.0, 11.0, 8.0, 8.0, 3.0, 19.0, 3.0, 2.0, 3.0, 3.0, 3.0, 7.0, 3.0, 3.0, 2.0, 2.0, 3.0, 6.0, 5.0, 1.0, 1.0, 3.0, 3.0, 8.0, 6.0, 9.0, 2.0, 2.0, 7.0, 3.0, 14.0, 3.0, 3.0, 6.0, 3.0, 3.0, 3.0, 3.0, 3.0, 1.0, 3.0, 1.0, 6.0, 8.0, 3.0, 6.0, 6.0, 2.0, 6.0, 16.0, 16.0, 8.0, 12.0, 1.0, 4.0, 4.0, 1.0, 3.0, 18.0, 0.0, 6.0, 3.0, 0.0, 19.0, 8.0, 4.0, 2.0, 0.0, 16.0, 8.0, 3.0, 17.0, 3.0, 6.0, 8.0, 6.0, 3.0, 3.0, 5.0, 6.0, 3.0, 3.0, 3.0, 3.0, 3.0, 3.0, 16.0, 11.0, 3.0, 2.0, 3.0, 6.0, 2.0, 12.0, 3.0, 19.0, 12.0, 1.0, 3.0, 3.0, 19.0, 14.0, 11.0, 6.0, 3.0, 3.0, 2.0, 10.0, 6.0, 6.0, 3.0, 6.0, 1.0, 8.0, 15.0, 0.0, 3.0, 3.0, 3.0, 0.0, 16.0, 3.0, 3.0, 9.0, 6.0, 1.0, 15.0, 4.0, 3.0, 9.0, 3.0, 3.0, 8.0, 8.0, 5.0, 1.0, 3.0, 5.0, 2.0, 18.0, 1.0, 3.0, 9.0, 3.0, 3.0, 3.0, 15.0, 3.0, 4.0, 8.0, 3.0, 6.0, 6.0, 1.0, 8.0, 1.0, 3.0, 3.0, 8.0, 3.0, 4.0, 12.0, 3.0, 6.0, 3.0, 6.0, 3.0, 3.0, 3.0, 4.0, 3.0, 1.0, -1.0, -1.0, -1.0, -1.0, -1.0, -1.0, -1.0, -1.0, -1.0, -1.0, -1.0, -1.0, -1.0, -1.0, -1.0, -1.0, -1.0, -1.0, -1.0, -1.0, -1.0, -1.0, -1.0, -1.0, -1.0, -1.0, -1.0, -1.0, -1.0, -1.0, -1.0, -1.0, -1.0, -1.0, -1.0, -1.0, -1.0, -1.0, -1.0, -1.0, -1.0, -1.0, -1.0, -1.0, -1.0, -1.0, -1.0, -1.0, -1.0, -1.0, -1.0, -1.0, -1.0, -1.0, -1.0, -1.0, -1.0, -1.0, -1.0, -1.0, -1.0, -1.0, -1.0, -1.0, -1.0, -1.0, -1.0]}],\n",
       "                        {\"coloraxis\": {\"colorbar\": {\"title\": {\"text\": \"cluster_id\"}}, \"colorscale\": [[0.0, \"rgb(102, 197, 204)\"], [0.1, \"rgb(246, 207, 113)\"], [0.2, \"rgb(248, 156, 116)\"], [0.3, \"rgb(220, 176, 242)\"], [0.4, \"rgb(135, 197, 95)\"], [0.5, \"rgb(158, 185, 243)\"], [0.6, \"rgb(254, 136, 177)\"], [0.7, \"rgb(201, 219, 116)\"], [0.8, \"rgb(139, 224, 164)\"], [0.9, \"rgb(180, 151, 231)\"], [1.0, \"rgb(179, 179, 179)\"]]}, \"geo\": {\"center\": {}}, \"height\": 600, \"legend\": {\"tracegroupgap\": 0}, \"margin\": {\"t\": 60}, \"template\": {\"data\": {\"bar\": [{\"marker\": {\"line\": {\"color\": \"#E5ECF6\", \"width\": 0.5}}, \"type\": \"bar\"}], \"barpolar\": [{\"marker\": {\"line\": {\"color\": \"#E5ECF6\", \"width\": 0.5}}, \"type\": \"barpolar\"}], \"carpet\": [{\"aaxis\": {\"endlinecolor\": \"#2a3f5f\", \"gridcolor\": \"white\", \"linecolor\": \"white\", \"minorgridcolor\": \"white\", \"startlinecolor\": \"#2a3f5f\"}, \"baxis\": {\"endlinecolor\": \"#2a3f5f\", \"gridcolor\": \"white\", \"linecolor\": \"white\", \"minorgridcolor\": \"white\", \"startlinecolor\": \"#2a3f5f\"}, \"type\": \"carpet\"}], \"choropleth\": [{\"colorbar\": {\"outlinewidth\": 0, \"ticks\": \"\"}, \"type\": \"choropleth\"}], \"contour\": [{\"colorbar\": {\"outlinewidth\": 0, \"ticks\": \"\"}, \"colorscale\": [[0.0, \"#0508b8\"], [0.0893854748603352, \"#1910d8\"], [0.1787709497206704, \"#3c19f0\"], [0.2681564245810056, \"#6b1cfb\"], [0.3575418994413408, \"#981cfd\"], [0.44692737430167595, \"#bf1cfd\"], [0.5363128491620112, \"#dd2bfd\"], [0.6256983240223464, \"#f246fe\"], [0.7150837988826816, \"#fc67fd\"], [0.8044692737430168, \"#fe88fc\"], [0.8938547486033519, \"#fea5fd\"], [0.9832402234636871, \"#febefe\"], [1.0, \"#fec3fe\"]], \"type\": \"contour\"}], \"contourcarpet\": [{\"colorbar\": {\"outlinewidth\": 0, \"ticks\": \"\"}, \"type\": \"contourcarpet\"}], \"heatmap\": [{\"colorbar\": {\"outlinewidth\": 0, \"ticks\": \"\"}, \"colorscale\": [[0.0, \"#0508b8\"], [0.0893854748603352, \"#1910d8\"], [0.1787709497206704, \"#3c19f0\"], [0.2681564245810056, \"#6b1cfb\"], [0.3575418994413408, \"#981cfd\"], [0.44692737430167595, \"#bf1cfd\"], [0.5363128491620112, \"#dd2bfd\"], [0.6256983240223464, \"#f246fe\"], [0.7150837988826816, \"#fc67fd\"], [0.8044692737430168, \"#fe88fc\"], [0.8938547486033519, \"#fea5fd\"], [0.9832402234636871, \"#febefe\"], [1.0, \"#fec3fe\"]], \"type\": \"heatmap\"}], \"heatmapgl\": [{\"colorbar\": {\"outlinewidth\": 0, \"ticks\": \"\"}, \"type\": \"heatmapgl\"}], \"histogram\": [{\"marker\": {\"colorbar\": {\"outlinewidth\": 0, \"ticks\": \"\"}}, \"type\": \"histogram\"}], \"histogram2d\": [{\"colorbar\": {\"outlinewidth\": 0, \"ticks\": \"\"}, \"colorscale\": [[0.0, \"#0508b8\"], [0.0893854748603352, \"#1910d8\"], [0.1787709497206704, \"#3c19f0\"], [0.2681564245810056, \"#6b1cfb\"], [0.3575418994413408, \"#981cfd\"], [0.44692737430167595, \"#bf1cfd\"], [0.5363128491620112, \"#dd2bfd\"], [0.6256983240223464, \"#f246fe\"], [0.7150837988826816, \"#fc67fd\"], [0.8044692737430168, \"#fe88fc\"], [0.8938547486033519, \"#fea5fd\"], [0.9832402234636871, \"#febefe\"], [1.0, \"#fec3fe\"]], \"type\": \"histogram2d\"}], \"histogram2dcontour\": [{\"colorbar\": {\"outlinewidth\": 0, \"ticks\": \"\"}, \"colorscale\": [[0.0, \"#0508b8\"], [0.0893854748603352, \"#1910d8\"], [0.1787709497206704, \"#3c19f0\"], [0.2681564245810056, \"#6b1cfb\"], [0.3575418994413408, \"#981cfd\"], [0.44692737430167595, \"#bf1cfd\"], [0.5363128491620112, \"#dd2bfd\"], [0.6256983240223464, \"#f246fe\"], [0.7150837988826816, \"#fc67fd\"], [0.8044692737430168, \"#fe88fc\"], [0.8938547486033519, \"#fea5fd\"], [0.9832402234636871, \"#febefe\"], [1.0, \"#fec3fe\"]], \"type\": \"histogram2dcontour\"}], \"mesh3d\": [{\"colorbar\": {\"outlinewidth\": 0, \"ticks\": \"\"}, \"type\": \"mesh3d\"}], \"parcoords\": [{\"line\": {\"colorbar\": {\"outlinewidth\": 0, \"ticks\": \"\"}}, \"type\": \"parcoords\"}], \"scatter\": [{\"marker\": {\"colorbar\": {\"outlinewidth\": 0, \"ticks\": \"\"}}, \"type\": \"scatter\"}], \"scatter3d\": [{\"marker\": {\"colorbar\": {\"outlinewidth\": 0, \"ticks\": \"\"}}, \"type\": \"scatter3d\"}], \"scattercarpet\": [{\"marker\": {\"colorbar\": {\"outlinewidth\": 0, \"ticks\": \"\"}}, \"type\": \"scattercarpet\"}], \"scattergeo\": [{\"marker\": {\"colorbar\": {\"outlinewidth\": 0, \"ticks\": \"\"}}, \"type\": \"scattergeo\"}], \"scattergl\": [{\"marker\": {\"colorbar\": {\"outlinewidth\": 0, \"ticks\": \"\"}}, \"type\": \"scattergl\"}], \"scattermapbox\": [{\"marker\": {\"colorbar\": {\"outlinewidth\": 0, \"ticks\": \"\"}}, \"type\": \"scattermapbox\"}], \"scatterpolar\": [{\"marker\": {\"colorbar\": {\"outlinewidth\": 0, \"ticks\": \"\"}}, \"type\": \"scatterpolar\"}], \"scatterpolargl\": [{\"marker\": {\"colorbar\": {\"outlinewidth\": 0, \"ticks\": \"\"}}, \"type\": \"scatterpolargl\"}], \"scatterternary\": [{\"marker\": {\"colorbar\": {\"outlinewidth\": 0, \"ticks\": \"\"}}, \"type\": \"scatterternary\"}], \"surface\": [{\"colorbar\": {\"outlinewidth\": 0, \"ticks\": \"\"}, \"type\": \"surface\"}], \"table\": [{\"cells\": {\"fill\": {\"color\": \"#EBF0F8\"}, \"line\": {\"color\": \"white\"}}, \"header\": {\"fill\": {\"color\": \"#C8D4E3\"}, \"line\": {\"color\": \"white\"}}, \"type\": \"table\"}]}, \"layout\": {\"annotationdefaults\": {\"arrowcolor\": \"#506784\", \"arrowhead\": 0, \"arrowwidth\": 1}, \"colorscale\": {\"diverging\": [[0, \"#8e0152\"], [0.1, \"#c51b7d\"], [0.2, \"#de77ae\"], [0.3, \"#f1b6da\"], [0.4, \"#fde0ef\"], [0.5, \"#f7f7f7\"], [0.6, \"#e6f5d0\"], [0.7, \"#b8e186\"], [0.8, \"#7fbc41\"], [0.9, \"#4d9221\"], [1, \"#276419\"]], \"sequential\": [[0.0, \"#0508b8\"], [0.0893854748603352, \"#1910d8\"], [0.1787709497206704, \"#3c19f0\"], [0.2681564245810056, \"#6b1cfb\"], [0.3575418994413408, \"#981cfd\"], [0.44692737430167595, \"#bf1cfd\"], [0.5363128491620112, \"#dd2bfd\"], [0.6256983240223464, \"#f246fe\"], [0.7150837988826816, \"#fc67fd\"], [0.8044692737430168, \"#fe88fc\"], [0.8938547486033519, \"#fea5fd\"], [0.9832402234636871, \"#febefe\"], [1.0, \"#fec3fe\"]], \"sequentialminus\": [[0.0, \"#0508b8\"], [0.0893854748603352, \"#1910d8\"], [0.1787709497206704, \"#3c19f0\"], [0.2681564245810056, \"#6b1cfb\"], [0.3575418994413408, \"#981cfd\"], [0.44692737430167595, \"#bf1cfd\"], [0.5363128491620112, \"#dd2bfd\"], [0.6256983240223464, \"#f246fe\"], [0.7150837988826816, \"#fc67fd\"], [0.8044692737430168, \"#fe88fc\"], [0.8938547486033519, \"#fea5fd\"], [0.9832402234636871, \"#febefe\"], [1.0, \"#fec3fe\"]]}, \"colorway\": [\"#636efa\", \"#EF553B\", \"#00cc96\", \"#ab63fa\", \"#19d3f3\", \"#e763fa\", \"#FECB52\", \"#FFA15A\", \"#FF6692\", \"#B6E880\"], \"font\": {\"color\": \"#2a3f5f\"}, \"geo\": {\"bgcolor\": \"white\", \"lakecolor\": \"white\", \"landcolor\": \"#E5ECF6\", \"showlakes\": true, \"showland\": true, \"subunitcolor\": \"white\"}, \"hoverlabel\": {\"align\": \"left\"}, \"hovermode\": \"closest\", \"mapbox\": {\"style\": \"light\"}, \"paper_bgcolor\": \"white\", \"plot_bgcolor\": \"#E5ECF6\", \"polar\": {\"angularaxis\": {\"gridcolor\": \"white\", \"linecolor\": \"white\", \"ticks\": \"\"}, \"bgcolor\": \"#E5ECF6\", \"radialaxis\": {\"gridcolor\": \"white\", \"linecolor\": \"white\", \"ticks\": \"\"}}, \"scene\": {\"xaxis\": {\"backgroundcolor\": \"#E5ECF6\", \"gridcolor\": \"white\", \"gridwidth\": 2, \"linecolor\": \"white\", \"showbackground\": true, \"ticks\": \"\", \"zerolinecolor\": \"white\"}, \"yaxis\": {\"backgroundcolor\": \"#E5ECF6\", \"gridcolor\": \"white\", \"gridwidth\": 2, \"linecolor\": \"white\", \"showbackground\": true, \"ticks\": \"\", \"zerolinecolor\": \"white\"}, \"zaxis\": {\"backgroundcolor\": \"#E5ECF6\", \"gridcolor\": \"white\", \"gridwidth\": 2, \"linecolor\": \"white\", \"showbackground\": true, \"ticks\": \"\", \"zerolinecolor\": \"white\"}}, \"shapedefaults\": {\"fillcolor\": \"#506784\", \"line\": {\"width\": 0}, \"opacity\": 0.4}, \"ternary\": {\"aaxis\": {\"gridcolor\": \"white\", \"linecolor\": \"white\", \"ticks\": \"\"}, \"baxis\": {\"gridcolor\": \"white\", \"linecolor\": \"white\", \"ticks\": \"\"}, \"bgcolor\": \"#E5ECF6\", \"caxis\": {\"gridcolor\": \"white\", \"linecolor\": \"white\", \"ticks\": \"\"}}, \"title\": {\"x\": 0.05}, \"xaxis\": {\"automargin\": true, \"gridcolor\": \"white\", \"linecolor\": \"white\", \"ticks\": \"\", \"zerolinecolor\": \"white\", \"zerolinewidth\": 2}, \"yaxis\": {\"automargin\": true, \"gridcolor\": \"white\", \"linecolor\": \"white\", \"ticks\": \"\", \"zerolinecolor\": \"white\", \"zerolinewidth\": 2}}}},\n",
       "                        {\"responsive\": true, \"plotlyServerURL\": \"https://plot.ly\"}\n",
       "                    ).then(function(){\n",
       "                            \n",
       "var gd = document.getElementById('7f5b74b5-0edf-4d6a-a386-96a29fdd19d4');\n",
       "var x = new MutationObserver(function (mutations, observer) {{\n",
       "        var display = window.getComputedStyle(gd).display;\n",
       "        if (!display || display === 'none') {{\n",
       "            console.log([gd, 'removed!']);\n",
       "            Plotly.purge(gd);\n",
       "            observer.disconnect();\n",
       "        }}\n",
       "}});\n",
       "\n",
       "// Listen for the removal of the full notebook cells\n",
       "var notebookContainer = gd.closest('#notebook-container');\n",
       "if (notebookContainer) {{\n",
       "    x.observe(notebookContainer, {childList: true});\n",
       "}}\n",
       "\n",
       "// Listen for the clearing of the current output cell\n",
       "var outputEl = gd.closest('.output');\n",
       "if (outputEl) {{\n",
       "    x.observe(outputEl, {childList: true});\n",
       "}}\n",
       "\n",
       "                        })\n",
       "                };\n",
       "                });\n",
       "            </script>\n",
       "        </div>"
      ]
     },
     "metadata": {},
     "output_type": "display_data"
    }
   ],
   "source": [
    "fig = px.choropleth(\n",
    "    cluster_df,\n",
    "    locations='country_iso',\n",
    "    locationmode='ISO-3',\n",
    "    color='cluster_id',\n",
    "    labels='cluster_id',\n",
    "    color_continuous_scale=px.colors.qualitative.Pastel,\n",
    ")\n",
    "fig.show()"
   ]
  },
  {
   "cell_type": "code",
   "execution_count": 108,
   "metadata": {},
   "outputs": [],
   "source": [
    "query = \"\"\"\n",
    "SELECT Actor1Geo_CountryCode AS ActorGeo,\n",
    "       Actor1Type1Code AS Type1,\n",
    "       Actor2Type1Code AS Type2,\n",
    "       SUM(AvgTone * NumMentions) / SUM(NumMentions) * count(*) AS AvgTone\n",
    "FROM `gdelt-bq.full.events`\n",
    "WHERE MonthYear >= 201303\n",
    "AND MonthYear < 201905\n",
    "AND Actor1Geo_CountryCode IS NOT NULL\n",
    "AND Actor1Geo_CountryCode = Actor2Geo_CountryCode \n",
    "GROUP BY Actor1Geo_CountryCode, Actor1Type1Code, Actor2Type1Code\n",
    "ORDER BY Actor1Geo_CountryCode, Actor1Type1Code, Actor2Type1Code\n",
    "\"\"\""
   ]
  },
  {
   "cell_type": "code",
   "execution_count": 109,
   "metadata": {},
   "outputs": [],
   "source": [
    "df = get_result_dataframe(query)\n",
    "df.to_pickle('df_dump4.pickle')"
   ]
  },
  {
   "cell_type": "code",
   "execution_count": 238,
   "metadata": {},
   "outputs": [],
   "source": [
    "df = pd.read_pickle('df_dump4.pickle')"
   ]
  },
  {
   "cell_type": "code",
   "execution_count": 239,
   "metadata": {},
   "outputs": [],
   "source": [
    "threshold = 50000\n",
    "\n",
    "actor1_geo_count = pd.read_csv('actor1_geo_count.csv').dropna()\n",
    "actor2_geo_count = pd.read_csv('actor2_geo_count.csv').dropna()\n",
    "a1_countries = set(actor1_geo_count[actor1_geo_count['Count'] >= threshold]['Actor1Geo_CountryCode'])\n",
    "a2_countries = set(actor2_geo_count[actor2_geo_count['Count'] >= threshold]['Actor2Geo_CountryCode'])\n",
    "countries_to_leave = list(a1_countries.intersection(a2_countries))"
   ]
  },
  {
   "cell_type": "code",
   "execution_count": 240,
   "metadata": {},
   "outputs": [],
   "source": [
    "df = df[(df['ActorGeo'].isin(countries_to_leave))]"
   ]
  },
  {
   "cell_type": "code",
   "execution_count": 241,
   "metadata": {},
   "outputs": [],
   "source": [
    "multi_index = pd.MultiIndex.from_product(\n",
    "    [df['ActorGeo'].unique(), df['Type1'].unique(), df['Type2'].unique()],\n",
    "    names=['ActorGeo', 'Type1', 'Type2'])\n",
    "df.index = pd.MultiIndex.from_arrays(\n",
    "    [df['ActorGeo'], df['Type1'], df['Type2']],\n",
    "    names=['ActorGeo', 'Type1', 'Type2'])\n",
    "df.drop(['ActorGeo', 'Type1', 'Type2'], axis=1, inplace=True)\n",
    "df = df.reindex(multi_index).reset_index()\n",
    "df.fillna(0., inplace=True)\n",
    "df.sort_values(['ActorGeo', 'Type1', 'Type2'], inplace=True)\n",
    "df.index = np.arange(df.shape[0])"
   ]
  },
  {
   "cell_type": "code",
   "execution_count": 198,
   "metadata": {},
   "outputs": [],
   "source": [
    "df1 = df.groupby(['ActorGeo', 'Type1']).sum().reset_index()\n",
    "df1.rename({'Type1': 'Type'}, axis=1, inplace=True)\n",
    "df1['Type'] = df1['Type'] + '_1'\n",
    "df2 = df.groupby(['ActorGeo', 'Type2']).sum().reset_index()\n",
    "df2.rename({'Type2': 'Type'}, axis=1, inplace=True)\n",
    "df2['Type'] = df2['Type'] + '_2'\n",
    "df = pd.concat([df1, df2])\n",
    "df.sort_values(['ActorGeo', 'Type'], inplace=True)"
   ]
  },
  {
   "cell_type": "code",
   "execution_count": 244,
   "metadata": {},
   "outputs": [],
   "source": [
    "df = df[(df.Type1 != 0.0) & df.Type2 != 0.0]"
   ]
  },
  {
   "cell_type": "code",
   "execution_count": 246,
   "metadata": {},
   "outputs": [],
   "source": [
    "types_no = np.unique(df.groupby('ActorGeo')['AvgTone'].count())[0]"
   ]
  },
  {
   "cell_type": "code",
   "execution_count": 247,
   "metadata": {},
   "outputs": [],
   "source": [
    "data = df['AvgTone'].values.reshape((-1, types_no))\n",
    "labels = df['ActorGeo'].unique()"
   ]
  },
  {
   "cell_type": "code",
   "execution_count": 248,
   "metadata": {},
   "outputs": [],
   "source": [
    "norm_data = (data - np.mean(data, axis=1)[:, np.newaxis]) / np.std(data, axis=1)[:, np.newaxis]"
   ]
  },
  {
   "cell_type": "code",
   "execution_count": 203,
   "metadata": {},
   "outputs": [],
   "source": [
    "fips_to_iso_mapping = pd.read_csv('fips-iso-country.csv', index_col='FIPS')"
   ]
  },
  {
   "cell_type": "code",
   "execution_count": 249,
   "metadata": {},
   "outputs": [],
   "source": [
    "from sklearn.cluster import AffinityPropagation\n",
    "\n",
    "model = AffinityPropagation()\n",
    "\n",
    "clusters = model.fit_predict(norm_data)"
   ]
  },
  {
   "cell_type": "code",
   "execution_count": 230,
   "metadata": {},
   "outputs": [],
   "source": [
    "from sklearn.cluster import Birch\n",
    "\n",
    "model = Birch(\n",
    "    branching_factor=5,\n",
    "    n_clusters=25\n",
    ")\n",
    "\n",
    "clusters = model.fit_predict(norm_data)"
   ]
  },
  {
   "cell_type": "code",
   "execution_count": 234,
   "metadata": {},
   "outputs": [],
   "source": [
    "from sklearn.cluster import KMeans\n",
    "\n",
    "model = KMeans(\n",
    "    n_clusters=25\n",
    ")\n",
    "clusters = model.fit_predict(norm_data)"
   ]
  },
  {
   "cell_type": "code",
   "execution_count": 253,
   "metadata": {},
   "outputs": [],
   "source": [
    "from sklearn.cluster import AgglomerativeClustering\n",
    "\n",
    "model = AgglomerativeClustering(\n",
    "    n_clusters=30,\n",
    "    linkage='ward',\n",
    ")\n",
    "clusters = model.fit_predict(norm_data)"
   ]
  },
  {
   "cell_type": "code",
   "execution_count": 254,
   "metadata": {},
   "outputs": [],
   "source": [
    "cluster_df = pd.DataFrame({\n",
    "    'country_id': labels,\n",
    "    'cluster_id': clusters,\n",
    "})"
   ]
  },
  {
   "cell_type": "code",
   "execution_count": 255,
   "metadata": {},
   "outputs": [],
   "source": [
    "cluster_df = cluster_df.join(fips_to_iso_mapping,\n",
    "                             on=['country_id'],\n",
    "                             how='right',\n",
    "                            ).fillna(-1)\n",
    "cluster_df.rename({'ISO': 'country_iso'}, axis=1, inplace=True)"
   ]
  },
  {
   "cell_type": "code",
   "execution_count": 256,
   "metadata": {
    "scrolled": false
   },
   "outputs": [
    {
     "data": {
      "application/vnd.plotly.v1+json": {
       "config": {
        "linkText": "Export to plot.ly",
        "plotlyServerURL": "https://plot.ly",
        "showLink": false
       },
       "data": [
        {
         "coloraxis": "coloraxis",
         "hoverlabel": {
          "namelength": 0
         },
         "hovertemplate": "country_iso=%{location}<br>cluster_id=%{z}",
         "locationmode": "ISO-3",
         "locations": [
          "ATG",
          "ARE",
          "AFG",
          "DZA",
          "AZE",
          "ALB",
          "ARM",
          "AGO",
          "ARG",
          "AUS",
          "AUT",
          "BHR",
          "BRB",
          "BWA",
          "BMU",
          "BEL",
          "BHS",
          "BGD",
          "BLZ",
          "BIH",
          "BOL",
          "MMR",
          "BEN",
          "BLR",
          "SLB",
          "BRA",
          "BTN",
          "BGR",
          "BRN",
          "BDI",
          "CAN",
          "KHM",
          "TCD",
          "LKA",
          "COG",
          "COD",
          "CHN",
          "CHL",
          "CYM",
          "CMR",
          "COL",
          "MNP",
          "CRI",
          "CAF",
          "CUB",
          "CYP",
          "DNK",
          "DJI",
          "DOM",
          "ECU",
          "EGY",
          "IRL",
          "GNQ",
          "EST",
          "ERI",
          "SLV",
          "ETH",
          "CZE",
          "FIN",
          "FJI",
          "FSM",
          "FRA",
          "GMB",
          "GAB",
          "GEO",
          "GHA",
          "GIB",
          "GRD",
          "GRL",
          "DEU",
          "GUM",
          "GRC",
          "GTM",
          "GIN",
          "GUY",
          -1,
          "HTI",
          "HKG",
          "HND",
          "HRV",
          "HUN",
          "ISL",
          "IDN",
          "IND",
          "IRN",
          "ISR",
          "ITA",
          "CIV",
          "IRQ",
          "JPN",
          "JEY",
          "JAM",
          "JOR",
          "KEN",
          "KGZ",
          "PRK",
          "KOR",
          "KWT",
          "XKX",
          "KAZ",
          "LAO",
          "LBN",
          "LVA",
          "LTU",
          "LBR",
          "SVK",
          "LSO",
          "LUX",
          "LBY",
          "MDG",
          "MAC",
          "MDA",
          "MNG",
          "MWI",
          "MNE",
          "MKD",
          "MLI",
          "MCO",
          "MAR",
          "MUS",
          "MRT",
          "MLT",
          "OMN",
          "MDV",
          "MEX",
          "MYS",
          "MOZ",
          "NER",
          "VUT",
          "NGA",
          "NLD",
          "NOR",
          "NPL",
          "NRU",
          "NIC",
          "NZL",
          "SSD",
          -1,
          "PRY",
          "PER",
          "PAK",
          "POL",
          "PAN",
          "PRT",
          "PNG",
          "GNB",
          "QAT",
          "SRB",
          "ROU",
          "PHL",
          "PRI",
          "RUS",
          "RWA",
          "SAU",
          "SYC",
          "ZAF",
          "SEN",
          "SVN",
          "SLE",
          "SGP",
          "SOM",
          "ESP",
          "SDN",
          "SWE",
          "SYR",
          "CHE",
          "TTO",
          "THA",
          "TJK",
          "TON",
          "TGO",
          "TUN",
          "TLS",
          "TUR",
          "TWN",
          "TKM",
          "TZA",
          "UGA",
          "GBR",
          "UKR",
          "USA",
          "BFA",
          "URY",
          "UZB",
          "VEN",
          "VNM",
          -1,
          "NAM",
          "PSE",
          "WSM",
          "CHE",
          "YEM",
          "ZMB",
          "ZWE",
          -1,
          "ASM",
          "AND",
          "AIA",
          "ATA",
          "ABW",
          -1,
          -1,
          -1,
          "BVT",
          "IOT",
          -1,
          "CPV",
          "CXR",
          -1,
          "CCK",
          "COM",
          "COK",
          -1,
          -1,
          "DMA",
          -1,
          -1,
          "FLK",
          "FRO",
          "GUF",
          "PYF",
          "ATF",
          -1,
          "GLP",
          "GGY",
          "HMD",
          -1,
          "IMN",
          "SJM",
          -1,
          -1,
          -1,
          -1,
          "KIR",
          "LIE",
          "MHL",
          "MTQ",
          "MYT",
          -1,
          "MSR",
          -1,
          -1,
          "NCL",
          "NIU",
          -1,
          "NFK",
          "PLW",
          -1,
          -1,
          "PCN",
          "REU",
          "SHN",
          "KNA",
          "LCA",
          "MAF",
          "SPM",
          "VCT",
          "BLM",
          "SMR",
          "STP",
          "SGS",
          -1,
          "SUR",
          "SJM",
          "TKL",
          -1,
          "TCA",
          "TUV",
          -1,
          -1,
          "VIR",
          -1,
          "WLF",
          "ESH"
         ],
         "name": "",
         "type": "choropleth",
         "uid": "193b01ad-42c7-4e57-b389-aa0d6d6ad692",
         "z": [
          1,
          15,
          0,
          26,
          18,
          23,
          18,
          2,
          24,
          6,
          1,
          2,
          10,
          9,
          15,
          1,
          13,
          11,
          13,
          16,
          12,
          0,
          10,
          18,
          20,
          24,
          28,
          8,
          12,
          5,
          6,
          17,
          0,
          14,
          5,
          5,
          14,
          14,
          7,
          0,
          19,
          21,
          2,
          5,
          26,
          9,
          11,
          0,
          22,
          12,
          0,
          6,
          4,
          28,
          1,
          6,
          17,
          1,
          1,
          20,
          21,
          14,
          17,
          23,
          2,
          10,
          10,
          20,
          3,
          1,
          13,
          1,
          24,
          27,
          13,
          19,
          17,
          22,
          17,
          1,
          1,
          14,
          11,
          6,
          26,
          26,
          14,
          26,
          0,
          14,
          13,
          10,
          14,
          14,
          18,
          12,
          24,
          10,
          17,
          18,
          12,
          26,
          7,
          9,
          20,
          1,
          16,
          12,
          19,
          23,
          22,
          24,
          27,
          6,
          27,
          23,
          0,
          28,
          2,
          28,
          2,
          10,
          15,
          24,
          6,
          14,
          11,
          0,
          22,
          0,
          14,
          11,
          17,
          1,
          23,
          10,
          19,
          1,
          22,
          24,
          0,
          1,
          24,
          14,
          17,
          12,
          15,
          1,
          24,
          0,
          14,
          12,
          1,
          26,
          28,
          6,
          4,
          1,
          22,
          10,
          0,
          14,
          19,
          11,
          19,
          1,
          13,
          11,
          18,
          18,
          23,
          0,
          8,
          26,
          22,
          28,
          17,
          14,
          14,
          0,
          6,
          26,
          29,
          2,
          23,
          17,
          8,
          20,
          3,
          13,
          18,
          19,
          18,
          14,
          -1,
          -1,
          -1,
          -1,
          -1,
          -1,
          -1,
          -1,
          -1,
          -1,
          -1,
          -1,
          -1,
          -1,
          -1,
          -1,
          -1,
          -1,
          -1,
          -1,
          -1,
          -1,
          -1,
          -1,
          -1,
          -1,
          -1,
          -1,
          -1,
          -1,
          -1,
          -1,
          -1,
          -1,
          -1,
          -1,
          -1,
          -1,
          -1,
          -1,
          -1,
          -1,
          -1,
          -1,
          -1,
          -1,
          -1,
          -1,
          -1,
          -1,
          -1,
          -1,
          -1,
          -1,
          -1,
          -1,
          -1,
          -1,
          -1,
          -1,
          -1,
          -1,
          -1,
          -1,
          -1,
          -1,
          -1,
          -1,
          -1,
          -1,
          -1,
          -1,
          -1,
          -1,
          -1,
          -1,
          -1,
          -1,
          -1,
          -1
         ]
        }
       ],
       "layout": {
        "coloraxis": {
         "colorbar": {
          "title": {
           "text": "cluster_id"
          }
         },
         "colorscale": [
          [
           0,
           "#AA0DFE"
          ],
          [
           0.04,
           "#3283FE"
          ],
          [
           0.08,
           "#85660D"
          ],
          [
           0.12,
           "#782AB6"
          ],
          [
           0.16,
           "#565656"
          ],
          [
           0.2,
           "#1C8356"
          ],
          [
           0.24,
           "#16FF32"
          ],
          [
           0.28,
           "#F7E1A0"
          ],
          [
           0.32,
           "#E2E2E2"
          ],
          [
           0.36,
           "#1CBE4F"
          ],
          [
           0.4,
           "#C4451C"
          ],
          [
           0.44,
           "#DEA0FD"
          ],
          [
           0.48,
           "#FE00FA"
          ],
          [
           0.52,
           "#325A9B"
          ],
          [
           0.56,
           "#FEAF16"
          ],
          [
           0.6,
           "#F8A19F"
          ],
          [
           0.64,
           "#90AD1C"
          ],
          [
           0.68,
           "#F6222E"
          ],
          [
           0.72,
           "#1CFFCE"
          ],
          [
           0.76,
           "#2ED9FF"
          ],
          [
           0.8,
           "#B10DA1"
          ],
          [
           0.84,
           "#C075A6"
          ],
          [
           0.88,
           "#FC1CBF"
          ],
          [
           0.92,
           "#B00068"
          ],
          [
           0.96,
           "#FBE426"
          ],
          [
           1,
           "#FA0087"
          ]
         ]
        },
        "geo": {
         "projection": {
          "type": "natural earth"
         }
        },
        "height": 600,
        "legend": {
         "tracegroupgap": 0
        },
        "margin": {
         "t": 60
        },
        "template": {
         "data": {
          "bar": [
           {
            "marker": {
             "line": {
              "color": "#E5ECF6",
              "width": 0.5
             }
            },
            "type": "bar"
           }
          ],
          "barpolar": [
           {
            "marker": {
             "line": {
              "color": "#E5ECF6",
              "width": 0.5
             }
            },
            "type": "barpolar"
           }
          ],
          "carpet": [
           {
            "aaxis": {
             "endlinecolor": "#2a3f5f",
             "gridcolor": "white",
             "linecolor": "white",
             "minorgridcolor": "white",
             "startlinecolor": "#2a3f5f"
            },
            "baxis": {
             "endlinecolor": "#2a3f5f",
             "gridcolor": "white",
             "linecolor": "white",
             "minorgridcolor": "white",
             "startlinecolor": "#2a3f5f"
            },
            "type": "carpet"
           }
          ],
          "choropleth": [
           {
            "colorbar": {
             "outlinewidth": 0,
             "ticks": ""
            },
            "type": "choropleth"
           }
          ],
          "contour": [
           {
            "colorbar": {
             "outlinewidth": 0,
             "ticks": ""
            },
            "colorscale": [
             [
              0,
              "#0508b8"
             ],
             [
              0.0893854748603352,
              "#1910d8"
             ],
             [
              0.1787709497206704,
              "#3c19f0"
             ],
             [
              0.2681564245810056,
              "#6b1cfb"
             ],
             [
              0.3575418994413408,
              "#981cfd"
             ],
             [
              0.44692737430167595,
              "#bf1cfd"
             ],
             [
              0.5363128491620112,
              "#dd2bfd"
             ],
             [
              0.6256983240223464,
              "#f246fe"
             ],
             [
              0.7150837988826816,
              "#fc67fd"
             ],
             [
              0.8044692737430168,
              "#fe88fc"
             ],
             [
              0.8938547486033519,
              "#fea5fd"
             ],
             [
              0.9832402234636871,
              "#febefe"
             ],
             [
              1,
              "#fec3fe"
             ]
            ],
            "type": "contour"
           }
          ],
          "contourcarpet": [
           {
            "colorbar": {
             "outlinewidth": 0,
             "ticks": ""
            },
            "type": "contourcarpet"
           }
          ],
          "heatmap": [
           {
            "colorbar": {
             "outlinewidth": 0,
             "ticks": ""
            },
            "colorscale": [
             [
              0,
              "#0508b8"
             ],
             [
              0.0893854748603352,
              "#1910d8"
             ],
             [
              0.1787709497206704,
              "#3c19f0"
             ],
             [
              0.2681564245810056,
              "#6b1cfb"
             ],
             [
              0.3575418994413408,
              "#981cfd"
             ],
             [
              0.44692737430167595,
              "#bf1cfd"
             ],
             [
              0.5363128491620112,
              "#dd2bfd"
             ],
             [
              0.6256983240223464,
              "#f246fe"
             ],
             [
              0.7150837988826816,
              "#fc67fd"
             ],
             [
              0.8044692737430168,
              "#fe88fc"
             ],
             [
              0.8938547486033519,
              "#fea5fd"
             ],
             [
              0.9832402234636871,
              "#febefe"
             ],
             [
              1,
              "#fec3fe"
             ]
            ],
            "type": "heatmap"
           }
          ],
          "heatmapgl": [
           {
            "colorbar": {
             "outlinewidth": 0,
             "ticks": ""
            },
            "type": "heatmapgl"
           }
          ],
          "histogram": [
           {
            "marker": {
             "colorbar": {
              "outlinewidth": 0,
              "ticks": ""
             }
            },
            "type": "histogram"
           }
          ],
          "histogram2d": [
           {
            "colorbar": {
             "outlinewidth": 0,
             "ticks": ""
            },
            "colorscale": [
             [
              0,
              "#0508b8"
             ],
             [
              0.0893854748603352,
              "#1910d8"
             ],
             [
              0.1787709497206704,
              "#3c19f0"
             ],
             [
              0.2681564245810056,
              "#6b1cfb"
             ],
             [
              0.3575418994413408,
              "#981cfd"
             ],
             [
              0.44692737430167595,
              "#bf1cfd"
             ],
             [
              0.5363128491620112,
              "#dd2bfd"
             ],
             [
              0.6256983240223464,
              "#f246fe"
             ],
             [
              0.7150837988826816,
              "#fc67fd"
             ],
             [
              0.8044692737430168,
              "#fe88fc"
             ],
             [
              0.8938547486033519,
              "#fea5fd"
             ],
             [
              0.9832402234636871,
              "#febefe"
             ],
             [
              1,
              "#fec3fe"
             ]
            ],
            "type": "histogram2d"
           }
          ],
          "histogram2dcontour": [
           {
            "colorbar": {
             "outlinewidth": 0,
             "ticks": ""
            },
            "colorscale": [
             [
              0,
              "#0508b8"
             ],
             [
              0.0893854748603352,
              "#1910d8"
             ],
             [
              0.1787709497206704,
              "#3c19f0"
             ],
             [
              0.2681564245810056,
              "#6b1cfb"
             ],
             [
              0.3575418994413408,
              "#981cfd"
             ],
             [
              0.44692737430167595,
              "#bf1cfd"
             ],
             [
              0.5363128491620112,
              "#dd2bfd"
             ],
             [
              0.6256983240223464,
              "#f246fe"
             ],
             [
              0.7150837988826816,
              "#fc67fd"
             ],
             [
              0.8044692737430168,
              "#fe88fc"
             ],
             [
              0.8938547486033519,
              "#fea5fd"
             ],
             [
              0.9832402234636871,
              "#febefe"
             ],
             [
              1,
              "#fec3fe"
             ]
            ],
            "type": "histogram2dcontour"
           }
          ],
          "mesh3d": [
           {
            "colorbar": {
             "outlinewidth": 0,
             "ticks": ""
            },
            "type": "mesh3d"
           }
          ],
          "parcoords": [
           {
            "line": {
             "colorbar": {
              "outlinewidth": 0,
              "ticks": ""
             }
            },
            "type": "parcoords"
           }
          ],
          "scatter": [
           {
            "marker": {
             "colorbar": {
              "outlinewidth": 0,
              "ticks": ""
             }
            },
            "type": "scatter"
           }
          ],
          "scatter3d": [
           {
            "marker": {
             "colorbar": {
              "outlinewidth": 0,
              "ticks": ""
             }
            },
            "type": "scatter3d"
           }
          ],
          "scattercarpet": [
           {
            "marker": {
             "colorbar": {
              "outlinewidth": 0,
              "ticks": ""
             }
            },
            "type": "scattercarpet"
           }
          ],
          "scattergeo": [
           {
            "marker": {
             "colorbar": {
              "outlinewidth": 0,
              "ticks": ""
             }
            },
            "type": "scattergeo"
           }
          ],
          "scattergl": [
           {
            "marker": {
             "colorbar": {
              "outlinewidth": 0,
              "ticks": ""
             }
            },
            "type": "scattergl"
           }
          ],
          "scattermapbox": [
           {
            "marker": {
             "colorbar": {
              "outlinewidth": 0,
              "ticks": ""
             }
            },
            "type": "scattermapbox"
           }
          ],
          "scatterpolar": [
           {
            "marker": {
             "colorbar": {
              "outlinewidth": 0,
              "ticks": ""
             }
            },
            "type": "scatterpolar"
           }
          ],
          "scatterpolargl": [
           {
            "marker": {
             "colorbar": {
              "outlinewidth": 0,
              "ticks": ""
             }
            },
            "type": "scatterpolargl"
           }
          ],
          "scatterternary": [
           {
            "marker": {
             "colorbar": {
              "outlinewidth": 0,
              "ticks": ""
             }
            },
            "type": "scatterternary"
           }
          ],
          "surface": [
           {
            "colorbar": {
             "outlinewidth": 0,
             "ticks": ""
            },
            "type": "surface"
           }
          ],
          "table": [
           {
            "cells": {
             "fill": {
              "color": "#EBF0F8"
             },
             "line": {
              "color": "white"
             }
            },
            "header": {
             "fill": {
              "color": "#C8D4E3"
             },
             "line": {
              "color": "white"
             }
            },
            "type": "table"
           }
          ]
         },
         "layout": {
          "annotationdefaults": {
           "arrowcolor": "#506784",
           "arrowhead": 0,
           "arrowwidth": 1
          },
          "colorscale": {
           "diverging": [
            [
             0,
             "#8e0152"
            ],
            [
             0.1,
             "#c51b7d"
            ],
            [
             0.2,
             "#de77ae"
            ],
            [
             0.3,
             "#f1b6da"
            ],
            [
             0.4,
             "#fde0ef"
            ],
            [
             0.5,
             "#f7f7f7"
            ],
            [
             0.6,
             "#e6f5d0"
            ],
            [
             0.7,
             "#b8e186"
            ],
            [
             0.8,
             "#7fbc41"
            ],
            [
             0.9,
             "#4d9221"
            ],
            [
             1,
             "#276419"
            ]
           ],
           "sequential": [
            [
             0,
             "#0508b8"
            ],
            [
             0.0893854748603352,
             "#1910d8"
            ],
            [
             0.1787709497206704,
             "#3c19f0"
            ],
            [
             0.2681564245810056,
             "#6b1cfb"
            ],
            [
             0.3575418994413408,
             "#981cfd"
            ],
            [
             0.44692737430167595,
             "#bf1cfd"
            ],
            [
             0.5363128491620112,
             "#dd2bfd"
            ],
            [
             0.6256983240223464,
             "#f246fe"
            ],
            [
             0.7150837988826816,
             "#fc67fd"
            ],
            [
             0.8044692737430168,
             "#fe88fc"
            ],
            [
             0.8938547486033519,
             "#fea5fd"
            ],
            [
             0.9832402234636871,
             "#febefe"
            ],
            [
             1,
             "#fec3fe"
            ]
           ],
           "sequentialminus": [
            [
             0,
             "#0508b8"
            ],
            [
             0.0893854748603352,
             "#1910d8"
            ],
            [
             0.1787709497206704,
             "#3c19f0"
            ],
            [
             0.2681564245810056,
             "#6b1cfb"
            ],
            [
             0.3575418994413408,
             "#981cfd"
            ],
            [
             0.44692737430167595,
             "#bf1cfd"
            ],
            [
             0.5363128491620112,
             "#dd2bfd"
            ],
            [
             0.6256983240223464,
             "#f246fe"
            ],
            [
             0.7150837988826816,
             "#fc67fd"
            ],
            [
             0.8044692737430168,
             "#fe88fc"
            ],
            [
             0.8938547486033519,
             "#fea5fd"
            ],
            [
             0.9832402234636871,
             "#febefe"
            ],
            [
             1,
             "#fec3fe"
            ]
           ]
          },
          "colorway": [
           "#636efa",
           "#EF553B",
           "#00cc96",
           "#ab63fa",
           "#19d3f3",
           "#e763fa",
           "#FECB52",
           "#FFA15A",
           "#FF6692",
           "#B6E880"
          ],
          "font": {
           "color": "#2a3f5f"
          },
          "geo": {
           "bgcolor": "white",
           "lakecolor": "white",
           "landcolor": "#E5ECF6",
           "showlakes": true,
           "showland": true,
           "subunitcolor": "white"
          },
          "hoverlabel": {
           "align": "left"
          },
          "hovermode": "closest",
          "mapbox": {
           "style": "light"
          },
          "paper_bgcolor": "white",
          "plot_bgcolor": "#E5ECF6",
          "polar": {
           "angularaxis": {
            "gridcolor": "white",
            "linecolor": "white",
            "ticks": ""
           },
           "bgcolor": "#E5ECF6",
           "radialaxis": {
            "gridcolor": "white",
            "linecolor": "white",
            "ticks": ""
           }
          },
          "scene": {
           "xaxis": {
            "backgroundcolor": "#E5ECF6",
            "gridcolor": "white",
            "gridwidth": 2,
            "linecolor": "white",
            "showbackground": true,
            "ticks": "",
            "zerolinecolor": "white"
           },
           "yaxis": {
            "backgroundcolor": "#E5ECF6",
            "gridcolor": "white",
            "gridwidth": 2,
            "linecolor": "white",
            "showbackground": true,
            "ticks": "",
            "zerolinecolor": "white"
           },
           "zaxis": {
            "backgroundcolor": "#E5ECF6",
            "gridcolor": "white",
            "gridwidth": 2,
            "linecolor": "white",
            "showbackground": true,
            "ticks": "",
            "zerolinecolor": "white"
           }
          },
          "shapedefaults": {
           "fillcolor": "#506784",
           "line": {
            "width": 0
           },
           "opacity": 0.4
          },
          "ternary": {
           "aaxis": {
            "gridcolor": "white",
            "linecolor": "white",
            "ticks": ""
           },
           "baxis": {
            "gridcolor": "white",
            "linecolor": "white",
            "ticks": ""
           },
           "bgcolor": "#E5ECF6",
           "caxis": {
            "gridcolor": "white",
            "linecolor": "white",
            "ticks": ""
           }
          },
          "title": {
           "x": 0.05
          },
          "xaxis": {
           "automargin": true,
           "gridcolor": "white",
           "linecolor": "white",
           "ticks": "",
           "zerolinecolor": "white",
           "zerolinewidth": 2
          },
          "yaxis": {
           "automargin": true,
           "gridcolor": "white",
           "linecolor": "white",
           "ticks": "",
           "zerolinecolor": "white",
           "zerolinewidth": 2
          }
         }
        }
       }
      },
      "text/html": [
       "<div>\n",
       "        \n",
       "        \n",
       "            <div id=\"0cfc1292-c164-4550-8ace-826b6680467b\" class=\"plotly-graph-div\" style=\"height:600px; width:100%;\"></div>\n",
       "            <script type=\"text/javascript\">\n",
       "                require([\"plotly\"], function(Plotly) {\n",
       "                    window.PLOTLYENV=window.PLOTLYENV || {};\n",
       "                    window.PLOTLYENV.BASE_URL='https://plot.ly';\n",
       "                    \n",
       "                if (document.getElementById(\"0cfc1292-c164-4550-8ace-826b6680467b\")) {\n",
       "                    Plotly.newPlot(\n",
       "                        '0cfc1292-c164-4550-8ace-826b6680467b',\n",
       "                        [{\"coloraxis\": \"coloraxis\", \"hoverlabel\": {\"namelength\": 0}, \"hovertemplate\": \"country_iso=%{location}<br>cluster_id=%{z}\", \"locationmode\": \"ISO-3\", \"locations\": [\"ATG\", \"ARE\", \"AFG\", \"DZA\", \"AZE\", \"ALB\", \"ARM\", \"AGO\", \"ARG\", \"AUS\", \"AUT\", \"BHR\", \"BRB\", \"BWA\", \"BMU\", \"BEL\", \"BHS\", \"BGD\", \"BLZ\", \"BIH\", \"BOL\", \"MMR\", \"BEN\", \"BLR\", \"SLB\", \"BRA\", \"BTN\", \"BGR\", \"BRN\", \"BDI\", \"CAN\", \"KHM\", \"TCD\", \"LKA\", \"COG\", \"COD\", \"CHN\", \"CHL\", \"CYM\", \"CMR\", \"COL\", \"MNP\", \"CRI\", \"CAF\", \"CUB\", \"CYP\", \"DNK\", \"DJI\", \"DOM\", \"ECU\", \"EGY\", \"IRL\", \"GNQ\", \"EST\", \"ERI\", \"SLV\", \"ETH\", \"CZE\", \"FIN\", \"FJI\", \"FSM\", \"FRA\", \"GMB\", \"GAB\", \"GEO\", \"GHA\", \"GIB\", \"GRD\", \"GRL\", \"DEU\", \"GUM\", \"GRC\", \"GTM\", \"GIN\", \"GUY\", -1, \"HTI\", \"HKG\", \"HND\", \"HRV\", \"HUN\", \"ISL\", \"IDN\", \"IND\", \"IRN\", \"ISR\", \"ITA\", \"CIV\", \"IRQ\", \"JPN\", \"JEY\", \"JAM\", \"JOR\", \"KEN\", \"KGZ\", \"PRK\", \"KOR\", \"KWT\", \"XKX\", \"KAZ\", \"LAO\", \"LBN\", \"LVA\", \"LTU\", \"LBR\", \"SVK\", \"LSO\", \"LUX\", \"LBY\", \"MDG\", \"MAC\", \"MDA\", \"MNG\", \"MWI\", \"MNE\", \"MKD\", \"MLI\", \"MCO\", \"MAR\", \"MUS\", \"MRT\", \"MLT\", \"OMN\", \"MDV\", \"MEX\", \"MYS\", \"MOZ\", \"NER\", \"VUT\", \"NGA\", \"NLD\", \"NOR\", \"NPL\", \"NRU\", \"NIC\", \"NZL\", \"SSD\", -1, \"PRY\", \"PER\", \"PAK\", \"POL\", \"PAN\", \"PRT\", \"PNG\", \"GNB\", \"QAT\", \"SRB\", \"ROU\", \"PHL\", \"PRI\", \"RUS\", \"RWA\", \"SAU\", \"SYC\", \"ZAF\", \"SEN\", \"SVN\", \"SLE\", \"SGP\", \"SOM\", \"ESP\", \"SDN\", \"SWE\", \"SYR\", \"CHE\", \"TTO\", \"THA\", \"TJK\", \"TON\", \"TGO\", \"TUN\", \"TLS\", \"TUR\", \"TWN\", \"TKM\", \"TZA\", \"UGA\", \"GBR\", \"UKR\", \"USA\", \"BFA\", \"URY\", \"UZB\", \"VEN\", \"VNM\", -1, \"NAM\", \"PSE\", \"WSM\", \"CHE\", \"YEM\", \"ZMB\", \"ZWE\", -1, \"ASM\", \"AND\", \"AIA\", \"ATA\", \"ABW\", -1, -1, -1, \"BVT\", \"IOT\", -1, \"CPV\", \"CXR\", -1, \"CCK\", \"COM\", \"COK\", -1, -1, \"DMA\", -1, -1, \"FLK\", \"FRO\", \"GUF\", \"PYF\", \"ATF\", -1, \"GLP\", \"GGY\", \"HMD\", -1, \"IMN\", \"SJM\", -1, -1, -1, -1, \"KIR\", \"LIE\", \"MHL\", \"MTQ\", \"MYT\", -1, \"MSR\", -1, -1, \"NCL\", \"NIU\", -1, \"NFK\", \"PLW\", -1, -1, \"PCN\", \"REU\", \"SHN\", \"KNA\", \"LCA\", \"MAF\", \"SPM\", \"VCT\", \"BLM\", \"SMR\", \"STP\", \"SGS\", -1, \"SUR\", \"SJM\", \"TKL\", -1, \"TCA\", \"TUV\", -1, -1, \"VIR\", -1, \"WLF\", \"ESH\"], \"name\": \"\", \"type\": \"choropleth\", \"uid\": \"193b01ad-42c7-4e57-b389-aa0d6d6ad692\", \"z\": [1.0, 15.0, 0.0, 26.0, 18.0, 23.0, 18.0, 2.0, 24.0, 6.0, 1.0, 2.0, 10.0, 9.0, 15.0, 1.0, 13.0, 11.0, 13.0, 16.0, 12.0, 0.0, 10.0, 18.0, 20.0, 24.0, 28.0, 8.0, 12.0, 5.0, 6.0, 17.0, 0.0, 14.0, 5.0, 5.0, 14.0, 14.0, 7.0, 0.0, 19.0, 21.0, 2.0, 5.0, 26.0, 9.0, 11.0, 0.0, 22.0, 12.0, 0.0, 6.0, 4.0, 28.0, 1.0, 6.0, 17.0, 1.0, 1.0, 20.0, 21.0, 14.0, 17.0, 23.0, 2.0, 10.0, 10.0, 20.0, 3.0, 1.0, 13.0, 1.0, 24.0, 27.0, 13.0, 19.0, 17.0, 22.0, 17.0, 1.0, 1.0, 14.0, 11.0, 6.0, 26.0, 26.0, 14.0, 26.0, 0.0, 14.0, 13.0, 10.0, 14.0, 14.0, 18.0, 12.0, 24.0, 10.0, 17.0, 18.0, 12.0, 26.0, 7.0, 9.0, 20.0, 1.0, 16.0, 12.0, 19.0, 23.0, 22.0, 24.0, 27.0, 6.0, 27.0, 23.0, 0.0, 28.0, 2.0, 28.0, 2.0, 10.0, 15.0, 24.0, 6.0, 14.0, 11.0, 0.0, 22.0, 0.0, 14.0, 11.0, 17.0, 1.0, 23.0, 10.0, 19.0, 1.0, 22.0, 24.0, 0.0, 1.0, 24.0, 14.0, 17.0, 12.0, 15.0, 1.0, 24.0, 0.0, 14.0, 12.0, 1.0, 26.0, 28.0, 6.0, 4.0, 1.0, 22.0, 10.0, 0.0, 14.0, 19.0, 11.0, 19.0, 1.0, 13.0, 11.0, 18.0, 18.0, 23.0, 0.0, 8.0, 26.0, 22.0, 28.0, 17.0, 14.0, 14.0, 0.0, 6.0, 26.0, 29.0, 2.0, 23.0, 17.0, 8.0, 20.0, 3.0, 13.0, 18.0, 19.0, 18.0, 14.0, -1.0, -1.0, -1.0, -1.0, -1.0, -1.0, -1.0, -1.0, -1.0, -1.0, -1.0, -1.0, -1.0, -1.0, -1.0, -1.0, -1.0, -1.0, -1.0, -1.0, -1.0, -1.0, -1.0, -1.0, -1.0, -1.0, -1.0, -1.0, -1.0, -1.0, -1.0, -1.0, -1.0, -1.0, -1.0, -1.0, -1.0, -1.0, -1.0, -1.0, -1.0, -1.0, -1.0, -1.0, -1.0, -1.0, -1.0, -1.0, -1.0, -1.0, -1.0, -1.0, -1.0, -1.0, -1.0, -1.0, -1.0, -1.0, -1.0, -1.0, -1.0, -1.0, -1.0, -1.0, -1.0, -1.0, -1.0, -1.0, -1.0, -1.0, -1.0, -1.0, -1.0, -1.0, -1.0, -1.0, -1.0, -1.0, -1.0, -1.0]}],\n",
       "                        {\"coloraxis\": {\"colorbar\": {\"title\": {\"text\": \"cluster_id\"}}, \"colorscale\": [[0.0, \"#AA0DFE\"], [0.04, \"#3283FE\"], [0.08, \"#85660D\"], [0.12, \"#782AB6\"], [0.16, \"#565656\"], [0.2, \"#1C8356\"], [0.24, \"#16FF32\"], [0.28, \"#F7E1A0\"], [0.32, \"#E2E2E2\"], [0.36, \"#1CBE4F\"], [0.4, \"#C4451C\"], [0.44, \"#DEA0FD\"], [0.48, \"#FE00FA\"], [0.52, \"#325A9B\"], [0.56, \"#FEAF16\"], [0.6, \"#F8A19F\"], [0.64, \"#90AD1C\"], [0.68, \"#F6222E\"], [0.72, \"#1CFFCE\"], [0.76, \"#2ED9FF\"], [0.8, \"#B10DA1\"], [0.84, \"#C075A6\"], [0.88, \"#FC1CBF\"], [0.92, \"#B00068\"], [0.96, \"#FBE426\"], [1.0, \"#FA0087\"]]}, \"geo\": {\"projection\": {\"type\": \"natural earth\"}}, \"height\": 600, \"legend\": {\"tracegroupgap\": 0}, \"margin\": {\"t\": 60}, \"template\": {\"data\": {\"bar\": [{\"marker\": {\"line\": {\"color\": \"#E5ECF6\", \"width\": 0.5}}, \"type\": \"bar\"}], \"barpolar\": [{\"marker\": {\"line\": {\"color\": \"#E5ECF6\", \"width\": 0.5}}, \"type\": \"barpolar\"}], \"carpet\": [{\"aaxis\": {\"endlinecolor\": \"#2a3f5f\", \"gridcolor\": \"white\", \"linecolor\": \"white\", \"minorgridcolor\": \"white\", \"startlinecolor\": \"#2a3f5f\"}, \"baxis\": {\"endlinecolor\": \"#2a3f5f\", \"gridcolor\": \"white\", \"linecolor\": \"white\", \"minorgridcolor\": \"white\", \"startlinecolor\": \"#2a3f5f\"}, \"type\": \"carpet\"}], \"choropleth\": [{\"colorbar\": {\"outlinewidth\": 0, \"ticks\": \"\"}, \"type\": \"choropleth\"}], \"contour\": [{\"colorbar\": {\"outlinewidth\": 0, \"ticks\": \"\"}, \"colorscale\": [[0.0, \"#0508b8\"], [0.0893854748603352, \"#1910d8\"], [0.1787709497206704, \"#3c19f0\"], [0.2681564245810056, \"#6b1cfb\"], [0.3575418994413408, \"#981cfd\"], [0.44692737430167595, \"#bf1cfd\"], [0.5363128491620112, \"#dd2bfd\"], [0.6256983240223464, \"#f246fe\"], [0.7150837988826816, \"#fc67fd\"], [0.8044692737430168, \"#fe88fc\"], [0.8938547486033519, \"#fea5fd\"], [0.9832402234636871, \"#febefe\"], [1.0, \"#fec3fe\"]], \"type\": \"contour\"}], \"contourcarpet\": [{\"colorbar\": {\"outlinewidth\": 0, \"ticks\": \"\"}, \"type\": \"contourcarpet\"}], \"heatmap\": [{\"colorbar\": {\"outlinewidth\": 0, \"ticks\": \"\"}, \"colorscale\": [[0.0, \"#0508b8\"], [0.0893854748603352, \"#1910d8\"], [0.1787709497206704, \"#3c19f0\"], [0.2681564245810056, \"#6b1cfb\"], [0.3575418994413408, \"#981cfd\"], [0.44692737430167595, \"#bf1cfd\"], [0.5363128491620112, \"#dd2bfd\"], [0.6256983240223464, \"#f246fe\"], [0.7150837988826816, \"#fc67fd\"], [0.8044692737430168, \"#fe88fc\"], [0.8938547486033519, \"#fea5fd\"], [0.9832402234636871, \"#febefe\"], [1.0, \"#fec3fe\"]], \"type\": \"heatmap\"}], \"heatmapgl\": [{\"colorbar\": {\"outlinewidth\": 0, \"ticks\": \"\"}, \"type\": \"heatmapgl\"}], \"histogram\": [{\"marker\": {\"colorbar\": {\"outlinewidth\": 0, \"ticks\": \"\"}}, \"type\": \"histogram\"}], \"histogram2d\": [{\"colorbar\": {\"outlinewidth\": 0, \"ticks\": \"\"}, \"colorscale\": [[0.0, \"#0508b8\"], [0.0893854748603352, \"#1910d8\"], [0.1787709497206704, \"#3c19f0\"], [0.2681564245810056, \"#6b1cfb\"], [0.3575418994413408, \"#981cfd\"], [0.44692737430167595, \"#bf1cfd\"], [0.5363128491620112, \"#dd2bfd\"], [0.6256983240223464, \"#f246fe\"], [0.7150837988826816, \"#fc67fd\"], [0.8044692737430168, \"#fe88fc\"], [0.8938547486033519, \"#fea5fd\"], [0.9832402234636871, \"#febefe\"], [1.0, \"#fec3fe\"]], \"type\": \"histogram2d\"}], \"histogram2dcontour\": [{\"colorbar\": {\"outlinewidth\": 0, \"ticks\": \"\"}, \"colorscale\": [[0.0, \"#0508b8\"], [0.0893854748603352, \"#1910d8\"], [0.1787709497206704, \"#3c19f0\"], [0.2681564245810056, \"#6b1cfb\"], [0.3575418994413408, \"#981cfd\"], [0.44692737430167595, \"#bf1cfd\"], [0.5363128491620112, \"#dd2bfd\"], [0.6256983240223464, \"#f246fe\"], [0.7150837988826816, \"#fc67fd\"], [0.8044692737430168, \"#fe88fc\"], [0.8938547486033519, \"#fea5fd\"], [0.9832402234636871, \"#febefe\"], [1.0, \"#fec3fe\"]], \"type\": \"histogram2dcontour\"}], \"mesh3d\": [{\"colorbar\": {\"outlinewidth\": 0, \"ticks\": \"\"}, \"type\": \"mesh3d\"}], \"parcoords\": [{\"line\": {\"colorbar\": {\"outlinewidth\": 0, \"ticks\": \"\"}}, \"type\": \"parcoords\"}], \"scatter\": [{\"marker\": {\"colorbar\": {\"outlinewidth\": 0, \"ticks\": \"\"}}, \"type\": \"scatter\"}], \"scatter3d\": [{\"marker\": {\"colorbar\": {\"outlinewidth\": 0, \"ticks\": \"\"}}, \"type\": \"scatter3d\"}], \"scattercarpet\": [{\"marker\": {\"colorbar\": {\"outlinewidth\": 0, \"ticks\": \"\"}}, \"type\": \"scattercarpet\"}], \"scattergeo\": [{\"marker\": {\"colorbar\": {\"outlinewidth\": 0, \"ticks\": \"\"}}, \"type\": \"scattergeo\"}], \"scattergl\": [{\"marker\": {\"colorbar\": {\"outlinewidth\": 0, \"ticks\": \"\"}}, \"type\": \"scattergl\"}], \"scattermapbox\": [{\"marker\": {\"colorbar\": {\"outlinewidth\": 0, \"ticks\": \"\"}}, \"type\": \"scattermapbox\"}], \"scatterpolar\": [{\"marker\": {\"colorbar\": {\"outlinewidth\": 0, \"ticks\": \"\"}}, \"type\": \"scatterpolar\"}], \"scatterpolargl\": [{\"marker\": {\"colorbar\": {\"outlinewidth\": 0, \"ticks\": \"\"}}, \"type\": \"scatterpolargl\"}], \"scatterternary\": [{\"marker\": {\"colorbar\": {\"outlinewidth\": 0, \"ticks\": \"\"}}, \"type\": \"scatterternary\"}], \"surface\": [{\"colorbar\": {\"outlinewidth\": 0, \"ticks\": \"\"}, \"type\": \"surface\"}], \"table\": [{\"cells\": {\"fill\": {\"color\": \"#EBF0F8\"}, \"line\": {\"color\": \"white\"}}, \"header\": {\"fill\": {\"color\": \"#C8D4E3\"}, \"line\": {\"color\": \"white\"}}, \"type\": \"table\"}]}, \"layout\": {\"annotationdefaults\": {\"arrowcolor\": \"#506784\", \"arrowhead\": 0, \"arrowwidth\": 1}, \"colorscale\": {\"diverging\": [[0, \"#8e0152\"], [0.1, \"#c51b7d\"], [0.2, \"#de77ae\"], [0.3, \"#f1b6da\"], [0.4, \"#fde0ef\"], [0.5, \"#f7f7f7\"], [0.6, \"#e6f5d0\"], [0.7, \"#b8e186\"], [0.8, \"#7fbc41\"], [0.9, \"#4d9221\"], [1, \"#276419\"]], \"sequential\": [[0.0, \"#0508b8\"], [0.0893854748603352, \"#1910d8\"], [0.1787709497206704, \"#3c19f0\"], [0.2681564245810056, \"#6b1cfb\"], [0.3575418994413408, \"#981cfd\"], [0.44692737430167595, \"#bf1cfd\"], [0.5363128491620112, \"#dd2bfd\"], [0.6256983240223464, \"#f246fe\"], [0.7150837988826816, \"#fc67fd\"], [0.8044692737430168, \"#fe88fc\"], [0.8938547486033519, \"#fea5fd\"], [0.9832402234636871, \"#febefe\"], [1.0, \"#fec3fe\"]], \"sequentialminus\": [[0.0, \"#0508b8\"], [0.0893854748603352, \"#1910d8\"], [0.1787709497206704, \"#3c19f0\"], [0.2681564245810056, \"#6b1cfb\"], [0.3575418994413408, \"#981cfd\"], [0.44692737430167595, \"#bf1cfd\"], [0.5363128491620112, \"#dd2bfd\"], [0.6256983240223464, \"#f246fe\"], [0.7150837988826816, \"#fc67fd\"], [0.8044692737430168, \"#fe88fc\"], [0.8938547486033519, \"#fea5fd\"], [0.9832402234636871, \"#febefe\"], [1.0, \"#fec3fe\"]]}, \"colorway\": [\"#636efa\", \"#EF553B\", \"#00cc96\", \"#ab63fa\", \"#19d3f3\", \"#e763fa\", \"#FECB52\", \"#FFA15A\", \"#FF6692\", \"#B6E880\"], \"font\": {\"color\": \"#2a3f5f\"}, \"geo\": {\"bgcolor\": \"white\", \"lakecolor\": \"white\", \"landcolor\": \"#E5ECF6\", \"showlakes\": true, \"showland\": true, \"subunitcolor\": \"white\"}, \"hoverlabel\": {\"align\": \"left\"}, \"hovermode\": \"closest\", \"mapbox\": {\"style\": \"light\"}, \"paper_bgcolor\": \"white\", \"plot_bgcolor\": \"#E5ECF6\", \"polar\": {\"angularaxis\": {\"gridcolor\": \"white\", \"linecolor\": \"white\", \"ticks\": \"\"}, \"bgcolor\": \"#E5ECF6\", \"radialaxis\": {\"gridcolor\": \"white\", \"linecolor\": \"white\", \"ticks\": \"\"}}, \"scene\": {\"xaxis\": {\"backgroundcolor\": \"#E5ECF6\", \"gridcolor\": \"white\", \"gridwidth\": 2, \"linecolor\": \"white\", \"showbackground\": true, \"ticks\": \"\", \"zerolinecolor\": \"white\"}, \"yaxis\": {\"backgroundcolor\": \"#E5ECF6\", \"gridcolor\": \"white\", \"gridwidth\": 2, \"linecolor\": \"white\", \"showbackground\": true, \"ticks\": \"\", \"zerolinecolor\": \"white\"}, \"zaxis\": {\"backgroundcolor\": \"#E5ECF6\", \"gridcolor\": \"white\", \"gridwidth\": 2, \"linecolor\": \"white\", \"showbackground\": true, \"ticks\": \"\", \"zerolinecolor\": \"white\"}}, \"shapedefaults\": {\"fillcolor\": \"#506784\", \"line\": {\"width\": 0}, \"opacity\": 0.4}, \"ternary\": {\"aaxis\": {\"gridcolor\": \"white\", \"linecolor\": \"white\", \"ticks\": \"\"}, \"baxis\": {\"gridcolor\": \"white\", \"linecolor\": \"white\", \"ticks\": \"\"}, \"bgcolor\": \"#E5ECF6\", \"caxis\": {\"gridcolor\": \"white\", \"linecolor\": \"white\", \"ticks\": \"\"}}, \"title\": {\"x\": 0.05}, \"xaxis\": {\"automargin\": true, \"gridcolor\": \"white\", \"linecolor\": \"white\", \"ticks\": \"\", \"zerolinecolor\": \"white\", \"zerolinewidth\": 2}, \"yaxis\": {\"automargin\": true, \"gridcolor\": \"white\", \"linecolor\": \"white\", \"ticks\": \"\", \"zerolinecolor\": \"white\", \"zerolinewidth\": 2}}}},\n",
       "                        {\"responsive\": true, \"plotlyServerURL\": \"https://plot.ly\", \"linkText\": \"Export to plot.ly\", \"showLink\": false}\n",
       "                    ).then(function(){\n",
       "                            \n",
       "var gd = document.getElementById('0cfc1292-c164-4550-8ace-826b6680467b');\n",
       "var x = new MutationObserver(function (mutations, observer) {{\n",
       "        var display = window.getComputedStyle(gd).display;\n",
       "        if (!display || display === 'none') {{\n",
       "            console.log([gd, 'removed!']);\n",
       "            Plotly.purge(gd);\n",
       "            observer.disconnect();\n",
       "        }}\n",
       "}});\n",
       "\n",
       "// Listen for the removal of the full notebook cells\n",
       "var notebookContainer = gd.closest('#notebook-container');\n",
       "if (notebookContainer) {{\n",
       "    x.observe(notebookContainer, {childList: true});\n",
       "}}\n",
       "\n",
       "// Listen for the clearing of the current output cell\n",
       "var outputEl = gd.closest('.output');\n",
       "if (outputEl) {{\n",
       "    x.observe(outputEl, {childList: true});\n",
       "}}\n",
       "\n",
       "                        })\n",
       "                };\n",
       "                });\n",
       "            </script>\n",
       "        </div>"
      ]
     },
     "metadata": {},
     "output_type": "display_data"
    }
   ],
   "source": [
    "px.choropleth(\n",
    "    cluster_df,\n",
    "    locations='country_iso',\n",
    "    locationmode='ISO-3',\n",
    "    color='cluster_id',\n",
    "    labels='cluster_id',\n",
    "    color_continuous_scale=px.colors.qualitative.Alphabet,\n",
    "    projection='natural earth',\n",
    ")"
   ]
  },
  {
   "cell_type": "code",
   "execution_count": 257,
   "metadata": {},
   "outputs": [],
   "source": [
    "from sklearn.manifold import TSNE\n",
    "model = TSNE(\n",
    "    perplexity=5,\n",
    "    early_exaggeration=10,\n",
    "    learning_rate=50,\n",
    ")"
   ]
  },
  {
   "cell_type": "code",
   "execution_count": 258,
   "metadata": {},
   "outputs": [
    {
     "data": {
      "application/vnd.plotly.v1+json": {
       "config": {
        "linkText": "Export to plot.ly",
        "plotlyServerURL": "https://plot.ly",
        "showLink": false
       },
       "data": [
        {
         "hoverlabel": {
          "namelength": 0
         },
         "hovertemplate": "<b>%{hovertext}</b><br><br>x=%{x}<br>y=%{y}",
         "hovertext": [
          "AC",
          "AE",
          "AF",
          "AG",
          "AJ",
          "AL",
          "AM",
          "AO",
          "AR",
          "AS",
          "AU",
          "BA",
          "BB",
          "BC",
          "BD",
          "BE",
          "BF",
          "BG",
          "BH",
          "BK",
          "BL",
          "BM",
          "BN",
          "BO",
          "BP",
          "BR",
          "BT",
          "BU",
          "BX",
          "BY",
          "CA",
          "CB",
          "CD",
          "CE",
          "CF",
          "CG",
          "CH",
          "CI",
          "CJ",
          "CM",
          "CO",
          "CQ",
          "CS",
          "CT",
          "CU",
          "CY",
          "DA",
          "DJ",
          "DR",
          "EC",
          "EG",
          "EI",
          "EK",
          "EN",
          "ER",
          "ES",
          "ET",
          "EZ",
          "FI",
          "FJ",
          "FM",
          "FR",
          "GA",
          "GB",
          "GG",
          "GH",
          "GI",
          "GJ",
          "GL",
          "GM",
          "GQ",
          "GR",
          "GT",
          "GV",
          "GY",
          "GZ",
          "HA",
          "HK",
          "HO",
          "HR",
          "HU",
          "IC",
          "ID",
          "IN",
          "IR",
          "IS",
          "IT",
          "IV",
          "IZ",
          "JA",
          "JE",
          "JM",
          "JO",
          "KE",
          "KG",
          "KN",
          "KS",
          "KU",
          "KV",
          "KZ",
          "LA",
          "LE",
          "LG",
          "LH",
          "LI",
          "LO",
          "LT",
          "LU",
          "LY",
          "MA",
          "MC",
          "MD",
          "MG",
          "MI",
          "MJ",
          "MK",
          "ML",
          "MN",
          "MO",
          "MP",
          "MR",
          "MT",
          "MU",
          "MV",
          "MX",
          "MY",
          "MZ",
          "NG",
          "NH",
          "NI",
          "NL",
          "NO",
          "NP",
          "NR",
          "NU",
          "NZ",
          "OC",
          "OD",
          "OS",
          "PA",
          "PE",
          "PK",
          "PL",
          "PM",
          "PO",
          "PP",
          "PU",
          "QA",
          "RB",
          "RI",
          "RO",
          "RP",
          "RQ",
          "RS",
          "RW",
          "SA",
          "SE",
          "SF",
          "SG",
          "SI",
          "SL",
          "SN",
          "SO",
          "SP",
          "SU",
          "SW",
          "SY",
          "SZ",
          "TD",
          "TH",
          "TI",
          "TN",
          "TO",
          "TS",
          "TT",
          "TU",
          "TW",
          "TX",
          "TZ",
          "UG",
          "UK",
          "UP",
          "US",
          "UV",
          "UY",
          "UZ",
          "VE",
          "VM",
          "VT",
          "WA",
          "WE",
          "WS",
          "WZ",
          "YI",
          "YM",
          "ZA",
          "ZI"
         ],
         "legendgroup": "",
         "marker": {
          "color": "#636efa",
          "symbol": "circle"
         },
         "mode": "markers",
         "name": "",
         "showlegend": false,
         "type": "scatter",
         "uid": "456b224c-2ee1-4ee6-a8a6-859df2e28f9b",
         "x": [
          -32.072994232177734,
          33.353172302246094,
          -18.285945892333984,
          -27.512331008911133,
          14.951133728027344,
          -20.912410736083984,
          8.628623008728027,
          -2.3711373805999756,
          3.805962324142456,
          28.67914390563965,
          -20.323762893676758,
          -5.548876762390137,
          39.27065658569336,
          33.959617614746094,
          35.387725830078125,
          -31.894271850585938,
          27.69465446472168,
          13.182761192321777,
          35.66841506958008,
          11.847249984741211,
          -14.18250560760498,
          -18.895906448364258,
          37.54591751098633,
          13.421037673950195,
          16.550870895385742,
          -0.307191401720047,
          21.42229652404785,
          12.210328102111816,
          -32.86311721801758,
          -14.863845825195312,
          28.600706100463867,
          0.46034619212150574,
          -15.988266944885254,
          -3.001589298248291,
          -13.719329833984375,
          -12.043498039245605,
          -4.039029598236084,
          -5.34800910949707,
          40.13374328613281,
          -21.7646484375,
          -24.299942016601562,
          26.92795181274414,
          33.09401321411133,
          -26.706207275390625,
          -25.083410263061523,
          8.817103385925293,
          17.044387817382812,
          -21.567354202270508,
          19.22689437866211,
          -28.798898696899414,
          -23.647348403930664,
          25.943506240844727,
          3.7273921966552734,
          17.86486053466797,
          -29.803897857666016,
          2.6574020385742188,
          -6.256448745727539,
          -22.13789939880371,
          -16.619369506835938,
          18.106229782104492,
          26.485857009887695,
          -7.050065994262695,
          1.4431641101837158,
          -20.888843536376953,
          16.49420928955078,
          36.49488830566406,
          13.155765533447266,
          18.424232482910156,
          34.30146026611328,
          -19.23097801208496,
          27.60456085205078,
          -25.888612747192383,
          5.00044584274292,
          -1.4743670225143433,
          33.23524856567383,
          -26.87381935119629,
          -4.470257759094238,
          37.363040924072266,
          -0.7099596858024597,
          -18.558349609375,
          -24.398588180541992,
          -9.450578689575195,
          12.056824684143066,
          26.519338607788086,
          -24.32000732421875,
          -21.523311614990234,
          0.5341575741767883,
          -24.016658782958984,
          -25.720264434814453,
          -5.9106245040893555,
          30.92181396484375,
          36.49571990966797,
          -7.569083213806152,
          -9.691200256347656,
          15.891441345214844,
          -28.133188247680664,
          -0.8060892820358276,
          32.86962890625,
          -18.653221130371094,
          13.19200611114502,
          -30.967700958251953,
          -22.627145767211914,
          -2.484229326248169,
          14.74584674835205,
          18.729183197021484,
          -30.27958106994629,
          11.424805641174316,
          -33.87031555175781,
          -26.803115844726562,
          -17.773414611816406,
          38.409854888916016,
          0.620509684085846,
          1.4395462274551392,
          31.330217361450195,
          -0.04584624245762825,
          -20.218486785888672,
          -25.1519832611084,
          21.885623931884766,
          -6.800928592681885,
          19.696130752563477,
          -8.339253425598145,
          30.619935989379883,
          33.87693405151367,
          3.689249038696289,
          1.282947301864624,
          -0.5529395341873169,
          2.405456304550171,
          -20.957012176513672,
          19.11134910583496,
          -17.296504974365234,
          -0.1890755295753479,
          7.395682334899902,
          -5.091064929962158,
          -20.535493850708008,
          -19.66798973083496,
          33.994808197021484,
          -23.344650268554688,
          -22.486495971679688,
          -28.03940773010254,
          17.650758743286133,
          7.786721229553223,
          -22.801353454589844,
          -31.155168533325195,
          4.156123161315918,
          -4.06674337387085,
          30.33540153503418,
          -28.104171752929688,
          34.681617736816406,
          13.299087524414062,
          -17.79083251953125,
          3.2772295475006104,
          -17.76503562927246,
          -8.687520027160645,
          -27.841524124145508,
          -10.544221878051758,
          -26.102087020874023,
          19.727333068847656,
          29.395692825317383,
          8.052674293518066,
          -23.14387321472168,
          18.945274353027344,
          32.49827194213867,
          -24.6489200592041,
          -6.232218265533447,
          -21.246061325073242,
          16.976226806640625,
          -25.203187942504883,
          -12.39808177947998,
          34.23054504394531,
          10.403532981872559,
          10.57253646850586,
          15.432320594787598,
          -22.067869186401367,
          -24.504831314086914,
          14.75699234008789,
          -25.263336181640625,
          20.39921760559082,
          18.71525001525879,
          20.463605880737305,
          -10.144323348999023,
          -7.198349475860596,
          -16.493667602539062,
          28.407970428466797,
          -28.70258140563965,
          9.689361572265625,
          -4.705694675445557,
          -20.492761611938477,
          19.00335121154785,
          13.520343780517578,
          15.656453132629395,
          -17.088178634643555,
          2.137267827987671,
          21.53877830505371,
          9.925230026245117,
          -24.26105499267578,
          6.71804666519165,
          -11.877514839172363
         ],
         "xaxis": "x",
         "y": [
          6.524656295776367,
          -33.35367965698242,
          -3.504617214202881,
          -5.30273962020874,
          -36.65294647216797,
          43.75652313232422,
          -34.634788513183594,
          -25.129892349243164,
          43.26693344116211,
          4.148791313171387,
          26.39739990234375,
          -29.221385955810547,
          -21.069984436035156,
          -18.364774703979492,
          -22.692747116088867,
          21.951295852661133,
          0.5589579939842224,
          18.019084930419922,
          -3.7608139514923096,
          -3.8721368312835693,
          18.032611846923828,
          -13.98584270477295,
          -15.211315155029297,
          -35.41994094848633,
          -46.24509811401367,
          42.27592086791992,
          -40.2026481628418,
          -39.78630447387695,
          13.783369064331055,
          -25.860286712646484,
          5.613359451293945,
          28.40218734741211,
          -8.378870964050293,
          24.971586227416992,
          -25.595590591430664,
          -26.12689781188965,
          13.803339958190918,
          15.766352653503418,
          5.218765735626221,
          -16.03778076171875,
          -25.750362396240234,
          -41.45669174194336,
          -6.434197902679443,
          -12.533992767333984,
          13.373808860778809,
          22.40752601623535,
          19.959918975830078,
          -20.477703094482422,
          -1.498120903968811,
          12.839224815368652,
          -2.006002187728882,
          3.224590301513672,
          34.78330993652344,
          -37.37654113769531,
          25.22993278503418,
          5.105445861816406,
          7.091240406036377,
          27.66257095336914,
          24.604965209960938,
          -47.13640213012695,
          -40.4204216003418,
          17.301063537597656,
          30.354175567626953,
          11.98763656616211,
          7.110651016235352,
          -16.798370361328125,
          -30.03760528564453,
          -48.92957305908203,
          9.221990585327148,
          26.046588897705078,
          -1.6688350439071655,
          29.133525848388672,
          43.408111572265625,
          -29.652746200561523,
          -2.705629587173462,
          -21.02970314025879,
          5.723845481872559,
          7.646984100341797,
          5.583601951599121,
          30.907207489013672,
          29.560693740844727,
          37.31114959716797,
          18.250707626342773,
          7.381819248199463,
          9.1812162399292,
          4.280730247497559,
          13.849494934082031,
          11.057116508483887,
          -7.796928405761719,
          12.59344482421875,
          0.05085885524749756,
          -17.99295997619629,
          22.355289459228516,
          16.344064712524414,
          -32.86387252807617,
          10.239368438720703,
          43.23752212524414,
          -24.851551055908203,
          41.18597412109375,
          -37.68028259277344,
          13.393781661987305,
          7.51710844039917,
          12.310312271118164,
          6.211033344268799,
          -44.4838981628418,
          7.094696521759033,
          -5.241652965545654,
          20.698450088500977,
          -17.00289535522461,
          14.345420837402344,
          6.771700382232666,
          38.9485969543457,
          -31.603511810302734,
          4.566521644592285,
          -30.565855026245117,
          42.644859313964844,
          -10.508843421936035,
          -38.02412796020508,
          -27.58138656616211,
          -41.95888137817383,
          -27.99849510192871,
          -22.299636840820312,
          -32.25862503051758,
          36.838462829589844,
          5.512511253356934,
          26.38627815246582,
          13.273616790771484,
          -9.261548042297363,
          -3.5563466548919678,
          -8.021740913391113,
          17.043909072875977,
          21.05658721923828,
          3.5949885845184326,
          23.84906768798828,
          47.67621994018555,
          -22.225852966308594,
          43.49384307861328,
          -25.309123992919922,
          30.10169219970703,
          10.17259407043457,
          41.02005386352539,
          -3.47696590423584,
          23.069255828857422,
          39.55567169189453,
          19.671714782714844,
          10.129229545593262,
          15.1875638961792,
          -30.652145385742188,
          -2.9998395442962646,
          29.415496826171875,
          38.65595626831055,
          -6.508414268493652,
          37.95354461669922,
          11.766164779663086,
          22.491682052612305,
          4.3300089836120605,
          -40.890647888183594,
          7.762807369232178,
          37.87260437011719,
          31.425249099731445,
          0.17397218942642212,
          -22.329757690429688,
          -8.104730606079102,
          19.04568099975586,
          -25.581079483032227,
          21.00910186767578,
          -19.5247859954834,
          28.038530349731445,
          -3.5331294536590576,
          19.33811378479004,
          -35.734222412109375,
          -31.434162139892578,
          47.88209533691406,
          -0.3413739800453186,
          -51.544151306152344,
          2.9714772701263428,
          6.865142822265625,
          -39.32550811767578,
          9.819181442260742,
          19.5098876953125,
          20.365236282348633,
          -11.031850814819336,
          2.6244914531707764,
          -3.317498207092285,
          42.09075164794922,
          -27.096864700317383,
          46.78632354736328,
          8.645849227905273,
          -48.50102996826172,
          -48.864723205566406,
          -14.962790489196777,
          24.37457275390625,
          -44.2529296875,
          -2.231978416442871,
          -20.598024368286133,
          -33.528175354003906,
          18.71772003173828
         ],
         "yaxis": "y"
        }
       ],
       "layout": {
        "grid": {
         "xaxes": [
          "x"
         ],
         "xgap": 0.1,
         "xside": "bottom",
         "yaxes": [
          "y"
         ],
         "ygap": 0.1,
         "yside": "left"
        },
        "height": 600,
        "legend": {
         "tracegroupgap": 0
        },
        "margin": {
         "t": 60
        },
        "template": {
         "data": {
          "bar": [
           {
            "marker": {
             "line": {
              "color": "#E5ECF6",
              "width": 0.5
             }
            },
            "type": "bar"
           }
          ],
          "barpolar": [
           {
            "marker": {
             "line": {
              "color": "#E5ECF6",
              "width": 0.5
             }
            },
            "type": "barpolar"
           }
          ],
          "carpet": [
           {
            "aaxis": {
             "endlinecolor": "#2a3f5f",
             "gridcolor": "white",
             "linecolor": "white",
             "minorgridcolor": "white",
             "startlinecolor": "#2a3f5f"
            },
            "baxis": {
             "endlinecolor": "#2a3f5f",
             "gridcolor": "white",
             "linecolor": "white",
             "minorgridcolor": "white",
             "startlinecolor": "#2a3f5f"
            },
            "type": "carpet"
           }
          ],
          "choropleth": [
           {
            "colorbar": {
             "outlinewidth": 0,
             "ticks": ""
            },
            "type": "choropleth"
           }
          ],
          "contour": [
           {
            "colorbar": {
             "outlinewidth": 0,
             "ticks": ""
            },
            "colorscale": [
             [
              0,
              "#0508b8"
             ],
             [
              0.0893854748603352,
              "#1910d8"
             ],
             [
              0.1787709497206704,
              "#3c19f0"
             ],
             [
              0.2681564245810056,
              "#6b1cfb"
             ],
             [
              0.3575418994413408,
              "#981cfd"
             ],
             [
              0.44692737430167595,
              "#bf1cfd"
             ],
             [
              0.5363128491620112,
              "#dd2bfd"
             ],
             [
              0.6256983240223464,
              "#f246fe"
             ],
             [
              0.7150837988826816,
              "#fc67fd"
             ],
             [
              0.8044692737430168,
              "#fe88fc"
             ],
             [
              0.8938547486033519,
              "#fea5fd"
             ],
             [
              0.9832402234636871,
              "#febefe"
             ],
             [
              1,
              "#fec3fe"
             ]
            ],
            "type": "contour"
           }
          ],
          "contourcarpet": [
           {
            "colorbar": {
             "outlinewidth": 0,
             "ticks": ""
            },
            "type": "contourcarpet"
           }
          ],
          "heatmap": [
           {
            "colorbar": {
             "outlinewidth": 0,
             "ticks": ""
            },
            "colorscale": [
             [
              0,
              "#0508b8"
             ],
             [
              0.0893854748603352,
              "#1910d8"
             ],
             [
              0.1787709497206704,
              "#3c19f0"
             ],
             [
              0.2681564245810056,
              "#6b1cfb"
             ],
             [
              0.3575418994413408,
              "#981cfd"
             ],
             [
              0.44692737430167595,
              "#bf1cfd"
             ],
             [
              0.5363128491620112,
              "#dd2bfd"
             ],
             [
              0.6256983240223464,
              "#f246fe"
             ],
             [
              0.7150837988826816,
              "#fc67fd"
             ],
             [
              0.8044692737430168,
              "#fe88fc"
             ],
             [
              0.8938547486033519,
              "#fea5fd"
             ],
             [
              0.9832402234636871,
              "#febefe"
             ],
             [
              1,
              "#fec3fe"
             ]
            ],
            "type": "heatmap"
           }
          ],
          "heatmapgl": [
           {
            "colorbar": {
             "outlinewidth": 0,
             "ticks": ""
            },
            "type": "heatmapgl"
           }
          ],
          "histogram": [
           {
            "marker": {
             "colorbar": {
              "outlinewidth": 0,
              "ticks": ""
             }
            },
            "type": "histogram"
           }
          ],
          "histogram2d": [
           {
            "colorbar": {
             "outlinewidth": 0,
             "ticks": ""
            },
            "colorscale": [
             [
              0,
              "#0508b8"
             ],
             [
              0.0893854748603352,
              "#1910d8"
             ],
             [
              0.1787709497206704,
              "#3c19f0"
             ],
             [
              0.2681564245810056,
              "#6b1cfb"
             ],
             [
              0.3575418994413408,
              "#981cfd"
             ],
             [
              0.44692737430167595,
              "#bf1cfd"
             ],
             [
              0.5363128491620112,
              "#dd2bfd"
             ],
             [
              0.6256983240223464,
              "#f246fe"
             ],
             [
              0.7150837988826816,
              "#fc67fd"
             ],
             [
              0.8044692737430168,
              "#fe88fc"
             ],
             [
              0.8938547486033519,
              "#fea5fd"
             ],
             [
              0.9832402234636871,
              "#febefe"
             ],
             [
              1,
              "#fec3fe"
             ]
            ],
            "type": "histogram2d"
           }
          ],
          "histogram2dcontour": [
           {
            "colorbar": {
             "outlinewidth": 0,
             "ticks": ""
            },
            "colorscale": [
             [
              0,
              "#0508b8"
             ],
             [
              0.0893854748603352,
              "#1910d8"
             ],
             [
              0.1787709497206704,
              "#3c19f0"
             ],
             [
              0.2681564245810056,
              "#6b1cfb"
             ],
             [
              0.3575418994413408,
              "#981cfd"
             ],
             [
              0.44692737430167595,
              "#bf1cfd"
             ],
             [
              0.5363128491620112,
              "#dd2bfd"
             ],
             [
              0.6256983240223464,
              "#f246fe"
             ],
             [
              0.7150837988826816,
              "#fc67fd"
             ],
             [
              0.8044692737430168,
              "#fe88fc"
             ],
             [
              0.8938547486033519,
              "#fea5fd"
             ],
             [
              0.9832402234636871,
              "#febefe"
             ],
             [
              1,
              "#fec3fe"
             ]
            ],
            "type": "histogram2dcontour"
           }
          ],
          "mesh3d": [
           {
            "colorbar": {
             "outlinewidth": 0,
             "ticks": ""
            },
            "type": "mesh3d"
           }
          ],
          "parcoords": [
           {
            "line": {
             "colorbar": {
              "outlinewidth": 0,
              "ticks": ""
             }
            },
            "type": "parcoords"
           }
          ],
          "scatter": [
           {
            "marker": {
             "colorbar": {
              "outlinewidth": 0,
              "ticks": ""
             }
            },
            "type": "scatter"
           }
          ],
          "scatter3d": [
           {
            "marker": {
             "colorbar": {
              "outlinewidth": 0,
              "ticks": ""
             }
            },
            "type": "scatter3d"
           }
          ],
          "scattercarpet": [
           {
            "marker": {
             "colorbar": {
              "outlinewidth": 0,
              "ticks": ""
             }
            },
            "type": "scattercarpet"
           }
          ],
          "scattergeo": [
           {
            "marker": {
             "colorbar": {
              "outlinewidth": 0,
              "ticks": ""
             }
            },
            "type": "scattergeo"
           }
          ],
          "scattergl": [
           {
            "marker": {
             "colorbar": {
              "outlinewidth": 0,
              "ticks": ""
             }
            },
            "type": "scattergl"
           }
          ],
          "scattermapbox": [
           {
            "marker": {
             "colorbar": {
              "outlinewidth": 0,
              "ticks": ""
             }
            },
            "type": "scattermapbox"
           }
          ],
          "scatterpolar": [
           {
            "marker": {
             "colorbar": {
              "outlinewidth": 0,
              "ticks": ""
             }
            },
            "type": "scatterpolar"
           }
          ],
          "scatterpolargl": [
           {
            "marker": {
             "colorbar": {
              "outlinewidth": 0,
              "ticks": ""
             }
            },
            "type": "scatterpolargl"
           }
          ],
          "scatterternary": [
           {
            "marker": {
             "colorbar": {
              "outlinewidth": 0,
              "ticks": ""
             }
            },
            "type": "scatterternary"
           }
          ],
          "surface": [
           {
            "colorbar": {
             "outlinewidth": 0,
             "ticks": ""
            },
            "type": "surface"
           }
          ],
          "table": [
           {
            "cells": {
             "fill": {
              "color": "#EBF0F8"
             },
             "line": {
              "color": "white"
             }
            },
            "header": {
             "fill": {
              "color": "#C8D4E3"
             },
             "line": {
              "color": "white"
             }
            },
            "type": "table"
           }
          ]
         },
         "layout": {
          "annotationdefaults": {
           "arrowcolor": "#506784",
           "arrowhead": 0,
           "arrowwidth": 1
          },
          "colorscale": {
           "diverging": [
            [
             0,
             "#8e0152"
            ],
            [
             0.1,
             "#c51b7d"
            ],
            [
             0.2,
             "#de77ae"
            ],
            [
             0.3,
             "#f1b6da"
            ],
            [
             0.4,
             "#fde0ef"
            ],
            [
             0.5,
             "#f7f7f7"
            ],
            [
             0.6,
             "#e6f5d0"
            ],
            [
             0.7,
             "#b8e186"
            ],
            [
             0.8,
             "#7fbc41"
            ],
            [
             0.9,
             "#4d9221"
            ],
            [
             1,
             "#276419"
            ]
           ],
           "sequential": [
            [
             0,
             "#0508b8"
            ],
            [
             0.0893854748603352,
             "#1910d8"
            ],
            [
             0.1787709497206704,
             "#3c19f0"
            ],
            [
             0.2681564245810056,
             "#6b1cfb"
            ],
            [
             0.3575418994413408,
             "#981cfd"
            ],
            [
             0.44692737430167595,
             "#bf1cfd"
            ],
            [
             0.5363128491620112,
             "#dd2bfd"
            ],
            [
             0.6256983240223464,
             "#f246fe"
            ],
            [
             0.7150837988826816,
             "#fc67fd"
            ],
            [
             0.8044692737430168,
             "#fe88fc"
            ],
            [
             0.8938547486033519,
             "#fea5fd"
            ],
            [
             0.9832402234636871,
             "#febefe"
            ],
            [
             1,
             "#fec3fe"
            ]
           ],
           "sequentialminus": [
            [
             0,
             "#0508b8"
            ],
            [
             0.0893854748603352,
             "#1910d8"
            ],
            [
             0.1787709497206704,
             "#3c19f0"
            ],
            [
             0.2681564245810056,
             "#6b1cfb"
            ],
            [
             0.3575418994413408,
             "#981cfd"
            ],
            [
             0.44692737430167595,
             "#bf1cfd"
            ],
            [
             0.5363128491620112,
             "#dd2bfd"
            ],
            [
             0.6256983240223464,
             "#f246fe"
            ],
            [
             0.7150837988826816,
             "#fc67fd"
            ],
            [
             0.8044692737430168,
             "#fe88fc"
            ],
            [
             0.8938547486033519,
             "#fea5fd"
            ],
            [
             0.9832402234636871,
             "#febefe"
            ],
            [
             1,
             "#fec3fe"
            ]
           ]
          },
          "colorway": [
           "#636efa",
           "#EF553B",
           "#00cc96",
           "#ab63fa",
           "#19d3f3",
           "#e763fa",
           "#FECB52",
           "#FFA15A",
           "#FF6692",
           "#B6E880"
          ],
          "font": {
           "color": "#2a3f5f"
          },
          "geo": {
           "bgcolor": "white",
           "lakecolor": "white",
           "landcolor": "#E5ECF6",
           "showlakes": true,
           "showland": true,
           "subunitcolor": "white"
          },
          "hoverlabel": {
           "align": "left"
          },
          "hovermode": "closest",
          "mapbox": {
           "style": "light"
          },
          "paper_bgcolor": "white",
          "plot_bgcolor": "#E5ECF6",
          "polar": {
           "angularaxis": {
            "gridcolor": "white",
            "linecolor": "white",
            "ticks": ""
           },
           "bgcolor": "#E5ECF6",
           "radialaxis": {
            "gridcolor": "white",
            "linecolor": "white",
            "ticks": ""
           }
          },
          "scene": {
           "xaxis": {
            "backgroundcolor": "#E5ECF6",
            "gridcolor": "white",
            "gridwidth": 2,
            "linecolor": "white",
            "showbackground": true,
            "ticks": "",
            "zerolinecolor": "white"
           },
           "yaxis": {
            "backgroundcolor": "#E5ECF6",
            "gridcolor": "white",
            "gridwidth": 2,
            "linecolor": "white",
            "showbackground": true,
            "ticks": "",
            "zerolinecolor": "white"
           },
           "zaxis": {
            "backgroundcolor": "#E5ECF6",
            "gridcolor": "white",
            "gridwidth": 2,
            "linecolor": "white",
            "showbackground": true,
            "ticks": "",
            "zerolinecolor": "white"
           }
          },
          "shapedefaults": {
           "fillcolor": "#506784",
           "line": {
            "width": 0
           },
           "opacity": 0.4
          },
          "ternary": {
           "aaxis": {
            "gridcolor": "white",
            "linecolor": "white",
            "ticks": ""
           },
           "baxis": {
            "gridcolor": "white",
            "linecolor": "white",
            "ticks": ""
           },
           "bgcolor": "#E5ECF6",
           "caxis": {
            "gridcolor": "white",
            "linecolor": "white",
            "ticks": ""
           }
          },
          "title": {
           "x": 0.05
          },
          "xaxis": {
           "automargin": true,
           "gridcolor": "white",
           "linecolor": "white",
           "ticks": "",
           "zerolinecolor": "white",
           "zerolinewidth": 2
          },
          "yaxis": {
           "automargin": true,
           "gridcolor": "white",
           "linecolor": "white",
           "ticks": "",
           "zerolinecolor": "white",
           "zerolinewidth": 2
          }
         }
        },
        "xaxis": {
         "title": {
          "text": "x"
         }
        },
        "yaxis": {
         "title": {
          "text": "y"
         }
        }
       }
      },
      "text/html": [
       "<div>\n",
       "        \n",
       "        \n",
       "            <div id=\"b68ca848-bf77-4ae3-ac71-1174b4985957\" class=\"plotly-graph-div\" style=\"height:600px; width:100%;\"></div>\n",
       "            <script type=\"text/javascript\">\n",
       "                require([\"plotly\"], function(Plotly) {\n",
       "                    window.PLOTLYENV=window.PLOTLYENV || {};\n",
       "                    window.PLOTLYENV.BASE_URL='https://plot.ly';\n",
       "                    \n",
       "                if (document.getElementById(\"b68ca848-bf77-4ae3-ac71-1174b4985957\")) {\n",
       "                    Plotly.newPlot(\n",
       "                        'b68ca848-bf77-4ae3-ac71-1174b4985957',\n",
       "                        [{\"hoverlabel\": {\"namelength\": 0}, \"hovertemplate\": \"<b>%{hovertext}</b><br><br>x=%{x}<br>y=%{y}\", \"hovertext\": [\"AC\", \"AE\", \"AF\", \"AG\", \"AJ\", \"AL\", \"AM\", \"AO\", \"AR\", \"AS\", \"AU\", \"BA\", \"BB\", \"BC\", \"BD\", \"BE\", \"BF\", \"BG\", \"BH\", \"BK\", \"BL\", \"BM\", \"BN\", \"BO\", \"BP\", \"BR\", \"BT\", \"BU\", \"BX\", \"BY\", \"CA\", \"CB\", \"CD\", \"CE\", \"CF\", \"CG\", \"CH\", \"CI\", \"CJ\", \"CM\", \"CO\", \"CQ\", \"CS\", \"CT\", \"CU\", \"CY\", \"DA\", \"DJ\", \"DR\", \"EC\", \"EG\", \"EI\", \"EK\", \"EN\", \"ER\", \"ES\", \"ET\", \"EZ\", \"FI\", \"FJ\", \"FM\", \"FR\", \"GA\", \"GB\", \"GG\", \"GH\", \"GI\", \"GJ\", \"GL\", \"GM\", \"GQ\", \"GR\", \"GT\", \"GV\", \"GY\", \"GZ\", \"HA\", \"HK\", \"HO\", \"HR\", \"HU\", \"IC\", \"ID\", \"IN\", \"IR\", \"IS\", \"IT\", \"IV\", \"IZ\", \"JA\", \"JE\", \"JM\", \"JO\", \"KE\", \"KG\", \"KN\", \"KS\", \"KU\", \"KV\", \"KZ\", \"LA\", \"LE\", \"LG\", \"LH\", \"LI\", \"LO\", \"LT\", \"LU\", \"LY\", \"MA\", \"MC\", \"MD\", \"MG\", \"MI\", \"MJ\", \"MK\", \"ML\", \"MN\", \"MO\", \"MP\", \"MR\", \"MT\", \"MU\", \"MV\", \"MX\", \"MY\", \"MZ\", \"NG\", \"NH\", \"NI\", \"NL\", \"NO\", \"NP\", \"NR\", \"NU\", \"NZ\", \"OC\", \"OD\", \"OS\", \"PA\", \"PE\", \"PK\", \"PL\", \"PM\", \"PO\", \"PP\", \"PU\", \"QA\", \"RB\", \"RI\", \"RO\", \"RP\", \"RQ\", \"RS\", \"RW\", \"SA\", \"SE\", \"SF\", \"SG\", \"SI\", \"SL\", \"SN\", \"SO\", \"SP\", \"SU\", \"SW\", \"SY\", \"SZ\", \"TD\", \"TH\", \"TI\", \"TN\", \"TO\", \"TS\", \"TT\", \"TU\", \"TW\", \"TX\", \"TZ\", \"UG\", \"UK\", \"UP\", \"US\", \"UV\", \"UY\", \"UZ\", \"VE\", \"VM\", \"VT\", \"WA\", \"WE\", \"WS\", \"WZ\", \"YI\", \"YM\", \"ZA\", \"ZI\"], \"legendgroup\": \"\", \"marker\": {\"color\": \"#636efa\", \"symbol\": \"circle\"}, \"mode\": \"markers\", \"name\": \"\", \"showlegend\": false, \"type\": \"scatter\", \"uid\": \"456b224c-2ee1-4ee6-a8a6-859df2e28f9b\", \"x\": [-32.072994232177734, 33.353172302246094, -18.285945892333984, -27.512331008911133, 14.951133728027344, -20.912410736083984, 8.628623008728027, -2.3711373805999756, 3.805962324142456, 28.67914390563965, -20.323762893676758, -5.548876762390137, 39.27065658569336, 33.959617614746094, 35.387725830078125, -31.894271850585938, 27.69465446472168, 13.182761192321777, 35.66841506958008, 11.847249984741211, -14.18250560760498, -18.895906448364258, 37.54591751098633, 13.421037673950195, 16.550870895385742, -0.307191401720047, 21.42229652404785, 12.210328102111816, -32.86311721801758, -14.863845825195312, 28.600706100463867, 0.46034619212150574, -15.988266944885254, -3.001589298248291, -13.719329833984375, -12.043498039245605, -4.039029598236084, -5.34800910949707, 40.13374328613281, -21.7646484375, -24.299942016601562, 26.92795181274414, 33.09401321411133, -26.706207275390625, -25.083410263061523, 8.817103385925293, 17.044387817382812, -21.567354202270508, 19.22689437866211, -28.798898696899414, -23.647348403930664, 25.943506240844727, 3.7273921966552734, 17.86486053466797, -29.803897857666016, 2.6574020385742188, -6.256448745727539, -22.13789939880371, -16.619369506835938, 18.106229782104492, 26.485857009887695, -7.050065994262695, 1.4431641101837158, -20.888843536376953, 16.49420928955078, 36.49488830566406, 13.155765533447266, 18.424232482910156, 34.30146026611328, -19.23097801208496, 27.60456085205078, -25.888612747192383, 5.00044584274292, -1.4743670225143433, 33.23524856567383, -26.87381935119629, -4.470257759094238, 37.363040924072266, -0.7099596858024597, -18.558349609375, -24.398588180541992, -9.450578689575195, 12.056824684143066, 26.519338607788086, -24.32000732421875, -21.523311614990234, 0.5341575741767883, -24.016658782958984, -25.720264434814453, -5.9106245040893555, 30.92181396484375, 36.49571990966797, -7.569083213806152, -9.691200256347656, 15.891441345214844, -28.133188247680664, -0.8060892820358276, 32.86962890625, -18.653221130371094, 13.19200611114502, -30.967700958251953, -22.627145767211914, -2.484229326248169, 14.74584674835205, 18.729183197021484, -30.27958106994629, 11.424805641174316, -33.87031555175781, -26.803115844726562, -17.773414611816406, 38.409854888916016, 0.620509684085846, 1.4395462274551392, 31.330217361450195, -0.04584624245762825, -20.218486785888672, -25.1519832611084, 21.885623931884766, -6.800928592681885, 19.696130752563477, -8.339253425598145, 30.619935989379883, 33.87693405151367, 3.689249038696289, 1.282947301864624, -0.5529395341873169, 2.405456304550171, -20.957012176513672, 19.11134910583496, -17.296504974365234, -0.1890755295753479, 7.395682334899902, -5.091064929962158, -20.535493850708008, -19.66798973083496, 33.994808197021484, -23.344650268554688, -22.486495971679688, -28.03940773010254, 17.650758743286133, 7.786721229553223, -22.801353454589844, -31.155168533325195, 4.156123161315918, -4.06674337387085, 30.33540153503418, -28.104171752929688, 34.681617736816406, 13.299087524414062, -17.79083251953125, 3.2772295475006104, -17.76503562927246, -8.687520027160645, -27.841524124145508, -10.544221878051758, -26.102087020874023, 19.727333068847656, 29.395692825317383, 8.052674293518066, -23.14387321472168, 18.945274353027344, 32.49827194213867, -24.6489200592041, -6.232218265533447, -21.246061325073242, 16.976226806640625, -25.203187942504883, -12.39808177947998, 34.23054504394531, 10.403532981872559, 10.57253646850586, 15.432320594787598, -22.067869186401367, -24.504831314086914, 14.75699234008789, -25.263336181640625, 20.39921760559082, 18.71525001525879, 20.463605880737305, -10.144323348999023, -7.198349475860596, -16.493667602539062, 28.407970428466797, -28.70258140563965, 9.689361572265625, -4.705694675445557, -20.492761611938477, 19.00335121154785, 13.520343780517578, 15.656453132629395, -17.088178634643555, 2.137267827987671, 21.53877830505371, 9.925230026245117, -24.26105499267578, 6.71804666519165, -11.877514839172363], \"xaxis\": \"x\", \"y\": [6.524656295776367, -33.35367965698242, -3.504617214202881, -5.30273962020874, -36.65294647216797, 43.75652313232422, -34.634788513183594, -25.129892349243164, 43.26693344116211, 4.148791313171387, 26.39739990234375, -29.221385955810547, -21.069984436035156, -18.364774703979492, -22.692747116088867, 21.951295852661133, 0.5589579939842224, 18.019084930419922, -3.7608139514923096, -3.8721368312835693, 18.032611846923828, -13.98584270477295, -15.211315155029297, -35.41994094848633, -46.24509811401367, 42.27592086791992, -40.2026481628418, -39.78630447387695, 13.783369064331055, -25.860286712646484, 5.613359451293945, 28.40218734741211, -8.378870964050293, 24.971586227416992, -25.595590591430664, -26.12689781188965, 13.803339958190918, 15.766352653503418, 5.218765735626221, -16.03778076171875, -25.750362396240234, -41.45669174194336, -6.434197902679443, -12.533992767333984, 13.373808860778809, 22.40752601623535, 19.959918975830078, -20.477703094482422, -1.498120903968811, 12.839224815368652, -2.006002187728882, 3.224590301513672, 34.78330993652344, -37.37654113769531, 25.22993278503418, 5.105445861816406, 7.091240406036377, 27.66257095336914, 24.604965209960938, -47.13640213012695, -40.4204216003418, 17.301063537597656, 30.354175567626953, 11.98763656616211, 7.110651016235352, -16.798370361328125, -30.03760528564453, -48.92957305908203, 9.221990585327148, 26.046588897705078, -1.6688350439071655, 29.133525848388672, 43.408111572265625, -29.652746200561523, -2.705629587173462, -21.02970314025879, 5.723845481872559, 7.646984100341797, 5.583601951599121, 30.907207489013672, 29.560693740844727, 37.31114959716797, 18.250707626342773, 7.381819248199463, 9.1812162399292, 4.280730247497559, 13.849494934082031, 11.057116508483887, -7.796928405761719, 12.59344482421875, 0.05085885524749756, -17.99295997619629, 22.355289459228516, 16.344064712524414, -32.86387252807617, 10.239368438720703, 43.23752212524414, -24.851551055908203, 41.18597412109375, -37.68028259277344, 13.393781661987305, 7.51710844039917, 12.310312271118164, 6.211033344268799, -44.4838981628418, 7.094696521759033, -5.241652965545654, 20.698450088500977, -17.00289535522461, 14.345420837402344, 6.771700382232666, 38.9485969543457, -31.603511810302734, 4.566521644592285, -30.565855026245117, 42.644859313964844, -10.508843421936035, -38.02412796020508, -27.58138656616211, -41.95888137817383, -27.99849510192871, -22.299636840820312, -32.25862503051758, 36.838462829589844, 5.512511253356934, 26.38627815246582, 13.273616790771484, -9.261548042297363, -3.5563466548919678, -8.021740913391113, 17.043909072875977, 21.05658721923828, 3.5949885845184326, 23.84906768798828, 47.67621994018555, -22.225852966308594, 43.49384307861328, -25.309123992919922, 30.10169219970703, 10.17259407043457, 41.02005386352539, -3.47696590423584, 23.069255828857422, 39.55567169189453, 19.671714782714844, 10.129229545593262, 15.1875638961792, -30.652145385742188, -2.9998395442962646, 29.415496826171875, 38.65595626831055, -6.508414268493652, 37.95354461669922, 11.766164779663086, 22.491682052612305, 4.3300089836120605, -40.890647888183594, 7.762807369232178, 37.87260437011719, 31.425249099731445, 0.17397218942642212, -22.329757690429688, -8.104730606079102, 19.04568099975586, -25.581079483032227, 21.00910186767578, -19.5247859954834, 28.038530349731445, -3.5331294536590576, 19.33811378479004, -35.734222412109375, -31.434162139892578, 47.88209533691406, -0.3413739800453186, -51.544151306152344, 2.9714772701263428, 6.865142822265625, -39.32550811767578, 9.819181442260742, 19.5098876953125, 20.365236282348633, -11.031850814819336, 2.6244914531707764, -3.317498207092285, 42.09075164794922, -27.096864700317383, 46.78632354736328, 8.645849227905273, -48.50102996826172, -48.864723205566406, -14.962790489196777, 24.37457275390625, -44.2529296875, -2.231978416442871, -20.598024368286133, -33.528175354003906, 18.71772003173828], \"yaxis\": \"y\"}],\n",
       "                        {\"grid\": {\"xaxes\": [\"x\"], \"xgap\": 0.1, \"xside\": \"bottom\", \"yaxes\": [\"y\"], \"ygap\": 0.1, \"yside\": \"left\"}, \"height\": 600, \"legend\": {\"tracegroupgap\": 0}, \"margin\": {\"t\": 60}, \"template\": {\"data\": {\"bar\": [{\"marker\": {\"line\": {\"color\": \"#E5ECF6\", \"width\": 0.5}}, \"type\": \"bar\"}], \"barpolar\": [{\"marker\": {\"line\": {\"color\": \"#E5ECF6\", \"width\": 0.5}}, \"type\": \"barpolar\"}], \"carpet\": [{\"aaxis\": {\"endlinecolor\": \"#2a3f5f\", \"gridcolor\": \"white\", \"linecolor\": \"white\", \"minorgridcolor\": \"white\", \"startlinecolor\": \"#2a3f5f\"}, \"baxis\": {\"endlinecolor\": \"#2a3f5f\", \"gridcolor\": \"white\", \"linecolor\": \"white\", \"minorgridcolor\": \"white\", \"startlinecolor\": \"#2a3f5f\"}, \"type\": \"carpet\"}], \"choropleth\": [{\"colorbar\": {\"outlinewidth\": 0, \"ticks\": \"\"}, \"type\": \"choropleth\"}], \"contour\": [{\"colorbar\": {\"outlinewidth\": 0, \"ticks\": \"\"}, \"colorscale\": [[0.0, \"#0508b8\"], [0.0893854748603352, \"#1910d8\"], [0.1787709497206704, \"#3c19f0\"], [0.2681564245810056, \"#6b1cfb\"], [0.3575418994413408, \"#981cfd\"], [0.44692737430167595, \"#bf1cfd\"], [0.5363128491620112, \"#dd2bfd\"], [0.6256983240223464, \"#f246fe\"], [0.7150837988826816, \"#fc67fd\"], [0.8044692737430168, \"#fe88fc\"], [0.8938547486033519, \"#fea5fd\"], [0.9832402234636871, \"#febefe\"], [1.0, \"#fec3fe\"]], \"type\": \"contour\"}], \"contourcarpet\": [{\"colorbar\": {\"outlinewidth\": 0, \"ticks\": \"\"}, \"type\": \"contourcarpet\"}], \"heatmap\": [{\"colorbar\": {\"outlinewidth\": 0, \"ticks\": \"\"}, \"colorscale\": [[0.0, \"#0508b8\"], [0.0893854748603352, \"#1910d8\"], [0.1787709497206704, \"#3c19f0\"], [0.2681564245810056, \"#6b1cfb\"], [0.3575418994413408, \"#981cfd\"], [0.44692737430167595, \"#bf1cfd\"], [0.5363128491620112, \"#dd2bfd\"], [0.6256983240223464, \"#f246fe\"], [0.7150837988826816, \"#fc67fd\"], [0.8044692737430168, \"#fe88fc\"], [0.8938547486033519, \"#fea5fd\"], [0.9832402234636871, \"#febefe\"], [1.0, \"#fec3fe\"]], \"type\": \"heatmap\"}], \"heatmapgl\": [{\"colorbar\": {\"outlinewidth\": 0, \"ticks\": \"\"}, \"type\": \"heatmapgl\"}], \"histogram\": [{\"marker\": {\"colorbar\": {\"outlinewidth\": 0, \"ticks\": \"\"}}, \"type\": \"histogram\"}], \"histogram2d\": [{\"colorbar\": {\"outlinewidth\": 0, \"ticks\": \"\"}, \"colorscale\": [[0.0, \"#0508b8\"], [0.0893854748603352, \"#1910d8\"], [0.1787709497206704, \"#3c19f0\"], [0.2681564245810056, \"#6b1cfb\"], [0.3575418994413408, \"#981cfd\"], [0.44692737430167595, \"#bf1cfd\"], [0.5363128491620112, \"#dd2bfd\"], [0.6256983240223464, \"#f246fe\"], [0.7150837988826816, \"#fc67fd\"], [0.8044692737430168, \"#fe88fc\"], [0.8938547486033519, \"#fea5fd\"], [0.9832402234636871, \"#febefe\"], [1.0, \"#fec3fe\"]], \"type\": \"histogram2d\"}], \"histogram2dcontour\": [{\"colorbar\": {\"outlinewidth\": 0, \"ticks\": \"\"}, \"colorscale\": [[0.0, \"#0508b8\"], [0.0893854748603352, \"#1910d8\"], [0.1787709497206704, \"#3c19f0\"], [0.2681564245810056, \"#6b1cfb\"], [0.3575418994413408, \"#981cfd\"], [0.44692737430167595, \"#bf1cfd\"], [0.5363128491620112, \"#dd2bfd\"], [0.6256983240223464, \"#f246fe\"], [0.7150837988826816, \"#fc67fd\"], [0.8044692737430168, \"#fe88fc\"], [0.8938547486033519, \"#fea5fd\"], [0.9832402234636871, \"#febefe\"], [1.0, \"#fec3fe\"]], \"type\": \"histogram2dcontour\"}], \"mesh3d\": [{\"colorbar\": {\"outlinewidth\": 0, \"ticks\": \"\"}, \"type\": \"mesh3d\"}], \"parcoords\": [{\"line\": {\"colorbar\": {\"outlinewidth\": 0, \"ticks\": \"\"}}, \"type\": \"parcoords\"}], \"scatter\": [{\"marker\": {\"colorbar\": {\"outlinewidth\": 0, \"ticks\": \"\"}}, \"type\": \"scatter\"}], \"scatter3d\": [{\"marker\": {\"colorbar\": {\"outlinewidth\": 0, \"ticks\": \"\"}}, \"type\": \"scatter3d\"}], \"scattercarpet\": [{\"marker\": {\"colorbar\": {\"outlinewidth\": 0, \"ticks\": \"\"}}, \"type\": \"scattercarpet\"}], \"scattergeo\": [{\"marker\": {\"colorbar\": {\"outlinewidth\": 0, \"ticks\": \"\"}}, \"type\": \"scattergeo\"}], \"scattergl\": [{\"marker\": {\"colorbar\": {\"outlinewidth\": 0, \"ticks\": \"\"}}, \"type\": \"scattergl\"}], \"scattermapbox\": [{\"marker\": {\"colorbar\": {\"outlinewidth\": 0, \"ticks\": \"\"}}, \"type\": \"scattermapbox\"}], \"scatterpolar\": [{\"marker\": {\"colorbar\": {\"outlinewidth\": 0, \"ticks\": \"\"}}, \"type\": \"scatterpolar\"}], \"scatterpolargl\": [{\"marker\": {\"colorbar\": {\"outlinewidth\": 0, \"ticks\": \"\"}}, \"type\": \"scatterpolargl\"}], \"scatterternary\": [{\"marker\": {\"colorbar\": {\"outlinewidth\": 0, \"ticks\": \"\"}}, \"type\": \"scatterternary\"}], \"surface\": [{\"colorbar\": {\"outlinewidth\": 0, \"ticks\": \"\"}, \"type\": \"surface\"}], \"table\": [{\"cells\": {\"fill\": {\"color\": \"#EBF0F8\"}, \"line\": {\"color\": \"white\"}}, \"header\": {\"fill\": {\"color\": \"#C8D4E3\"}, \"line\": {\"color\": \"white\"}}, \"type\": \"table\"}]}, \"layout\": {\"annotationdefaults\": {\"arrowcolor\": \"#506784\", \"arrowhead\": 0, \"arrowwidth\": 1}, \"colorscale\": {\"diverging\": [[0, \"#8e0152\"], [0.1, \"#c51b7d\"], [0.2, \"#de77ae\"], [0.3, \"#f1b6da\"], [0.4, \"#fde0ef\"], [0.5, \"#f7f7f7\"], [0.6, \"#e6f5d0\"], [0.7, \"#b8e186\"], [0.8, \"#7fbc41\"], [0.9, \"#4d9221\"], [1, \"#276419\"]], \"sequential\": [[0.0, \"#0508b8\"], [0.0893854748603352, \"#1910d8\"], [0.1787709497206704, \"#3c19f0\"], [0.2681564245810056, \"#6b1cfb\"], [0.3575418994413408, \"#981cfd\"], [0.44692737430167595, \"#bf1cfd\"], [0.5363128491620112, \"#dd2bfd\"], [0.6256983240223464, \"#f246fe\"], [0.7150837988826816, \"#fc67fd\"], [0.8044692737430168, \"#fe88fc\"], [0.8938547486033519, \"#fea5fd\"], [0.9832402234636871, \"#febefe\"], [1.0, \"#fec3fe\"]], \"sequentialminus\": [[0.0, \"#0508b8\"], [0.0893854748603352, \"#1910d8\"], [0.1787709497206704, \"#3c19f0\"], [0.2681564245810056, \"#6b1cfb\"], [0.3575418994413408, \"#981cfd\"], [0.44692737430167595, \"#bf1cfd\"], [0.5363128491620112, \"#dd2bfd\"], [0.6256983240223464, \"#f246fe\"], [0.7150837988826816, \"#fc67fd\"], [0.8044692737430168, \"#fe88fc\"], [0.8938547486033519, \"#fea5fd\"], [0.9832402234636871, \"#febefe\"], [1.0, \"#fec3fe\"]]}, \"colorway\": [\"#636efa\", \"#EF553B\", \"#00cc96\", \"#ab63fa\", \"#19d3f3\", \"#e763fa\", \"#FECB52\", \"#FFA15A\", \"#FF6692\", \"#B6E880\"], \"font\": {\"color\": \"#2a3f5f\"}, \"geo\": {\"bgcolor\": \"white\", \"lakecolor\": \"white\", \"landcolor\": \"#E5ECF6\", \"showlakes\": true, \"showland\": true, \"subunitcolor\": \"white\"}, \"hoverlabel\": {\"align\": \"left\"}, \"hovermode\": \"closest\", \"mapbox\": {\"style\": \"light\"}, \"paper_bgcolor\": \"white\", \"plot_bgcolor\": \"#E5ECF6\", \"polar\": {\"angularaxis\": {\"gridcolor\": \"white\", \"linecolor\": \"white\", \"ticks\": \"\"}, \"bgcolor\": \"#E5ECF6\", \"radialaxis\": {\"gridcolor\": \"white\", \"linecolor\": \"white\", \"ticks\": \"\"}}, \"scene\": {\"xaxis\": {\"backgroundcolor\": \"#E5ECF6\", \"gridcolor\": \"white\", \"gridwidth\": 2, \"linecolor\": \"white\", \"showbackground\": true, \"ticks\": \"\", \"zerolinecolor\": \"white\"}, \"yaxis\": {\"backgroundcolor\": \"#E5ECF6\", \"gridcolor\": \"white\", \"gridwidth\": 2, \"linecolor\": \"white\", \"showbackground\": true, \"ticks\": \"\", \"zerolinecolor\": \"white\"}, \"zaxis\": {\"backgroundcolor\": \"#E5ECF6\", \"gridcolor\": \"white\", \"gridwidth\": 2, \"linecolor\": \"white\", \"showbackground\": true, \"ticks\": \"\", \"zerolinecolor\": \"white\"}}, \"shapedefaults\": {\"fillcolor\": \"#506784\", \"line\": {\"width\": 0}, \"opacity\": 0.4}, \"ternary\": {\"aaxis\": {\"gridcolor\": \"white\", \"linecolor\": \"white\", \"ticks\": \"\"}, \"baxis\": {\"gridcolor\": \"white\", \"linecolor\": \"white\", \"ticks\": \"\"}, \"bgcolor\": \"#E5ECF6\", \"caxis\": {\"gridcolor\": \"white\", \"linecolor\": \"white\", \"ticks\": \"\"}}, \"title\": {\"x\": 0.05}, \"xaxis\": {\"automargin\": true, \"gridcolor\": \"white\", \"linecolor\": \"white\", \"ticks\": \"\", \"zerolinecolor\": \"white\", \"zerolinewidth\": 2}, \"yaxis\": {\"automargin\": true, \"gridcolor\": \"white\", \"linecolor\": \"white\", \"ticks\": \"\", \"zerolinecolor\": \"white\", \"zerolinewidth\": 2}}}, \"xaxis\": {\"title\": {\"text\": \"x\"}}, \"yaxis\": {\"title\": {\"text\": \"y\"}}},\n",
       "                        {\"responsive\": true, \"plotlyServerURL\": \"https://plot.ly\", \"linkText\": \"Export to plot.ly\", \"showLink\": false}\n",
       "                    ).then(function(){\n",
       "                            \n",
       "var gd = document.getElementById('b68ca848-bf77-4ae3-ac71-1174b4985957');\n",
       "var x = new MutationObserver(function (mutations, observer) {{\n",
       "        var display = window.getComputedStyle(gd).display;\n",
       "        if (!display || display === 'none') {{\n",
       "            console.log([gd, 'removed!']);\n",
       "            Plotly.purge(gd);\n",
       "            observer.disconnect();\n",
       "        }}\n",
       "}});\n",
       "\n",
       "// Listen for the removal of the full notebook cells\n",
       "var notebookContainer = gd.closest('#notebook-container');\n",
       "if (notebookContainer) {{\n",
       "    x.observe(notebookContainer, {childList: true});\n",
       "}}\n",
       "\n",
       "// Listen for the clearing of the current output cell\n",
       "var outputEl = gd.closest('.output');\n",
       "if (outputEl) {{\n",
       "    x.observe(outputEl, {childList: true});\n",
       "}}\n",
       "\n",
       "                        })\n",
       "                };\n",
       "                });\n",
       "            </script>\n",
       "        </div>"
      ]
     },
     "metadata": {},
     "output_type": "display_data"
    }
   ],
   "source": [
    "transformed = model.fit_transform(norm_data)\n",
    "\n",
    "transformed_df = pd.DataFrame({\"x\": transformed[:,0],\n",
    "                               \"y\": transformed[:,1],\n",
    "                               \"label\": labels,\n",
    "                              })\n",
    "px.scatter(transformed_df,\n",
    "           x=\"x\",\n",
    "           y=\"y\",\n",
    "           hover_name='label'\n",
    "          )"
   ]
  },
  {
   "cell_type": "code",
   "execution_count": null,
   "metadata": {},
   "outputs": [],
   "source": []
  },
  {
   "cell_type": "code",
   "execution_count": null,
   "metadata": {},
   "outputs": [],
   "source": []
  }
 ],
 "metadata": {
  "kernelspec": {
   "display_name": "Python 3",
   "language": "python",
   "name": "python3"
  },
  "language_info": {
   "codemirror_mode": {
    "name": "ipython",
    "version": 2
   },
   "file_extension": ".py",
   "mimetype": "text/x-python",
   "name": "python",
   "nbconvert_exporter": "python",
   "pygments_lexer": "ipython2",
   "version": "2.7.16"
  }
 },
 "nbformat": 4,
 "nbformat_minor": 2
}
